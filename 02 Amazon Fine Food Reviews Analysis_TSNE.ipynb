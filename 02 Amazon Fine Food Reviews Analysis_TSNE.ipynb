{
 "cells": [
  {
   "cell_type": "markdown",
   "metadata": {
    "colab_type": "text",
    "id": "X-cp_kAxCAY2"
   },
   "source": [
    "# Amazon Fine Food Reviews Analysis\n",
    "\n",
    "\n",
    "Data Source: https://www.kaggle.com/snap/amazon-fine-food-reviews <br>\n",
    "\n",
    "EDA: https://nycdatascience.com/blog/student-works/amazon-fine-foods-visualization/\n",
    "\n",
    "\n",
    "The Amazon Fine Food Reviews dataset consists of reviews of fine foods from Amazon.<br>\n",
    "\n",
    "Number of reviews: 568,454<br>\n",
    "Number of users: 256,059<br>\n",
    "Number of products: 74,258<br>\n",
    "Timespan: Oct 1999 - Oct 2012<br>\n",
    "Number of Attributes/Columns in data: 10 \n",
    "\n",
    "Attribute Information:\n",
    "\n",
    "1. Id\n",
    "2. ProductId - unique identifier for the product\n",
    "3. UserId - unqiue identifier for the user\n",
    "4. ProfileName\n",
    "5. HelpfulnessNumerator - number of users who found the review helpful\n",
    "6. HelpfulnessDenominator - number of users who indicated whether they found the review helpful or not\n",
    "7. Score - rating between 1 and 5\n",
    "8. Time - timestamp for the review\n",
    "9. Summary - brief summary of the review\n",
    "10. Text - text of the review\n",
    "\n",
    "\n",
    "#### Objective:\n",
    "Given a review, determine whether the review is positive (Rating of 4 or 5) or negative (rating of 1 or 2).\n",
    "\n",
    "<br>\n",
    "[Q] How to determine if a review is positive or negative?<br>\n",
    "<br> \n",
    "[Ans] We could use the Score/Rating. A rating of 4 or 5 could be cosnidered a positive review. A review of 1 or 2 could be considered negative. A review of 3 is nuetral and ignored. This is an approximate and proxy way of determining the polarity (positivity/negativity) of a review.\n",
    "\n",
    "\n"
   ]
  },
  {
   "cell_type": "markdown",
   "metadata": {
    "colab_type": "text",
    "id": "WHC_UQTuCAY4"
   },
   "source": [
    "## Loading the data\n",
    "\n",
    "The dataset is available in two forms\n",
    "1. .csv file\n",
    "2. SQLite Database\n",
    "\n",
    "In order to load the data, We have used the SQLITE dataset as it easier to query the data and visualise the data efficiently.\n",
    "<br> \n",
    "\n",
    "Here as we only want to get the global sentiment of the recommendations (positive or negative), we will purposefully ignore all Scores equal to 3. If the score id above 3, then the recommendation wil be set to \"positive\". Otherwise, it will be set to \"negative\"."
   ]
  },
  {
   "cell_type": "code",
   "execution_count": 1,
   "metadata": {},
   "outputs": [
    {
     "ename": "SyntaxError",
     "evalue": "invalid syntax (<ipython-input-1-7a2deb909376>, line 1)",
     "output_type": "error",
     "traceback": [
      "\u001b[1;36m  File \u001b[1;32m\"<ipython-input-1-7a2deb909376>\"\u001b[1;36m, line \u001b[1;32m1\u001b[0m\n\u001b[1;33m    pip3 install gensim\u001b[0m\n\u001b[1;37m               ^\u001b[0m\n\u001b[1;31mSyntaxError\u001b[0m\u001b[1;31m:\u001b[0m invalid syntax\n"
     ]
    }
   ],
   "source": [
    "#pip3 install gensim\n",
    "\n"
   ]
  },
  {
   "cell_type": "code",
   "execution_count": 2,
   "metadata": {
    "colab": {},
    "colab_type": "code",
    "id": "PvDdRsHgCAY5",
    "outputId": "65b237f2-2ead-4721-f95a-15ed0bb06d04"
   },
   "outputs": [
    {
     "name": "stderr",
     "output_type": "stream",
     "text": [
      "C:\\Users\\Blue\\Anaconda3\\lib\\site-packages\\smart_open\\ssh.py:34: UserWarning: paramiko missing, opening SSH/SCP/SFTP paths will be disabled.  `pip install paramiko` to suppress\n",
      "  warnings.warn('paramiko missing, opening SSH/SCP/SFTP paths will be disabled.  `pip install paramiko` to suppress')\n",
      "C:\\Users\\Blue\\Anaconda3\\lib\\site-packages\\gensim\\utils.py:1197: UserWarning: detected Windows; aliasing chunkize to chunkize_serial\n",
      "  warnings.warn(\"detected Windows; aliasing chunkize to chunkize_serial\")\n"
     ]
    }
   ],
   "source": [
    "%matplotlib inline\n",
    "import warnings\n",
    "warnings.filterwarnings(\"ignore\")\n",
    "\n",
    "\n",
    "\n",
    "import sqlite3\n",
    "import pandas as pd\n",
    "import numpy as np\n",
    "import nltk\n",
    "import string\n",
    "import matplotlib.pyplot as plt\n",
    "import seaborn as sns\n",
    "from sklearn.feature_extraction.text import TfidfTransformer\n",
    "from sklearn.feature_extraction.text import TfidfVectorizer\n",
    "\n",
    "from sklearn.feature_extraction.text import CountVectorizer\n",
    "from sklearn.metrics import confusion_matrix\n",
    "from sklearn import metrics\n",
    "from sklearn.metrics import roc_curve, auc\n",
    "from nltk.stem.porter import PorterStemmer\n",
    "\n",
    "import re\n",
    "# Tutorial about Python regular expressions: https://pymotw.com/2/re/\n",
    "import string\n",
    "from nltk.corpus import stopwords\n",
    "from nltk.stem import PorterStemmer\n",
    "from nltk.stem.wordnet import WordNetLemmatizer\n",
    "\n",
    "from gensim.models import Word2Vec\n",
    "from gensim.models import KeyedVectors\n",
    "import pickle\n",
    "\n",
    "from tqdm import tqdm\n",
    "import os"
   ]
  },
  {
   "cell_type": "markdown",
   "metadata": {
    "colab_type": "text",
    "id": "QOI7X2YgCAY_"
   },
   "source": [
    "# [1]. Reading Data"
   ]
  },
  {
   "cell_type": "code",
   "execution_count": 3,
   "metadata": {
    "colab": {},
    "colab_type": "code",
    "id": "3iYH2p1ECAZA",
    "outputId": "3feca330-8e21-4173-ad7c-88eb4d81668e"
   },
   "outputs": [
    {
     "name": "stdout",
     "output_type": "stream",
     "text": [
      "Number of data points in our data (5000, 10)\n"
     ]
    },
    {
     "data": {
      "text/html": [
       "<div>\n",
       "<style scoped>\n",
       "    .dataframe tbody tr th:only-of-type {\n",
       "        vertical-align: middle;\n",
       "    }\n",
       "\n",
       "    .dataframe tbody tr th {\n",
       "        vertical-align: top;\n",
       "    }\n",
       "\n",
       "    .dataframe thead th {\n",
       "        text-align: right;\n",
       "    }\n",
       "</style>\n",
       "<table border=\"1\" class=\"dataframe\">\n",
       "  <thead>\n",
       "    <tr style=\"text-align: right;\">\n",
       "      <th></th>\n",
       "      <th>Id</th>\n",
       "      <th>ProductId</th>\n",
       "      <th>UserId</th>\n",
       "      <th>ProfileName</th>\n",
       "      <th>HelpfulnessNumerator</th>\n",
       "      <th>HelpfulnessDenominator</th>\n",
       "      <th>Score</th>\n",
       "      <th>Time</th>\n",
       "      <th>Summary</th>\n",
       "      <th>Text</th>\n",
       "    </tr>\n",
       "  </thead>\n",
       "  <tbody>\n",
       "    <tr>\n",
       "      <th>0</th>\n",
       "      <td>1</td>\n",
       "      <td>B001E4KFG0</td>\n",
       "      <td>A3SGXH7AUHU8GW</td>\n",
       "      <td>delmartian</td>\n",
       "      <td>1</td>\n",
       "      <td>1</td>\n",
       "      <td>1</td>\n",
       "      <td>1303862400</td>\n",
       "      <td>Good Quality Dog Food</td>\n",
       "      <td>I have bought several of the Vitality canned d...</td>\n",
       "    </tr>\n",
       "    <tr>\n",
       "      <th>1</th>\n",
       "      <td>2</td>\n",
       "      <td>B00813GRG4</td>\n",
       "      <td>A1D87F6ZCVE5NK</td>\n",
       "      <td>dll pa</td>\n",
       "      <td>0</td>\n",
       "      <td>0</td>\n",
       "      <td>0</td>\n",
       "      <td>1346976000</td>\n",
       "      <td>Not as Advertised</td>\n",
       "      <td>Product arrived labeled as Jumbo Salted Peanut...</td>\n",
       "    </tr>\n",
       "    <tr>\n",
       "      <th>2</th>\n",
       "      <td>3</td>\n",
       "      <td>B000LQOCH0</td>\n",
       "      <td>ABXLMWJIXXAIN</td>\n",
       "      <td>Natalia Corres \"Natalia Corres\"</td>\n",
       "      <td>1</td>\n",
       "      <td>1</td>\n",
       "      <td>1</td>\n",
       "      <td>1219017600</td>\n",
       "      <td>\"Delight\" says it all</td>\n",
       "      <td>This is a confection that has been around a fe...</td>\n",
       "    </tr>\n",
       "  </tbody>\n",
       "</table>\n",
       "</div>"
      ],
      "text/plain": [
       "   Id   ProductId          UserId                      ProfileName  \\\n",
       "0   1  B001E4KFG0  A3SGXH7AUHU8GW                       delmartian   \n",
       "1   2  B00813GRG4  A1D87F6ZCVE5NK                           dll pa   \n",
       "2   3  B000LQOCH0   ABXLMWJIXXAIN  Natalia Corres \"Natalia Corres\"   \n",
       "\n",
       "   HelpfulnessNumerator  HelpfulnessDenominator  Score        Time  \\\n",
       "0                     1                       1      1  1303862400   \n",
       "1                     0                       0      0  1346976000   \n",
       "2                     1                       1      1  1219017600   \n",
       "\n",
       "                 Summary                                               Text  \n",
       "0  Good Quality Dog Food  I have bought several of the Vitality canned d...  \n",
       "1      Not as Advertised  Product arrived labeled as Jumbo Salted Peanut...  \n",
       "2  \"Delight\" says it all  This is a confection that has been around a fe...  "
      ]
     },
     "execution_count": 3,
     "metadata": {},
     "output_type": "execute_result"
    }
   ],
   "source": [
    "\n",
    "# using the SQLite Table to read data.\n",
    "con = sqlite3.connect('database.sqlite') \n",
    "#filtering only positive and negative reviews i.e. \n",
    "# not taking into consideration those reviews with Score=3\n",
    "# SELECT * FROM Reviews WHERE Score != 3 LIMIT 500000, will give top 500000 data points\n",
    "# you can change the number to any other number based on your computing power\n",
    "\n",
    "# filtered_data = pd.read_sql_query(\"\"\" SELECT * FROM Reviews WHERE Score != 3 LIMIT 500000\"\"\", con) \n",
    "# for tsne assignment you can take 5k data points\n",
    "\n",
    "filtered_data = pd.read_sql_query(\"\"\" SELECT * FROM Reviews WHERE Score != 3 LIMIT 5000\"\"\", con) \n",
    "\n",
    "# Give reviews with Score>3 a positive rating, and reviews with a score<3 a negative rating.\n",
    "def partition(x):\n",
    "    if x < 3:\n",
    "        return 0\n",
    "    return 1\n",
    "\n",
    "#changing reviews with score less than 3 to be positive and vice-versa\n",
    "actualScore = filtered_data['Score']\n",
    "positiveNegative = actualScore.map(partition) \n",
    "filtered_data['Score'] = positiveNegative\n",
    "print(\"Number of data points in our data\", filtered_data.shape)\n",
    "filtered_data.head(3)"
   ]
  },
  {
   "cell_type": "code",
   "execution_count": 58,
   "metadata": {},
   "outputs": [
    {
     "data": {
      "text/plain": [
       "0     1\n",
       "1     0\n",
       "2     1\n",
       "3     0\n",
       "4     1\n",
       "5     1\n",
       "6     1\n",
       "7     1\n",
       "8     1\n",
       "9     1\n",
       "10    1\n",
       "11    1\n",
       "12    0\n",
       "13    1\n",
       "14    1\n",
       "15    1\n",
       "16    0\n",
       "17    1\n",
       "18    1\n",
       "19    1\n",
       "20    1\n",
       "21    1\n",
       "22    1\n",
       "23    1\n",
       "24    1\n",
       "25    1\n",
       "26    0\n",
       "27    1\n",
       "28    1\n",
       "29    1\n",
       "30    1\n",
       "31    1\n",
       "32    1\n",
       "33    1\n",
       "34    1\n",
       "35    1\n",
       "36    1\n",
       "37    1\n",
       "38    1\n",
       "39    1\n",
       "40    1\n",
       "41    1\n",
       "42    1\n",
       "43    1\n",
       "44    1\n",
       "45    1\n",
       "46    1\n",
       "47    0\n",
       "48    1\n",
       "49    1\n",
       "Name: Score, dtype: int64"
      ]
     },
     "execution_count": 58,
     "metadata": {},
     "output_type": "execute_result"
    }
   ],
   "source": []
  },
  {
   "cell_type": "code",
   "execution_count": 4,
   "metadata": {
    "colab": {},
    "colab_type": "code",
    "id": "I1jf03kECAZF"
   },
   "outputs": [],
   "source": [
    "display = pd.read_sql_query(\"\"\"\n",
    "SELECT UserId, ProductId, ProfileName, Time, Score, Text, COUNT(*)\n",
    "FROM Reviews\n",
    "GROUP BY UserId\n",
    "HAVING COUNT(*)>1\n",
    "\"\"\", con)"
   ]
  },
  {
   "cell_type": "code",
   "execution_count": 6,
   "metadata": {
    "colab": {},
    "colab_type": "code",
    "id": "Ja8xSefOCAZH",
    "outputId": "2cbd0705-618b-47cf-ce18-f3d0d4063cbf"
   },
   "outputs": [
    {
     "name": "stdout",
     "output_type": "stream",
     "text": [
      "(80668, 7)\n"
     ]
    },
    {
     "data": {
      "text/html": [
       "<div>\n",
       "<style scoped>\n",
       "    .dataframe tbody tr th:only-of-type {\n",
       "        vertical-align: middle;\n",
       "    }\n",
       "\n",
       "    .dataframe tbody tr th {\n",
       "        vertical-align: top;\n",
       "    }\n",
       "\n",
       "    .dataframe thead th {\n",
       "        text-align: right;\n",
       "    }\n",
       "</style>\n",
       "<table border=\"1\" class=\"dataframe\">\n",
       "  <thead>\n",
       "    <tr style=\"text-align: right;\">\n",
       "      <th></th>\n",
       "      <th>UserId</th>\n",
       "      <th>ProductId</th>\n",
       "      <th>ProfileName</th>\n",
       "      <th>Time</th>\n",
       "      <th>Score</th>\n",
       "      <th>Text</th>\n",
       "      <th>COUNT(*)</th>\n",
       "    </tr>\n",
       "  </thead>\n",
       "  <tbody>\n",
       "    <tr>\n",
       "      <th>0</th>\n",
       "      <td>#oc-R115TNMSPFT9I7</td>\n",
       "      <td>B005ZBZLT4</td>\n",
       "      <td>Breyton</td>\n",
       "      <td>1331510400</td>\n",
       "      <td>2</td>\n",
       "      <td>Overall its just OK when considering the price...</td>\n",
       "      <td>2</td>\n",
       "    </tr>\n",
       "    <tr>\n",
       "      <th>1</th>\n",
       "      <td>#oc-R11D9D7SHXIJB9</td>\n",
       "      <td>B005HG9ESG</td>\n",
       "      <td>Louis E. Emory \"hoppy\"</td>\n",
       "      <td>1342396800</td>\n",
       "      <td>5</td>\n",
       "      <td>My wife has recurring extreme muscle spasms, u...</td>\n",
       "      <td>3</td>\n",
       "    </tr>\n",
       "    <tr>\n",
       "      <th>2</th>\n",
       "      <td>#oc-R11DNU2NBKQ23Z</td>\n",
       "      <td>B005ZBZLT4</td>\n",
       "      <td>Kim Cieszykowski</td>\n",
       "      <td>1348531200</td>\n",
       "      <td>1</td>\n",
       "      <td>This coffee is horrible and unfortunately not ...</td>\n",
       "      <td>2</td>\n",
       "    </tr>\n",
       "    <tr>\n",
       "      <th>3</th>\n",
       "      <td>#oc-R11O5J5ZVQE25C</td>\n",
       "      <td>B005HG9ESG</td>\n",
       "      <td>Penguin Chick</td>\n",
       "      <td>1346889600</td>\n",
       "      <td>5</td>\n",
       "      <td>This will be the bottle that you grab from the...</td>\n",
       "      <td>3</td>\n",
       "    </tr>\n",
       "    <tr>\n",
       "      <th>4</th>\n",
       "      <td>#oc-R12KPBODL2B5ZD</td>\n",
       "      <td>B007OSBEV0</td>\n",
       "      <td>Christopher P. Presta</td>\n",
       "      <td>1348617600</td>\n",
       "      <td>1</td>\n",
       "      <td>I didnt like this coffee. Instead of telling y...</td>\n",
       "      <td>2</td>\n",
       "    </tr>\n",
       "  </tbody>\n",
       "</table>\n",
       "</div>"
      ],
      "text/plain": [
       "               UserId   ProductId             ProfileName        Time  Score  \\\n",
       "0  #oc-R115TNMSPFT9I7  B005ZBZLT4                 Breyton  1331510400      2   \n",
       "1  #oc-R11D9D7SHXIJB9  B005HG9ESG  Louis E. Emory \"hoppy\"  1342396800      5   \n",
       "2  #oc-R11DNU2NBKQ23Z  B005ZBZLT4        Kim Cieszykowski  1348531200      1   \n",
       "3  #oc-R11O5J5ZVQE25C  B005HG9ESG           Penguin Chick  1346889600      5   \n",
       "4  #oc-R12KPBODL2B5ZD  B007OSBEV0   Christopher P. Presta  1348617600      1   \n",
       "\n",
       "                                                Text  COUNT(*)  \n",
       "0  Overall its just OK when considering the price...         2  \n",
       "1  My wife has recurring extreme muscle spasms, u...         3  \n",
       "2  This coffee is horrible and unfortunately not ...         2  \n",
       "3  This will be the bottle that you grab from the...         3  \n",
       "4  I didnt like this coffee. Instead of telling y...         2  "
      ]
     },
     "execution_count": 6,
     "metadata": {},
     "output_type": "execute_result"
    }
   ],
   "source": [
    "print(display.shape)\n",
    "display.head()"
   ]
  },
  {
   "cell_type": "code",
   "execution_count": 7,
   "metadata": {
    "colab": {},
    "colab_type": "code",
    "id": "u5ctUTW-CAZK",
    "outputId": "41439570-0ff9-44bb-9c05-e87bcb3dd6b7"
   },
   "outputs": [
    {
     "data": {
      "text/html": [
       "<div>\n",
       "<style scoped>\n",
       "    .dataframe tbody tr th:only-of-type {\n",
       "        vertical-align: middle;\n",
       "    }\n",
       "\n",
       "    .dataframe tbody tr th {\n",
       "        vertical-align: top;\n",
       "    }\n",
       "\n",
       "    .dataframe thead th {\n",
       "        text-align: right;\n",
       "    }\n",
       "</style>\n",
       "<table border=\"1\" class=\"dataframe\">\n",
       "  <thead>\n",
       "    <tr style=\"text-align: right;\">\n",
       "      <th></th>\n",
       "      <th>UserId</th>\n",
       "      <th>ProductId</th>\n",
       "      <th>ProfileName</th>\n",
       "      <th>Time</th>\n",
       "      <th>Score</th>\n",
       "      <th>Text</th>\n",
       "      <th>COUNT(*)</th>\n",
       "    </tr>\n",
       "  </thead>\n",
       "  <tbody>\n",
       "    <tr>\n",
       "      <th>80638</th>\n",
       "      <td>AZY10LLTJ71NX</td>\n",
       "      <td>B001ATMQK2</td>\n",
       "      <td>undertheshrine \"undertheshrine\"</td>\n",
       "      <td>1296691200</td>\n",
       "      <td>5</td>\n",
       "      <td>I bought this 6 pack because for the price tha...</td>\n",
       "      <td>5</td>\n",
       "    </tr>\n",
       "  </tbody>\n",
       "</table>\n",
       "</div>"
      ],
      "text/plain": [
       "              UserId   ProductId                      ProfileName        Time  \\\n",
       "80638  AZY10LLTJ71NX  B001ATMQK2  undertheshrine \"undertheshrine\"  1296691200   \n",
       "\n",
       "       Score                                               Text  COUNT(*)  \n",
       "80638      5  I bought this 6 pack because for the price tha...         5  "
      ]
     },
     "execution_count": 7,
     "metadata": {},
     "output_type": "execute_result"
    }
   ],
   "source": [
    "display[display['UserId']=='AZY10LLTJ71NX']"
   ]
  },
  {
   "cell_type": "code",
   "execution_count": 8,
   "metadata": {
    "colab": {},
    "colab_type": "code",
    "id": "tiaXnkZxCAZO",
    "outputId": "0bbd60e6-e66b-4f20-9060-bf0cfe143b1f"
   },
   "outputs": [
    {
     "data": {
      "text/plain": [
       "393063"
      ]
     },
     "execution_count": 8,
     "metadata": {},
     "output_type": "execute_result"
    }
   ],
   "source": [
    "display['COUNT(*)'].sum()"
   ]
  },
  {
   "cell_type": "markdown",
   "metadata": {
    "colab_type": "text",
    "id": "TX5b3dc5CAZS"
   },
   "source": [
    "#  Exploratory Data Analysis\n",
    "\n",
    "## [2] Data Cleaning: Deduplication\n",
    "\n",
    "It is observed (as shown in the table below) that the reviews data had many duplicate entries. Hence it was necessary to remove duplicates in order to get unbiased results for the analysis of the data.  Following is an example:"
   ]
  },
  {
   "cell_type": "code",
   "execution_count": 9,
   "metadata": {
    "colab": {},
    "colab_type": "code",
    "id": "4jW_0WxCCAZT",
    "outputId": "4e526ab2-98f3-46ae-93dc-3e061cb06d59",
    "scrolled": false
   },
   "outputs": [
    {
     "data": {
      "text/html": [
       "<div>\n",
       "<style scoped>\n",
       "    .dataframe tbody tr th:only-of-type {\n",
       "        vertical-align: middle;\n",
       "    }\n",
       "\n",
       "    .dataframe tbody tr th {\n",
       "        vertical-align: top;\n",
       "    }\n",
       "\n",
       "    .dataframe thead th {\n",
       "        text-align: right;\n",
       "    }\n",
       "</style>\n",
       "<table border=\"1\" class=\"dataframe\">\n",
       "  <thead>\n",
       "    <tr style=\"text-align: right;\">\n",
       "      <th></th>\n",
       "      <th>Id</th>\n",
       "      <th>ProductId</th>\n",
       "      <th>UserId</th>\n",
       "      <th>ProfileName</th>\n",
       "      <th>HelpfulnessNumerator</th>\n",
       "      <th>HelpfulnessDenominator</th>\n",
       "      <th>Score</th>\n",
       "      <th>Time</th>\n",
       "      <th>Summary</th>\n",
       "      <th>Text</th>\n",
       "    </tr>\n",
       "  </thead>\n",
       "  <tbody>\n",
       "    <tr>\n",
       "      <th>0</th>\n",
       "      <td>78445</td>\n",
       "      <td>B000HDL1RQ</td>\n",
       "      <td>AR5J8UI46CURR</td>\n",
       "      <td>Geetha Krishnan</td>\n",
       "      <td>2</td>\n",
       "      <td>2</td>\n",
       "      <td>5</td>\n",
       "      <td>1199577600</td>\n",
       "      <td>LOACKER QUADRATINI VANILLA WAFERS</td>\n",
       "      <td>DELICIOUS WAFERS. I FIND THAT EUROPEAN WAFERS ...</td>\n",
       "    </tr>\n",
       "    <tr>\n",
       "      <th>1</th>\n",
       "      <td>138317</td>\n",
       "      <td>B000HDOPYC</td>\n",
       "      <td>AR5J8UI46CURR</td>\n",
       "      <td>Geetha Krishnan</td>\n",
       "      <td>2</td>\n",
       "      <td>2</td>\n",
       "      <td>5</td>\n",
       "      <td>1199577600</td>\n",
       "      <td>LOACKER QUADRATINI VANILLA WAFERS</td>\n",
       "      <td>DELICIOUS WAFERS. I FIND THAT EUROPEAN WAFERS ...</td>\n",
       "    </tr>\n",
       "    <tr>\n",
       "      <th>2</th>\n",
       "      <td>138277</td>\n",
       "      <td>B000HDOPYM</td>\n",
       "      <td>AR5J8UI46CURR</td>\n",
       "      <td>Geetha Krishnan</td>\n",
       "      <td>2</td>\n",
       "      <td>2</td>\n",
       "      <td>5</td>\n",
       "      <td>1199577600</td>\n",
       "      <td>LOACKER QUADRATINI VANILLA WAFERS</td>\n",
       "      <td>DELICIOUS WAFERS. I FIND THAT EUROPEAN WAFERS ...</td>\n",
       "    </tr>\n",
       "    <tr>\n",
       "      <th>3</th>\n",
       "      <td>73791</td>\n",
       "      <td>B000HDOPZG</td>\n",
       "      <td>AR5J8UI46CURR</td>\n",
       "      <td>Geetha Krishnan</td>\n",
       "      <td>2</td>\n",
       "      <td>2</td>\n",
       "      <td>5</td>\n",
       "      <td>1199577600</td>\n",
       "      <td>LOACKER QUADRATINI VANILLA WAFERS</td>\n",
       "      <td>DELICIOUS WAFERS. I FIND THAT EUROPEAN WAFERS ...</td>\n",
       "    </tr>\n",
       "    <tr>\n",
       "      <th>4</th>\n",
       "      <td>155049</td>\n",
       "      <td>B000PAQ75C</td>\n",
       "      <td>AR5J8UI46CURR</td>\n",
       "      <td>Geetha Krishnan</td>\n",
       "      <td>2</td>\n",
       "      <td>2</td>\n",
       "      <td>5</td>\n",
       "      <td>1199577600</td>\n",
       "      <td>LOACKER QUADRATINI VANILLA WAFERS</td>\n",
       "      <td>DELICIOUS WAFERS. I FIND THAT EUROPEAN WAFERS ...</td>\n",
       "    </tr>\n",
       "  </tbody>\n",
       "</table>\n",
       "</div>"
      ],
      "text/plain": [
       "       Id   ProductId         UserId      ProfileName  HelpfulnessNumerator  \\\n",
       "0   78445  B000HDL1RQ  AR5J8UI46CURR  Geetha Krishnan                     2   \n",
       "1  138317  B000HDOPYC  AR5J8UI46CURR  Geetha Krishnan                     2   \n",
       "2  138277  B000HDOPYM  AR5J8UI46CURR  Geetha Krishnan                     2   \n",
       "3   73791  B000HDOPZG  AR5J8UI46CURR  Geetha Krishnan                     2   \n",
       "4  155049  B000PAQ75C  AR5J8UI46CURR  Geetha Krishnan                     2   \n",
       "\n",
       "   HelpfulnessDenominator  Score        Time  \\\n",
       "0                       2      5  1199577600   \n",
       "1                       2      5  1199577600   \n",
       "2                       2      5  1199577600   \n",
       "3                       2      5  1199577600   \n",
       "4                       2      5  1199577600   \n",
       "\n",
       "                             Summary  \\\n",
       "0  LOACKER QUADRATINI VANILLA WAFERS   \n",
       "1  LOACKER QUADRATINI VANILLA WAFERS   \n",
       "2  LOACKER QUADRATINI VANILLA WAFERS   \n",
       "3  LOACKER QUADRATINI VANILLA WAFERS   \n",
       "4  LOACKER QUADRATINI VANILLA WAFERS   \n",
       "\n",
       "                                                Text  \n",
       "0  DELICIOUS WAFERS. I FIND THAT EUROPEAN WAFERS ...  \n",
       "1  DELICIOUS WAFERS. I FIND THAT EUROPEAN WAFERS ...  \n",
       "2  DELICIOUS WAFERS. I FIND THAT EUROPEAN WAFERS ...  \n",
       "3  DELICIOUS WAFERS. I FIND THAT EUROPEAN WAFERS ...  \n",
       "4  DELICIOUS WAFERS. I FIND THAT EUROPEAN WAFERS ...  "
      ]
     },
     "execution_count": 9,
     "metadata": {},
     "output_type": "execute_result"
    }
   ],
   "source": [
    "display= pd.read_sql_query(\"\"\"\n",
    "SELECT *\n",
    "FROM Reviews\n",
    "WHERE Score != 3 AND UserId=\"AR5J8UI46CURR\"\n",
    "ORDER BY ProductID\n",
    "\"\"\", con)\n",
    "display.head()"
   ]
  },
  {
   "cell_type": "markdown",
   "metadata": {
    "colab_type": "text",
    "id": "BzVTlHiMCAZV"
   },
   "source": [
    "As can be seen above the same user has multiple reviews of the with the same values for HelpfulnessNumerator, HelpfulnessDenominator, Score, Time, Summary and Text  and on doing analysis it was found that <br>\n",
    "<br> \n",
    "ProductId=B000HDOPZG was Loacker Quadratini Vanilla Wafer Cookies, 8.82-Ounce Packages (Pack of 8)<br>\n",
    "<br> \n",
    "ProductId=B000HDL1RQ was Loacker Quadratini Lemon Wafer Cookies, 8.82-Ounce Packages (Pack of 8) and so on<br>\n",
    "\n",
    "It was inferred after analysis that reviews with same parameters other than ProductId belonged to the same product just having different flavour or quantity. Hence in order to reduce redundancy it was decided to eliminate the rows having same parameters.<br>\n",
    "\n",
    "The method used for the same was that we first sort the data according to ProductId and then just keep the first similar product review and delelte the others. for eg. in the above just the review for ProductId=B000HDL1RQ remains. This method ensures that there is only one representative for each product and deduplication without sorting would lead to possibility of different representatives still existing for the same product."
   ]
  },
  {
   "cell_type": "code",
   "execution_count": 10,
   "metadata": {
    "colab": {},
    "colab_type": "code",
    "id": "DGy2NM7BCAZX"
   },
   "outputs": [],
   "source": [
    "#Sorting data according to ProductId in ascending order\n",
    "sorted_data=filtered_data.sort_values('ProductId', axis=0, ascending=True, inplace=False, kind='quicksort', na_position='last')"
   ]
  },
  {
   "cell_type": "code",
   "execution_count": 11,
   "metadata": {
    "colab": {},
    "colab_type": "code",
    "id": "8b-O13XVCAZZ",
    "outputId": "12b254d4-826d-4cfc-bb6d-455f4d5b2a4f"
   },
   "outputs": [
    {
     "data": {
      "text/plain": [
       "(4986, 10)"
      ]
     },
     "execution_count": 11,
     "metadata": {},
     "output_type": "execute_result"
    }
   ],
   "source": [
    "#Deduplication of entries\n",
    "final=sorted_data.drop_duplicates(subset={\"UserId\",\"ProfileName\",\"Time\",\"Text\"}, keep='first', inplace=False)\n",
    "final.shape"
   ]
  },
  {
   "cell_type": "code",
   "execution_count": 12,
   "metadata": {
    "colab": {},
    "colab_type": "code",
    "id": "S72Yh-rHCAZc",
    "outputId": "146c067f-081c-4e26-f527-71442ff83b8d"
   },
   "outputs": [
    {
     "data": {
      "text/plain": [
       "99.72"
      ]
     },
     "execution_count": 12,
     "metadata": {},
     "output_type": "execute_result"
    }
   ],
   "source": [
    "#Checking to see how much % of data still remains\n",
    "(final['Id'].size*1.0)/(filtered_data['Id'].size*1.0)*100"
   ]
  },
  {
   "cell_type": "markdown",
   "metadata": {
    "colab_type": "text",
    "id": "LO5nLKeFCAZf"
   },
   "source": [
    "<b>Observation:-</b> It was also seen that in two rows given below the value of HelpfulnessNumerator is greater than HelpfulnessDenominator which is not practically possible hence these two rows too are removed from calcualtions"
   ]
  },
  {
   "cell_type": "code",
   "execution_count": 13,
   "metadata": {
    "colab": {},
    "colab_type": "code",
    "id": "L9z5lrsiCAZh",
    "outputId": "1a0dfa7c-62f4-4469-a97b-38f77fa3b2ab"
   },
   "outputs": [
    {
     "data": {
      "text/html": [
       "<div>\n",
       "<style scoped>\n",
       "    .dataframe tbody tr th:only-of-type {\n",
       "        vertical-align: middle;\n",
       "    }\n",
       "\n",
       "    .dataframe tbody tr th {\n",
       "        vertical-align: top;\n",
       "    }\n",
       "\n",
       "    .dataframe thead th {\n",
       "        text-align: right;\n",
       "    }\n",
       "</style>\n",
       "<table border=\"1\" class=\"dataframe\">\n",
       "  <thead>\n",
       "    <tr style=\"text-align: right;\">\n",
       "      <th></th>\n",
       "      <th>Id</th>\n",
       "      <th>ProductId</th>\n",
       "      <th>UserId</th>\n",
       "      <th>ProfileName</th>\n",
       "      <th>HelpfulnessNumerator</th>\n",
       "      <th>HelpfulnessDenominator</th>\n",
       "      <th>Score</th>\n",
       "      <th>Time</th>\n",
       "      <th>Summary</th>\n",
       "      <th>Text</th>\n",
       "    </tr>\n",
       "  </thead>\n",
       "  <tbody>\n",
       "    <tr>\n",
       "      <th>0</th>\n",
       "      <td>64422</td>\n",
       "      <td>B000MIDROQ</td>\n",
       "      <td>A161DK06JJMCYF</td>\n",
       "      <td>J. E. Stephens \"Jeanne\"</td>\n",
       "      <td>3</td>\n",
       "      <td>1</td>\n",
       "      <td>5</td>\n",
       "      <td>1224892800</td>\n",
       "      <td>Bought This for My Son at College</td>\n",
       "      <td>My son loves spaghetti so I didn't hesitate or...</td>\n",
       "    </tr>\n",
       "    <tr>\n",
       "      <th>1</th>\n",
       "      <td>44737</td>\n",
       "      <td>B001EQ55RW</td>\n",
       "      <td>A2V0I904FH7ABY</td>\n",
       "      <td>Ram</td>\n",
       "      <td>3</td>\n",
       "      <td>2</td>\n",
       "      <td>4</td>\n",
       "      <td>1212883200</td>\n",
       "      <td>Pure cocoa taste with crunchy almonds inside</td>\n",
       "      <td>It was almost a 'love at first bite' - the per...</td>\n",
       "    </tr>\n",
       "  </tbody>\n",
       "</table>\n",
       "</div>"
      ],
      "text/plain": [
       "      Id   ProductId          UserId              ProfileName  \\\n",
       "0  64422  B000MIDROQ  A161DK06JJMCYF  J. E. Stephens \"Jeanne\"   \n",
       "1  44737  B001EQ55RW  A2V0I904FH7ABY                      Ram   \n",
       "\n",
       "   HelpfulnessNumerator  HelpfulnessDenominator  Score        Time  \\\n",
       "0                     3                       1      5  1224892800   \n",
       "1                     3                       2      4  1212883200   \n",
       "\n",
       "                                        Summary  \\\n",
       "0             Bought This for My Son at College   \n",
       "1  Pure cocoa taste with crunchy almonds inside   \n",
       "\n",
       "                                                Text  \n",
       "0  My son loves spaghetti so I didn't hesitate or...  \n",
       "1  It was almost a 'love at first bite' - the per...  "
      ]
     },
     "execution_count": 13,
     "metadata": {},
     "output_type": "execute_result"
    }
   ],
   "source": [
    "display= pd.read_sql_query(\"\"\"\n",
    "SELECT *\n",
    "FROM Reviews\n",
    "WHERE Score != 3 AND Id=44737 OR Id=64422\n",
    "ORDER BY ProductID\n",
    "\"\"\", con)\n",
    "\n",
    "display.head()"
   ]
  },
  {
   "cell_type": "code",
   "execution_count": 14,
   "metadata": {
    "colab": {},
    "colab_type": "code",
    "id": "8Tphk1piCAZk"
   },
   "outputs": [],
   "source": [
    "final=final[final.HelpfulnessNumerator<=final.HelpfulnessDenominator]"
   ]
  },
  {
   "cell_type": "code",
   "execution_count": 15,
   "metadata": {
    "colab": {},
    "colab_type": "code",
    "id": "8TpsGDdJCAZm",
    "outputId": "287c6c08-d222-4848-b677-c9a5e769d0b1"
   },
   "outputs": [
    {
     "name": "stdout",
     "output_type": "stream",
     "text": [
      "(4986, 10)\n"
     ]
    },
    {
     "data": {
      "text/plain": [
       "1    4178\n",
       "0     808\n",
       "Name: Score, dtype: int64"
      ]
     },
     "execution_count": 15,
     "metadata": {},
     "output_type": "execute_result"
    }
   ],
   "source": [
    "#Before starting the next phase of preprocessing lets see the number of entries left\n",
    "print(final.shape)\n",
    "\n",
    "#How many positive and negative reviews are present in our dataset?\n",
    "final['Score'].value_counts()"
   ]
  },
  {
   "cell_type": "markdown",
   "metadata": {
    "colab_type": "text",
    "id": "RxBsuBylCAZr"
   },
   "source": [
    "# [3].  Text Preprocessing.\n",
    "\n",
    "Now that we have finished deduplication our data requires some preprocessing before we go on further with analysis and making the prediction model.\n",
    "\n",
    "Hence in the Preprocessing phase we do the following in the order below:-\n",
    "\n",
    "1. Begin by removing the html tags\n",
    "2. Remove any punctuations or limited set of special characters like , or . or # etc.\n",
    "3. Check if the word is made up of english letters and is not alpha-numeric\n",
    "4. Check to see if the length of the word is greater than 2 (as it was researched that there is no adjective in 2-letters)\n",
    "5. Convert the word to lowercase\n",
    "6. Remove Stopwords\n",
    "7. Finally Snowball Stemming the word (it was obsereved to be better than Porter Stemming)<br>\n",
    "\n",
    "After which we collect the words used to describe positive and negative reviews"
   ]
  },
  {
   "cell_type": "code",
   "execution_count": 16,
   "metadata": {
    "colab": {},
    "colab_type": "code",
    "id": "laOGMFB7CAZt",
    "outputId": "49d82795-cea4-4695-9834-45978266f6f4"
   },
   "outputs": [
    {
     "name": "stdout",
     "output_type": "stream",
     "text": [
      "Why is this $[...] when the same product is available for $[...] here?<br />http://www.amazon.com/VICTOR-FLY-MAGNET-BAIT-REFILL/dp/B00004RBDY<br /><br />The Victor M380 and M502 traps are unreal, of course -- total fly genocide. Pretty stinky, but only right nearby.\n",
      "==================================================\n",
      "I recently tried this flavor/brand and was surprised at how delicious these chips are.  The best thing was that there were a lot of \"brown\" chips in the bsg (my favorite), so I bought some more through amazon and shared with family and friends.  I am a little disappointed that there are not, so far, very many brown chips in these bags, but the flavor is still very good.  I like them better than the yogurt and green onion flavor because they do not seem to be as salty, and the onion flavor is better.  If you haven't eaten Kettle chips before, I recommend that you try a bag before buying bulk.  They are thicker and crunchier than Lays but just as fresh out of the bag.\n",
      "==================================================\n",
      "Wow.  So far, two two-star reviews.  One obviously had no idea what they were ordering; the other wants crispy cookies.  Hey, I'm sorry; but these reviews do nobody any good beyond reminding us to look  before ordering.<br /><br />These are chocolate-oatmeal cookies.  If you don't like that combination, don't order this type of cookie.  I find the combo quite nice, really.  The oatmeal sort of \"calms\" the rich chocolate flavor and gives the cookie sort of a coconut-type consistency.  Now let's also remember that tastes differ; so, I've given my opinion.<br /><br />Then, these are soft, chewy cookies -- as advertised.  They are not \"crispy\" cookies, or the blurb would say \"crispy,\" rather than \"chewy.\"  I happen to like raw cookie dough; however, I don't see where these taste like raw cookie dough.  Both are soft, however, so is this the confusion?  And, yes, they stick together.  Soft cookies tend to do that.  They aren't individually wrapped, which would add to the cost.  Oh yeah, chocolate chip cookies tend to be somewhat sweet.<br /><br />So, if you want something hard and crisp, I suggest Nabiso's Ginger Snaps.  If you want a cookie that's soft, chewy and tastes like a combination of chocolate and oatmeal, give these a try.  I'm here to place my second order.\n",
      "==================================================\n",
      "love to order my coffee on amazon.  easy and shows up quickly.<br />This k cup is great coffee.  dcaf is very good as well\n",
      "==================================================\n"
     ]
    }
   ],
   "source": [
    "# printing some random reviews\n",
    "sent_0 = final['Text'].values[0]\n",
    "print(sent_0)\n",
    "print(\"=\"*50)\n",
    "\n",
    "sent_1000 = final['Text'].values[1000]\n",
    "print(sent_1000)\n",
    "print(\"=\"*50)\n",
    "\n",
    "sent_1500 = final['Text'].values[1500]\n",
    "print(sent_1500)\n",
    "print(\"=\"*50)\n",
    "\n",
    "sent_4900 = final['Text'].values[4900]\n",
    "print(sent_4900)\n",
    "print(\"=\"*50)"
   ]
  },
  {
   "cell_type": "code",
   "execution_count": 17,
   "metadata": {
    "colab": {},
    "colab_type": "code",
    "id": "MvD0JaQ9CAZx",
    "outputId": "dcc683d4-6014-4430-fb91-f9526bca4475"
   },
   "outputs": [
    {
     "name": "stdout",
     "output_type": "stream",
     "text": [
      "Why is this $[...] when the same product is available for $[...] here?<br /> /><br />The Victor M380 and M502 traps are unreal, of course -- total fly genocide. Pretty stinky, but only right nearby.\n"
     ]
    }
   ],
   "source": [
    "# remove urls from text python: https://stackoverflow.com/a/40823105/4084039\n",
    "sent_0 = re.sub(r\"http\\S+\", \"\", sent_0)\n",
    "sent_1000 = re.sub(r\"http\\S+\", \"\", sent_1000)\n",
    "sent_150 = re.sub(r\"http\\S+\", \"\", sent_1500)\n",
    "sent_4900 = re.sub(r\"http\\S+\", \"\", sent_4900)\n",
    "\n",
    "print(sent_0)"
   ]
  },
  {
   "cell_type": "code",
   "execution_count": 18,
   "metadata": {
    "colab": {},
    "colab_type": "code",
    "id": "Liu2zNFLCAZ0",
    "outputId": "f66770ef-17d3-4a99-df7f-75242858701d"
   },
   "outputs": [
    {
     "name": "stdout",
     "output_type": "stream",
     "text": [
      "Why is this $[...] when the same product is available for $[...] here? />The Victor M380 and M502 traps are unreal, of course -- total fly genocide. Pretty stinky, but only right nearby.\n",
      "==================================================\n",
      "I recently tried this flavor/brand and was surprised at how delicious these chips are.  The best thing was that there were a lot of \"brown\" chips in the bsg (my favorite), so I bought some more through amazon and shared with family and friends.  I am a little disappointed that there are not, so far, very many brown chips in these bags, but the flavor is still very good.  I like them better than the yogurt and green onion flavor because they do not seem to be as salty, and the onion flavor is better.  If you haven't eaten Kettle chips before, I recommend that you try a bag before buying bulk.  They are thicker and crunchier than Lays but just as fresh out of the bag.\n",
      "==================================================\n",
      "Wow.  So far, two two-star reviews.  One obviously had no idea what they were ordering; the other wants crispy cookies.  Hey, I'm sorry; but these reviews do nobody any good beyond reminding us to look  before ordering.These are chocolate-oatmeal cookies.  If you don't like that combination, don't order this type of cookie.  I find the combo quite nice, really.  The oatmeal sort of \"calms\" the rich chocolate flavor and gives the cookie sort of a coconut-type consistency.  Now let's also remember that tastes differ; so, I've given my opinion.Then, these are soft, chewy cookies -- as advertised.  They are not \"crispy\" cookies, or the blurb would say \"crispy,\" rather than \"chewy.\"  I happen to like raw cookie dough; however, I don't see where these taste like raw cookie dough.  Both are soft, however, so is this the confusion?  And, yes, they stick together.  Soft cookies tend to do that.  They aren't individually wrapped, which would add to the cost.  Oh yeah, chocolate chip cookies tend to be somewhat sweet.So, if you want something hard and crisp, I suggest Nabiso's Ginger Snaps.  If you want a cookie that's soft, chewy and tastes like a combination of chocolate and oatmeal, give these a try.  I'm here to place my second order.\n",
      "==================================================\n",
      "love to order my coffee on amazon.  easy and shows up quickly.This k cup is great coffee.  dcaf is very good as well\n"
     ]
    }
   ],
   "source": [
    "# https://stackoverflow.com/questions/16206380/python-beautifulsoup-how-to-remove-all-tags-from-an-element\n",
    "from bs4 import BeautifulSoup\n",
    "\n",
    "soup = BeautifulSoup(sent_0, 'lxml')\n",
    "text = soup.get_text()\n",
    "print(text)\n",
    "print(\"=\"*50)\n",
    "\n",
    "soup = BeautifulSoup(sent_1000, 'lxml')\n",
    "text = soup.get_text()\n",
    "print(text)\n",
    "print(\"=\"*50)\n",
    "\n",
    "soup = BeautifulSoup(sent_1500, 'lxml')\n",
    "text = soup.get_text()\n",
    "print(text)\n",
    "print(\"=\"*50)\n",
    "\n",
    "soup = BeautifulSoup(sent_4900, 'lxml')\n",
    "text = soup.get_text()\n",
    "print(text)"
   ]
  },
  {
   "cell_type": "code",
   "execution_count": 19,
   "metadata": {
    "colab": {},
    "colab_type": "code",
    "id": "lNHWbzBaCAZ3"
   },
   "outputs": [],
   "source": [
    "# https://stackoverflow.com/a/47091490/4084039\n",
    "import re\n",
    "\n",
    "def decontracted(phrase):\n",
    "    # specific\n",
    "    phrase = re.sub(r\"won't\", \"will not\", phrase)\n",
    "    phrase = re.sub(r\"can\\'t\", \"can not\", phrase)\n",
    "\n",
    "    # general\n",
    "    phrase = re.sub(r\"n\\'t\", \" not\", phrase)\n",
    "    phrase = re.sub(r\"\\'re\", \" are\", phrase)\n",
    "    phrase = re.sub(r\"\\'s\", \" is\", phrase)\n",
    "    phrase = re.sub(r\"\\'d\", \" would\", phrase)\n",
    "    phrase = re.sub(r\"\\'ll\", \" will\", phrase)\n",
    "    phrase = re.sub(r\"\\'t\", \" not\", phrase)\n",
    "    phrase = re.sub(r\"\\'ve\", \" have\", phrase)\n",
    "    phrase = re.sub(r\"\\'m\", \" am\", phrase)\n",
    "    return phrase"
   ]
  },
  {
   "cell_type": "code",
   "execution_count": 20,
   "metadata": {
    "colab": {},
    "colab_type": "code",
    "id": "y7v1fmngCAZ5",
    "outputId": "22e3fcb6-c2e6-4c92-be48-f65543b1140f"
   },
   "outputs": [
    {
     "name": "stdout",
     "output_type": "stream",
     "text": [
      "Wow.  So far, two two-star reviews.  One obviously had no idea what they were ordering; the other wants crispy cookies.  Hey, I am sorry; but these reviews do nobody any good beyond reminding us to look  before ordering.<br /><br />These are chocolate-oatmeal cookies.  If you do not like that combination, do not order this type of cookie.  I find the combo quite nice, really.  The oatmeal sort of \"calms\" the rich chocolate flavor and gives the cookie sort of a coconut-type consistency.  Now let is also remember that tastes differ; so, I have given my opinion.<br /><br />Then, these are soft, chewy cookies -- as advertised.  They are not \"crispy\" cookies, or the blurb would say \"crispy,\" rather than \"chewy.\"  I happen to like raw cookie dough; however, I do not see where these taste like raw cookie dough.  Both are soft, however, so is this the confusion?  And, yes, they stick together.  Soft cookies tend to do that.  They are not individually wrapped, which would add to the cost.  Oh yeah, chocolate chip cookies tend to be somewhat sweet.<br /><br />So, if you want something hard and crisp, I suggest Nabiso is Ginger Snaps.  If you want a cookie that is soft, chewy and tastes like a combination of chocolate and oatmeal, give these a try.  I am here to place my second order.\n",
      "==================================================\n"
     ]
    }
   ],
   "source": [
    "sent_1500 = decontracted(sent_1500)\n",
    "print(sent_1500)\n",
    "print(\"=\"*50)"
   ]
  },
  {
   "cell_type": "code",
   "execution_count": 21,
   "metadata": {
    "colab": {},
    "colab_type": "code",
    "id": "jKIBLrAjCAZ7",
    "outputId": "376f1e55-511a-4352-c345-a39f1d2a2224"
   },
   "outputs": [
    {
     "name": "stdout",
     "output_type": "stream",
     "text": [
      "Why is this $[...] when the same product is available for $[...] here?<br /> /><br />The Victor  and  traps are unreal, of course -- total fly genocide. Pretty stinky, but only right nearby.\n"
     ]
    }
   ],
   "source": [
    "#remove words with numbers python: https://stackoverflow.com/a/18082370/4084039\n",
    "sent_0 = re.sub(\"\\S*\\d\\S*\", \"\", sent_0).strip()\n",
    "print(sent_0)"
   ]
  },
  {
   "cell_type": "code",
   "execution_count": 22,
   "metadata": {
    "colab": {},
    "colab_type": "code",
    "id": "sU3eY6geCAZ9",
    "outputId": "90d91c93-0d77-47c0-e496-77d1611a86fb"
   },
   "outputs": [
    {
     "name": "stdout",
     "output_type": "stream",
     "text": [
      "Wow So far two two star reviews One obviously had no idea what they were ordering the other wants crispy cookies Hey I am sorry but these reviews do nobody any good beyond reminding us to look before ordering br br These are chocolate oatmeal cookies If you do not like that combination do not order this type of cookie I find the combo quite nice really The oatmeal sort of calms the rich chocolate flavor and gives the cookie sort of a coconut type consistency Now let is also remember that tastes differ so I have given my opinion br br Then these are soft chewy cookies as advertised They are not crispy cookies or the blurb would say crispy rather than chewy I happen to like raw cookie dough however I do not see where these taste like raw cookie dough Both are soft however so is this the confusion And yes they stick together Soft cookies tend to do that They are not individually wrapped which would add to the cost Oh yeah chocolate chip cookies tend to be somewhat sweet br br So if you want something hard and crisp I suggest Nabiso is Ginger Snaps If you want a cookie that is soft chewy and tastes like a combination of chocolate and oatmeal give these a try I am here to place my second order \n"
     ]
    }
   ],
   "source": [
    "#remove spacial character: https://stackoverflow.com/a/5843547/4084039\n",
    "sent_1500 = re.sub('[^A-Za-z0-9]+', ' ', sent_1500)\n",
    "print(sent_1500)"
   ]
  },
  {
   "cell_type": "code",
   "execution_count": 23,
   "metadata": {
    "colab": {},
    "colab_type": "code",
    "id": "Xsr4xHkJCAaA"
   },
   "outputs": [],
   "source": [
    "# https://gist.github.com/sebleier/554280\n",
    "# we are removing the words from the stop words list: 'no', 'nor', 'not'\n",
    "# <br /><br /> ==> after the above steps, we are getting \"br br\"\n",
    "# we are including them into stop words list\n",
    "# instead of <br /> if we have <br/> these tags would have revmoved in the 1st step\n",
    "\n",
    "stopwords= set(['br', 'the', 'i', 'me', 'my', 'myself', 'we', 'our', 'ours', 'ourselves', 'you', \"you're\", \"you've\",\\\n",
    "            \"you'll\", \"you'd\", 'your', 'yours', 'yourself', 'yourselves', 'he', 'him', 'his', 'himself', \\\n",
    "            'she', \"she's\", 'her', 'hers', 'herself', 'it', \"it's\", 'its', 'itself', 'they', 'them', 'their',\\\n",
    "            'theirs', 'themselves', 'what', 'which', 'who', 'whom', 'this', 'that', \"that'll\", 'these', 'those', \\\n",
    "            'am', 'is', 'are', 'was', 'were', 'be', 'been', 'being', 'have', 'has', 'had', 'having', 'do', 'does', \\\n",
    "            'did', 'doing', 'a', 'an', 'the', 'and', 'but', 'if', 'or', 'because', 'as', 'until', 'while', 'of', \\\n",
    "            'at', 'by', 'for', 'with', 'about', 'against', 'between', 'into', 'through', 'during', 'before', 'after',\\\n",
    "            'above', 'below', 'to', 'from', 'up', 'down', 'in', 'out', 'on', 'off', 'over', 'under', 'again', 'further',\\\n",
    "            'then', 'once', 'here', 'there', 'when', 'where', 'why', 'how', 'all', 'any', 'both', 'each', 'few', 'more',\\\n",
    "            'most', 'other', 'some', 'such', 'only', 'own', 'same', 'so', 'than', 'too', 'very', \\\n",
    "            's', 't', 'can', 'will', 'just', 'don', \"don't\", 'should', \"should've\", 'now', 'd', 'll', 'm', 'o', 're', \\\n",
    "            've', 'y', 'ain', 'aren', \"aren't\", 'couldn', \"couldn't\", 'didn', \"didn't\", 'doesn', \"doesn't\", 'hadn',\\\n",
    "            \"hadn't\", 'hasn', \"hasn't\", 'haven', \"haven't\", 'isn', \"isn't\", 'ma', 'mightn', \"mightn't\", 'mustn',\\\n",
    "            \"mustn't\", 'needn', \"needn't\", 'shan', \"shan't\", 'shouldn', \"shouldn't\", 'wasn', \"wasn't\", 'weren', \"weren't\", \\\n",
    "            'won', \"won't\", 'wouldn', \"wouldn't\"])"
   ]
  },
  {
   "cell_type": "code",
   "execution_count": 24,
   "metadata": {
    "colab": {},
    "colab_type": "code",
    "id": "MgsJ09NpCAaB",
    "outputId": "1d7ef7e7-d03e-4bff-850a-a2aef70af7d9"
   },
   "outputs": [
    {
     "name": "stderr",
     "output_type": "stream",
     "text": [
      "100%|█████████████████████████████████████| 4986/4986 [00:06<00:00, 737.62it/s]\n"
     ]
    }
   ],
   "source": [
    "# Combining all the above stundents \n",
    "from tqdm import tqdm\n",
    "preprocessed_reviews = []\n",
    "# tqdm is for printing the status bar\n",
    "for sentance in tqdm(final['Text'].values):\n",
    "    sentance = re.sub(r\"http\\S+\", \"\", sentance)\n",
    "    sentance = BeautifulSoup(sentance, 'lxml').get_text()\n",
    "    sentance = decontracted(sentance)\n",
    "    sentance = re.sub(\"\\S*\\d\\S*\", \"\", sentance).strip()\n",
    "    sentance = re.sub('[^A-Za-z]+', ' ', sentance)\n",
    "    # https://gist.github.com/sebleier/554280\n",
    "    sentance = ' '.join(e.lower() for e in sentance.split() if e.lower() not in stopwords)\n",
    "    preprocessed_reviews.append(sentance.strip())"
   ]
  },
  {
   "cell_type": "code",
   "execution_count": 25,
   "metadata": {
    "colab": {},
    "colab_type": "code",
    "id": "f_zfwXXWCAaE",
    "outputId": "a8ba4cbf-3a4c-4447-f06a-2b639e1a5f88"
   },
   "outputs": [
    {
     "data": {
      "text/plain": [
       "'wow far two two star reviews one obviously no idea ordering wants crispy cookies hey sorry reviews nobody good beyond reminding us look ordering chocolate oatmeal cookies not like combination not order type cookie find combo quite nice really oatmeal sort calms rich chocolate flavor gives cookie sort coconut type consistency let also remember tastes differ given opinion soft chewy cookies advertised not crispy cookies blurb would say crispy rather chewy happen like raw cookie dough however not see taste like raw cookie dough soft however confusion yes stick together soft cookies tend not individually wrapped would add cost oh yeah chocolate chip cookies tend somewhat sweet want something hard crisp suggest nabiso ginger snaps want cookie soft chewy tastes like combination chocolate oatmeal give try place second order'"
      ]
     },
     "execution_count": 25,
     "metadata": {},
     "output_type": "execute_result"
    }
   ],
   "source": [
    "preprocessed_reviews[1500]"
   ]
  },
  {
   "cell_type": "markdown",
   "metadata": {
    "colab_type": "text",
    "id": "tmeU-LoVCAaI"
   },
   "source": [
    "<h2><font color='red'>[3.2] Preprocess Summary</font></h2>"
   ]
  },
  {
   "cell_type": "code",
   "execution_count": 26,
   "metadata": {
    "colab": {},
    "colab_type": "code",
    "id": "wtJ2hcy9CAaI"
   },
   "outputs": [
    {
     "name": "stderr",
     "output_type": "stream",
     "text": [
      "100%|█████████████████████████████████████| 4986/4986 [00:06<00:00, 750.77it/s]\n"
     ]
    }
   ],
   "source": [
    "## Similartly you can do preprocessing for review summary also.\n",
    "# Combining all the above stundents \n",
    "from tqdm import tqdm\n",
    "preprocessed_summary = []\n",
    "# tqdm is for printing the status bar\n",
    "for sentance in tqdm(final['Text'].values):\n",
    "    sentance = re.sub(r\"http\\S+\", \"\", sentance)\n",
    "    sentance = BeautifulSoup(sentance, 'lxml').get_text()\n",
    "    sentance = decontracted(sentance)\n",
    "    sentance = re.sub(\"\\S*\\d\\S*\", \"\", sentance).strip()\n",
    "    sentance = re.sub('[^A-Za-z]+', ' ', sentance)\n",
    "    # https://gist.github.com/sebleier/554280\n",
    "    sentance = ' '.join(e.lower() for e in sentance.split() if e.lower() not in stopwords)\n",
    "    preprocessed_summary.append(sentance.strip())"
   ]
  },
  {
   "cell_type": "code",
   "execution_count": 27,
   "metadata": {},
   "outputs": [
    {
     "data": {
      "text/plain": [
       "['product available victor traps unreal course total fly genocide pretty stinky right nearby',\n",
       " 'used victor fly bait seasons ca not beat great product',\n",
       " 'received shipment could hardly wait try product love slickers call instead stickers removed easily daughter designed signs printed reverse use car windows printed beautifully print shop program going lot fun product windows everywhere surfaces like tv screens computer monitors',\n",
       " 'really good idea final product outstanding use decals car window everybody asks bought decals made two thumbs',\n",
       " 'glad cocker standard poodle puppy loves stuff trust brand superior nutrition compare labels previous feed pedigree mostly corn little dude healthy happy high energy glossy coat also superior nutrition produces smaller compact stools',\n",
       " 'using food months find excellent fact two dogs coton de tulear standard poodle puppy love food thriving coats excellent condition overall structure perfect good tasting dog good good deal owner around best food ever used excellent',\n",
       " 'nine cats crazy kibbles last thing want cat food cats hate buying',\n",
       " 'shipped day ordered arrived within days live opposite coast made order arrived nicely packaged price got lbs oz biscotti weighed kitchen scale cut big pieces add shipping handling comes little per piece approximately local bakery charges per biscotti guess going price homemade biscotti days flavor almondy hardness perfect biscotti hard crunchy not hard could not eat without dunking biscotti biscotti eaten dunked coffee tea cocoa dunked mine chai tea tastes great biscotti not fall apart dunked like almond flavor wish came anise flavor favorite biscotti flavor',\n",
       " 'mix probably not something would want use everyday new enough different enough something special add summertime recipe want reward something fun fruity fill bill quickly easily no aftertaste often associated diet drinks highly recommend',\n",
       " 'description product disceptive product represented powder not powder granule nothing shredded coconut not even dissolve high speed commercial blender unless using product manufacture dark chocolate coated coconut patty useless intention use additive healthy shake ended ruining shake resort chewing undissolved tasteless coconut pieces rather drinking shake additionally way product packaged no protective cardboard preventing slashing top package box opened could rated product zero stars would redeeming quality rather inexpensive gave one package away free patient loves coconut gave back two days later complaining terrible',\n",
       " 'bought brand online indian grocery store usually excellent products able turn cream butter using super blender adding water barely flavor usually buy chao kah brand coconut cream quite tasty flavorful read another review different product making coconut cream complaint not shreds texture mine virtually tasteless',\n",
       " 'use keep finicky toddler protein levels great delicious way imagine cooking sausage favorite recipe sautee one large onion tablespoon dried basil oregano salt pepper butter add sausage cut coins russet potatoes cut thick rounds cover chicken stock simmer potatoes soft not dissolved throw handfuls pre washed baby spinach usually use half pound frozen would work fine put minute earlier stir spinach cooked serve enjoy',\n",
       " 'get busy home like sausage lot quick meal options flavor bit sweet works well lots types vegetables usually slice lengthwise saute done add sweet potatoes potatoes onions pan make skillet bit cheese top food groups one pan meal family enjoys mac cheese peas sausage mixed another option daughter crazy cut sausage coins cook make homemade mac cheese usual add frozen peas sausage finish cooking sweetness sausage salty cheese good easy make',\n",
       " 'company american classic business years best hot sauce taco sauce bar none good brands oout best nothing compares hot sauce reasonable heat bite adds unique flavor favorite mex foods taco mild sauce milder perfect tacos enchaladas tostadas tamales bell beefers frozen mex dinners harder find green sauce die great everything unfortunately not see green stuff amazon find get try three grew stuff partial keep five six bottles variety shelves times try not want go back run mill commercial stuff',\n",
       " 'love pico pica adds flavor not hot eat least meals every day good eggs good pizza good vegetables really not go wrong',\n",
       " 'thank goodness mexgrocer love pico pica sauce cannot find product local grocery stores anymore internet shopping makes living podunk town bearable no long lists saved occasional trip big city first name basis ups fedex drivers usps shipments hit miss fit mailbox great not saddle head town pico pica favorite product good love',\n",
       " 'different sauce nothing like anything find grocery store closer botique salsas recently appeared new taco restaurant trend little smokey picky old eat burrito family always mild table southern california transplanted south florida happy mail order get little single serve pouches directly company',\n",
       " 'found product search edible gold leaf decided purchase reading rave reviews food items created using however clearly marked not consumed decorative use misleading product',\n",
       " 'purchased item cake called gold dust never thought would find im glad sprinkled looked like shining star container small go long way worth buying',\n",
       " 'used product multiple times fact purchased four tubs gold silver luster dust five years ago running use stuff gild sorts things renaissance themed banquets including gilding entire roast duck using vodka painting filigree designs onto clients thought prop food looked beautiful not recommend stuff enough',\n",
       " 'used super gold luster dust create exquisite chocolate aspen leaves groom cake son wedding using artist paintbrush lightly coat molded leaves luster dust result startlingly beautiful contrast food coloring luster dust brushes easily imparts realistically metallic color sheen containers small product goes long way making extremely economical use',\n",
       " 'product allows make really big splashes providing spiced nuts gatherings fact gold spreads easily allows use little show people amazed edible gold',\n",
       " 'cute affordable set son golf theme party great size half sheet cake played toys since party',\n",
       " 'used one green ball etc golfer cake made one long hole fairway sand traps water hazards green hubby loved big golf themed party used extra golf clubs balls pins decor table around cake huge sheet cake decorate could see using three greens would not fit right one cake knowing buying wilton made confidant would satisfied price could not go wrong',\n",
       " '',\n",
       " 'golf set arrived quickly pictured birthday five year old grandson turned great',\n",
       " 'natural ingredients no preservatives say fantastic no expiration date would eat within week two faster opened absolutely excellent freeze no loss quality not order weather hot ship cool bags cold packs instead styrofoam dry ice orders usually arrive cool not cold',\n",
       " 'adzuki azuki beans ment used asian sweets make sweet bean paste boiling beans min changing water least twice draining mashing beans sugar strain paste not like bean skins get paste put ice cream fill pasteries stuff mochi cakes',\n",
       " 'good beans not find grocery stores live ordered retailer no problems',\n",
       " 'not good yummy smell like cloves cooking taste little sweet',\n",
       " 'good stuff like lentils not need soak small feel good mouth',\n",
       " 'sauce something permanent staple table everything gets dash two three',\n",
       " 'not truly spicy year old loves stuff great chicken even chicken nuggets spring rolls crispy ones even fries sweet spicy one good',\n",
       " 'go mothers home one day cooked fried chicken rice taste chicken good day introduced mae ploy sweet chili sauce sauce excellent sweet mild hot not burn mouth give heart burn continue purchase product chicken fish foods tasteful try good',\n",
       " 'use stuff pretty much everything turkey sandwiches homemade sushi scrambled eggs chicken nuggets perfect not spicy not sour not expensive either love',\n",
       " 'first tasted sauce visiting alaska served fish tacos perfect combination sweet spicy could not find locally ordered amazon available reasonable price wonderful fish pork chicken not tried beef not sure would good not also terrific vegetables highly recommend product',\n",
       " 'sooo good followed advice thought outside conventional box sliced cabbage onion sprinkled mae ploy chili sauce lime juice made nice salad kick also good cilantro daikon',\n",
       " 'ever wondered delicious dipping sauce crab wontons pei wei amazing sauce chang chicken love stuff discovered pei wei someone left bottle laying quick snapped picture took amazon found great pretty much everything previous users say also thai restaurant night used sauce amazing salad try salad consisting sliced mangos lettuce onions red peppers drench ingredients stuff everyone think master chef',\n",
       " 'kids love sauce many things great rice chicken spicy sweet highly recommend',\n",
       " 'looking good sweet sour sauce chicken based reviews took chance well no one family likes stuff tastes nothing like sweet sour sauce like says chili sauce stuck two huge bottles sometimes reading label really matters',\n",
       " 'mae ploy sweet chili sauce becoming standard condiment dinner table right blend sweet heat mae ploy enhances taste meat fish foods catsup almost condiment past salsa mae ploy answers',\n",
       " 'not purchase product amazon purchased oz bottle local store must say one addicting sauces ever pretty picky eater vegetarian sauces play key role making average meal great one sauce almost perfect sweet strong garlic taste first not thick red hot brand not like much thick not flavorful way chunky sauce would appropriate children like little kick chicken nuggets not son loves spicy food like mommy another plus calories tablespoons much sauce goes long way gram fiber thing hard time personal issue texture red chilli tastes great thin clear skin horrible crunchy texture pieces not get stuck mouth teeth hits nerve makes feel bit queasy still eat anyway lol continue one best sauces ever tasted would recommend anyone try sauce first try others not fully satisfied sauce amazing store oz like easiness ordering online not find near know would pay amazon price day buy sauce not care buy fall love',\n",
       " 'love stuff put chicken even steaks sweet bit spicy little goes long way',\n",
       " 'best years ago used loved moved could not find purchased many hot sweet sauces years trying find flavor recently found world market addicted everyone mentioned great ways use favorite use salads along little fat free dressing eat tasty salads every day without cheese sodium mg per tablespoon amount added flavor worth every mg',\n",
       " 'great multi use sauce great using baste grilling fish chicken shrimp pork etc',\n",
       " 'sauce excellent blend sweet spicy love eggrolls rice anything needs extra kick give try',\n",
       " 'tried sauce first favorite place eat happy able order home cooking great spicy hot sweet',\n",
       " 'stuff good mom gave bottle go eggrolls hooked upon first dip perfect blend sweet spicy stuff yummy even people claim dislike spicy asian kind exotic fare find delicious',\n",
       " 'mae ploy sweet chili sauce best use instead duck sauce check try hooked',\n",
       " 'without doubt finest sweet chilli sic sauce world use hot cold dishes including chicken venison roast beasts superb seasoning plain rice quinoa bulghour cous cous sweet hot authentic buy larger bottles time refrigerate open one save back insurance could not run varied menus without great red elixir',\n",
       " 'not mean asian sauces easily best sauce ever put everything gotten hand go way see else latest thing pouring peanuts coating peanuts sauce eat nuts spoon keep hands clean sounds gross delicious',\n",
       " 'use banquet kitchen many dishes perfect blend sweet pinch heat toss chicken wings great bar food home another idea combine sweet chili sauce heavy mayonnaise granulated garlic finely chopped parsely ginger powder splash siracha give delicious sweet chili aoli perfect burgers sandwiches egrolls potstickers fries fish even chicken like said good serves great base things salad dressing marinade buy sauce bulk find youself using everything',\n",
       " 'love sauce sweet hot use checken wings instead buffalo sauce pan seared scallops shrimp versitile delicious',\n",
       " 'sauce good tastes not hot enough brands tht sleeper heat makes sauce multi layered sauce seems ahve one layer',\n",
       " 'want spicy different flavor sometimes lightly seasoned plain piece beef chicken put sweet chili sauce rice wow perks whole plate times cook meat without seasoning add every flavor mood reheat kept open bottles refrigerator months without problem never tried sauce thicker heinz ketchup slowly add sweetness heat right another way use steamed vegetables add peanuts sliced almonds serving',\n",
       " 'sauce fine however not resist flagging particular piece idiocy hope someone might able convince amazon next time sauce comes pack one bottle broken yep guessed amazon sent new pack two asked return unbroken original cost little time much going cost amazon ship process returned bottle guess good mine really beyond bounds possibility someone split pack sent one replacement bottle',\n",
       " 'really great sauce slightly expensive stores great egg rolls dipping sauce many chinese foods also great sauce make chili thai sushi roll',\n",
       " 'using sauce years amazing use everything spring rolls salads',\n",
       " 'made crab rangoon used sauce dipping sauce great love fact not msg right amount sweetness little spicy right amount',\n",
       " 'use meats fish poultry vegies purpose dip et al cheap special gave big bottles family friends xmas years ago hooked not sorry brought sauce kitchen',\n",
       " 'tiny consolation easy thai barbecued chicken cut usual fryer quarters cook slowly charcoal quickly hot oven brush generously sweet chili sauce cook minutes authentic isticky rice also delicious brown red rice thailand people squat hibachi sized braziers sidewalks sell portion sort barbecued chicken sometimes trot alongside inter city buses pull stations sell chicken windows not squeamish treat remember sauce enhance flavor fowl blackbird condor whooping crane',\n",
       " 'plenty times eat came mae ploy sweet chili sauce eat whih flavor exciting taste one favorite restaurants',\n",
       " 'sauce good anything cook grill use dip veggies etc enough heat make everything taste better',\n",
       " 'whole family loves sauce use primarily recreate dish maui adds wonderful sweet spicy flavor sauce service order spectacular several bottles arrived broken replacements received within days amazon service fast easy reliable love amazon also many recipes look using sauce good goes spectaculary coconut milk vegetables chicken shrimp pasta love',\n",
       " 'purchased sauce exact sauce used hot sauce bar tijuana flats goes amazing steak tostadas home cooking works wells marinade condiment',\n",
       " 'read nine reviews preceded wondered product depending person taste could consistently receive five stars something suspicious nope tenth five star rating row tough best sauce kind kind ever old guy around right sweetness right hotness would love soak chicken well dip egg rolls chicken nuggets big bottles not last back fer shure absolutely worth worth little price stuff standard every home along plumbing sincere apologies reviewers doubting',\n",
       " 'introduced sauce good friend mine cambodia runs thai restaurant bar wondered sauce used ramikens served delicious crispy spring rolls actual sauce handmade directed try brand since yrs ago mother friends used sauce fried chicken wings grilled sauteed chicken pork spring egg rolls even sushi keep large oz bottle fridge year round best brand used thus far not hot not accustomed spicy foods mostly sweet try not disappointed',\n",
       " 'mentioned give try instant party food frozen meatballs sauce great chicken name anything party snack happy hour food put sauce would work however prices vendors obscene bottles stuff bottle asian grocery',\n",
       " 'like product unique taste enough spiciness sweetness make different goes virtually anything not tried cooking imagine would add lot stews soups etc keeps well last bottle got lost pantry several years old found still tasted great belongs along heinz worcestershire sauce catsup etc condiment staple',\n",
       " 'brought dipping sauce dumplings egg rolls made home taste great think sauce get thai places cause tastes exact',\n",
       " 'delicious makes gourmet cook novice put chicken pork steak ca c est bon wish could say chinese love purchase amazon prime saves trip market makes wonderful hostess gift',\n",
       " 'best sauce market use almost food product especially good veggies',\n",
       " 'cook lot chinese dishes household sweet chili sauce must one favorites sesame chicken could not seem get flavor right added yum',\n",
       " 'love asian flavor w extreme heat sauce w wings mellow mushroom knoxville tn immediately asked bartender could find brand sauce perfect amazing flavor',\n",
       " 'one favorite sauces handy order get two giant bottles last taste perfect not faint heart however',\n",
       " 'best sweet chili sauce found anywhere say sweet hey sweet chili sauce supposed sweet rich full flavor everyone family likes even wife not stand anything anyone would consider hot loves sauce pepper head like like little kick try adding sriracha hot chili sauce learn love',\n",
       " 'goes self proclaimed condiment queen nation keeper saw asian market go huge bottle looked ingredients no preservatives added colors good good said went everything also good got home wow amazing garlic hot sweet dippin fool',\n",
       " 'prefer jerky dry texture always hard time finding good one usually moistened soft chunks meat instead hard strips like old school jerky highly recommend product delicious',\n",
       " 'family love baci ever since lived europe daughters small coined term baci pill whenever hurt not feeling well wonderful treat meal espresso cappuccino pop entire baci mouth experience famous perugina chocolate still crunchy hazelnut center italians everything class beats hershey kiss day',\n",
       " 'ordered item large quanity wanted items packaged shown favors holiday bag company employees arrived packaged shown bulk loose know would come like would gone costo discount store purchase cute little box would helped make special thought paid missing',\n",
       " 'returned italy told little chocolates favs italians perfect little two chocolates gifts gloomy days happy days',\n",
       " 'delicious candy outstanding price rich product fortunes inside added bonus great options relating packaging',\n",
       " 'though coffee expensive compared regular store bought huge fan coffee usually tears stomach tea drinker years coffee low acidic level handle aroma enticing bag lasted long time fan beans versus grounds another plus prompt packaging ensured coffee stayed fresh intact',\n",
       " 'fallen love tea british tea fanatic ashby superceded tastes expectations smooth not bitter low tannins awesome taste take pg tips',\n",
       " 'packaging cute ashby teas tea exceptional would recommend tea anyone',\n",
       " 'first drank tea naniboujou lodge north shore minnesota bought small packet hooked drunk first bit bought wanted get tea asap glad see sale high quantity used coffee drinker much prefer tea specifically ashbys afternoon tea gave away bag coffee never drink never quite got british people tea whether typical british tea not not know see would build afternoons around high quality tea like one sublime',\n",
       " 'product gift far distant relative arrived right schedule perfect condition loved choices inside basket cannot attest food personally loved',\n",
       " 'not know cactus tequila unique combination ingredients flavour hot sauce makes one kind picked bottle trip brought back home us totally blown away realized simply could not find anywhere city bummed magic internet case sauce ecstatic love hot sauce mean really love hot sauce not want sauce tastelessly burns throat grab bottle tequila picante gourmet de inclan realize taste never want use sauce thank personal incredible service',\n",
       " 'strong pure need little bit get great flavor helps digestion smell strong',\n",
       " 'much white pith orange peel making product overly bitter diluting real good taste orange zest',\n",
       " 'five minutes one tentacle bitten ball inside cracked half not durable enough dog toy disappointed dog',\n",
       " 'scotties full hot spots used within week hot spots gone smell kinda strong not bad tolerablel',\n",
       " 'tried found salty plus ate fish sauce fish realized kind redundant kidding course stuff great',\n",
       " 'exactly ordered no fuss no muss arrived time pretty much ideal transaction thing threw underestimated quantity gallon baggie freezer ftw',\n",
       " 'dried berries still texture quintessential aroma pot roast much better half dozen berries flattened breadboard scooped pickling mixture ten years trying find gee know look amazon',\n",
       " 'review make sound really stupid whatever not really care long people find real avoid mistakes got wonderful little sweet bella bean days shy three years old bounced around house house eating whatever cheap cats around entire life twenty five years mother always fed whatever kinds food buy supermarket friskies nine lives kit kaboodle stuff like cats always fine least terms eating habits would eat morning stop done come back eat got hungry housemate time working hill assured best food ever made great forth know utter buffoon initially trusted judgment unfortunate not think also plenty coupons free deeply discounted bags made much attractive choice first tried feeding little bean unmeasured amount science diet bowl not work would devour one sitting took measuring thing started parsing twice day not work either would start going crazy middle day running around intentionally destroying things deliberately spilling water crying etc got food split three servings thing got four servings little better much maintenance unrealistic around every day feed four times went back three trying reduce amount food feeding less cup little chubby reducing hell became even hungry figured would get used not really year would wake every morning looking food serious way knocking things desk ripping paper could find scratching door committing general acts mischief soon got food back sweet self three four hours thought bored thought little nutty maybe even kitty eating disorder always wanted food kind funny end sad weeks back took new good non money factory vet second checkup since talked always hungry asked ate told adult indoor science diet without saying much basically told food garbage look something else said cat food protein followed carbohydrate first two ingredients science diet loose product kind way ground slaughterhouse leftovers corn dust put bunch vitamins make healthy instead using good ingredients beginning not care spending money bean food way expensive began transitioning onto wellness indoor formula two weeks ago still eating percent science diet percent wellness really not give cat different food one day blue never freaks anymore amazing percent eating real food along sawdust chicken hearts still regrettable feed eating twice day cup total eating three times day cup total eats morning walks away eats hours later looks dinner twelve hours initial feeding no knocking things no trashing dad papers desk no howling no deliberately spilled water floor incredible feel bad long really thought dramatic whatever no genuinely hungry not eating real food cat favor buy food made real ingredients things would eat wellness halo innova evo whatever figure please not feed cat garbage',\n",
       " 'feed hills science diet pet love vet tells honesty product quite certainly worst snap lock reseal ever encountered painfully difficult get close properly even resealed best still gaps side allow air oxidize product packaging important no better pet live stale oxidized food would oxidized fats also called rancid imagine healthy rancid diet human well get idea inconvenience posting review hills science diet products kind packaging experience product please take time let company know love animal want keep feeding vet tells good quite literally worst reseal ever misfortune encounter theo',\n",
       " 'five cats one elderly cat years four year range oldest cat diagnosed couple months ago beginning stages chronic kidney disease numbers not warrant prescription food yet needed start paying attention things like protein phosphorus levels food five cats nibblers eating four five nuggets time decided switch acceptable food oldest picked active longevity specifically mentioned kidney support calories appropriate less active older cats since made switch weeks ago cats gained weight fine little old guy bit underweight not good rest male went slightly chunky lbs obese lbs almost three pounds weeks females gained pounds noticed making lot visits food bowl like could not seem get full also saw lessening coat quality lots shedding even though brushed regularly including furminator one developed bad dandruff stools developed really bad odor although say nobody developed diarrhea grateful worrisome lab results old guy came back kidney values concern worsened disgusted science diet actively fooling public nutritional claims bags one sites researched chronic renal failure charts detailing nutritional breakdown various foods available compare various science diet formulae different health claims nutritional values components listed within tenth point two basically nutritional analysis appears base formula maybe slight difference vitamin additive brands innova royal canin appears actual difference different formulae deal weight gain well problems noted switching foods time trying royal canin indoor mature wish us luck',\n",
       " 'aged cat sensitive stomach cannot eat cat foods available however absoloutely no problems not months feeding ever vomited way not mention acting healthier seems stronger brand easily eats dry without add wet food make palatable clearly likes taste highly recommend anyone senior cat',\n",
       " 'not know science diet referred junk food one higher quality foods market lot new organic natural cat foods not healthy pets cracked regardless veterinarian wanted put year old cat prescription food high count crystals urine comparisons science diet mature adult active longevity closest prescription food cats younger one older food seem enjoy graze day indoor cats try best not overfeed younger cat not issues urine since went food happy',\n",
       " 'although seems like great product definitely not minced cans say minced not ground beef cat likes minced not chunks not ground although eat ground cat food sometimes inviting delicious yet walks away hate packaging lies contents product shipping speedy value great long deliver promise stuck food cat wont eat',\n",
       " 'made mistake believing science diet best choice cat woman animal shelter mentioned food use research realized science diet no better grocery store generic brand iams would not recommend options main ingredients chicken product corn interesting facts cat not digest corn fact obligatory carnivores eat point reaching optimal nutrition fed cat science diet ate time constantly switching castor pollux indoor cat formula eats much less also product means beaks feathers toe nail clippings meat not suitable human consumption dead animals etc totally not worth cheaper dig trash puree not sound appealing science diet notorious implying superior quality products fact no better terrible pet food find not let vet fool either vets usually get cut hill sell cat food recommendation use common sense research try brands like newmans castor pollux wholesome ingredients proven track record later called shelter hear required feed animals science diet donated special arrangement petsmart house animals store adoption centers requirement exclusively feed science diet animals try instead',\n",
       " 'perfect food cat fact one eat wet dry',\n",
       " 'comes case bought one locally ordering large amount good move cats none would eat review mature gourmet beef entree not tried favors yet',\n",
       " 'not much tea drinker bought breville automatic tea maker bag tummy tea fennel wife started brewing first pot new tea ever smell great little like licorice shared pot hooked ever since one teas makes feel warm fuzzy feeling not forget stranded desert island could one tea would enjoy drinking tea would encourage look breville tea maker produced german firm without doubt indispensible tool brewing tea price mechanical marvel little high believe worth every penny',\n",
       " 'live digestive problems eat lot mint mint lozenges mint tea curiously strong mints get tired taste mint especially morning gave coffee months ago still whimper mornings looking kind substitute forget decaf anything forget chocolate forget tea people swear hot water lemon not acid fennel tea sells elsewhere notummy tamer tea better chamomile tea not much terms flavor calming anything used fennel tea desperation mornings nothing else settle even mint leaves herbal teabags mint leaves much goes nicely not fan vegetable soup celery might take little getting used like smell reminds hops',\n",
       " 'good quality product definitely helps tame tummy evening makes huge difference feel definitely recommended along heather acacia fiber life changing',\n",
       " 'love tea hot cold always looking try new ones tea brews wonderful cup opening bag scoop joy smell alone captivating tried cup relieve stomach ache relieved discomfort immediately really taste like good quality licorice naturally sweet urge sweets hits reach tea instead really satisfy cravings tea staple pantry',\n",
       " 'bought girlfriend tummy issues absolutely loves seems assumed keep stock alludes completely different product review point buying bulk grants obvious versatility making tea bags go strainers home seems economical without sacrificing quality least wish would institute subscribe save feature hooked loyal customers gf usually gets wants',\n",
       " 'fennel smells fresh tastes good makes great addition one tea blends packaged exactly shown picture came timely manner thanks',\n",
       " 'think really good deal seal rubbermaid container scoop brew good stuff',\n",
       " 'nothing easier nothing better even beats grandmother white gravy recipe already peppered nothing mix water takes minute two highly recommend gravy mix not disappoint',\n",
       " 'used pioneer gravy number years easy make tastes great also goes well mashed potatoes meats etc try',\n",
       " 'not south live sofla sometimes get southern influence gravy mix reviewing pioneer country gravy de licious tried others publix brand mc cormick ect best far chose mix water milk cooked chopped sausage links phenomenal bisquick cheese garlic bisquits like red lobster served small side watercress scrambled eggs super easy make thick finger lickin mmmmmmm heard put potatoes veggies chicken make soups add seasoning pioneer brand name says homestyle american classic',\n",
       " 'gravy mix excellent except not use water called use milk instead makes better',\n",
       " 'awesome little snack treat favorite pup dog two pekeingese love use training well treat come variety flavors pups like liver best senior dogs perfect not jaw power teeth use anymore easy carry treat dog whenever want example walk around neighborhood calories not worry weight absolutely recommend every dog owner',\n",
       " 'treats ok main complaint small size lifesaver made hard give medium size dog treat one treat di not package labeled toy small dogs',\n",
       " 'charlee bears small low calorie use en masse training use standard training sit stay drop leave behavioral training no bark not stinky messy put pocket purse car without worry keep small bag car travel reinforce puppy not bark people walking one door reinforce goes bathroom outside bunch treats treat bag travel one downside not stinky harder use get dog attention distracted like dog park bunch visitors trick get around put stinky treats treat bag take scent use',\n",
       " 'love treats two german shepherds think treats great even large size dogs dogs absolutely go crazy calories per treat perfect training sessions also love texture put pocket without ton flaking gross smell product also simplified ingredient list opposed many dog treats pronounce ingredients list know getting',\n",
       " 'dog breeder sent home baggie cheese egg flavored charlie bears maltese puppy used reward get go anything knows treat coming great training aid also small enough give often made good ingredients carry pocket little guy keeps eye pocket',\n",
       " 'hit pups price calories piece not beat great training addition putting food puzzle toys keep occupied also provide steady supply youngest pup nail clipping quite bit anxiety treats totally take mind scary clipper toes first ingredient wheat flour dog happens allergic wheat not work dogs not allergic nor treats give tummy problems happy ingredient list short another plus not long list artificial give pups liver flavor cheese egg flavor mix things bit cheese egg ones even smell like cheese yum',\n",
       " '',\n",
       " 'product arrived sanitary seal place good condition nearly months iraq able shake pepper thing smell air heaven compared tiny little pepper packets give us little no taste really love smell pepper tastes great may better buying grocery store not paying shipping manage though',\n",
       " 'soy milk scrumptious variety extra nutrients added great nutritious high calcium no cholesterol product great price buy case',\n",
       " 'ordered product send friend husband moved alabama end march could not find diet peach snapple tasted bought new jersey said water used south made diet peach snapple taste different happy found source buy snapple thank',\n",
       " 'peach flavored diet tea snapple extremely refreshing long summer day truly diet tea zero calories best served chilled mild not overwhelming peach flavor right snapple makes green black tea leaves also mild green tea flavor mixed peach flavoring use filtered water well tea sweetened somewhat aspartame snapple adds right amount not excessively sweet want really tea rather sweet either look use added sweetener also contains phenylalanine kosher dietary concerns questions company toll free number people contact overall tea perfect hot summer day want something cool refresh whet whistle highly recommend product',\n",
       " 'received box great anticipation since not sell west coast got package opened box extremely disappointed cookies looked like gorilla shook box death left box filled crumbs rodent sized hole side box needless say not not reordering',\n",
       " 'buy cookies not regret hands best store bought chocolate cookies buy every new brand comes mrs fields permuatations offerred pepperidge farms much better entenmann recent incarnation new recipe chocolate chip cookies milk chocolate chip soft baked chocolate chip cookies newer cookie species awful milk chocolate tastes like rotting bananas cookie part tastes like crappy store bought soft cookies contrast entenmann original recipe chocolate cookie mind blowing experience delicious dark chocolate chips soft mouth watering cookie unique ineffable taste seem perfected ratio flour sugar cookie delicious without weighing excessive sugary sweetness contrast horrible new cookies absolutely no idea entenmann decided nearly eliminate sales classical recipe replace disgusting brands seems happened entenmann name bought larger multinational company probably money saving opportunity original recipe cookies likely expensive ingredients problem hard find thank goodness amazon',\n",
       " 'something eat starving please give real food hungry people kellogg corn flakes milled corn sugar malt flavoring high fructose corn syrup salt yes course also lots yummy preservatives bht synthetic vitamins iron minute quantities nutrition get basically carbs lots sugar almost no protein add skim milk get saturated fat little protein whole milk added nutrition include sliced banana capful wheat germ like corn flakes business enjoy not health food poor value cents ounce per package price inner package failure maintain freshness even bigger drawback one thinks long may take finish ounces stuff not use vacuum sealed container like kretschmer wheat germ preserve freshness price range hungry really eating wrong stuff something eat starving please give real food hungry people please',\n",
       " 'synagogue passover care package candies wow good americans little exposure sesame seeds except atop burger bun time taste nutty little wonders individually wrapped keep fresh slow grins better peanut brittle day kosher passover',\n",
       " 'became addicted eating first time tasted years ago eat one not stop gone not sweet make perfect snack love things',\n",
       " 'not believe many ways product saved life gave one star dehydrated drinking regular water week ran money penta ran afford another shipment jack back stars seriously folks waters run system pee right away not penta sticks ribs like oatmeal restoring body natural tendencies develop sympathetic electrolytic rehydration not weigh things noticed product accidentally dropped cell phone glass pulled better reception going discipline kids tried clean computer discovered improved functionality threw jumping beans bottle next day pair baby pogo sticks growing refrigerator hey fill solar shower stuff not even need soap comes price super tired uninvigorating boring old swill people call water lethargic unenhanced blah bad not attach higher market value cheap readily available monitored crap mcburbia proffers look no',\n",
       " 'purchase including free shpping straight penta website really enjoy drinking see difference everyday life',\n",
       " 'love water uplifting feel better drinking arsenic free flouride free chromium free chlorine free mtbe free something reverse osmosis medicinal grade oxygen really works work no longer allowed drink soda classrooms bought penta water hooked like one liter size bottles wish would sell also lucky purchase dorthy lane market buy water',\n",
       " 'begun drink penta water unless absolutely neccessary drink water find price water cheaper actual website get free shipping feel better overall wish could get stuff gallon great product well worth price improved feeling well',\n",
       " 'bought bottles stuff purity vpi record washing machine get gunk grooves record collection basically scrub records vacuum glop using mix water detergent water pure ever sinks deeper grooves visably better penetrating fluid compared distilled water much less tap oh no water impurities would not believe great records play deep cleaned wife always tell playing vinyl instead cd sounds alive says water highly recommended purpose may even drink sometime see fuss',\n",
       " 'best way cook roast local grocery went buisness could not find product till looked please continue keep product available',\n",
       " 'love product cant find locally sometimes little way stores also love chicken pork chop bags every store go look lastplace found meat market',\n",
       " 'always pleasure find french products web markets area made bargain carry nothing mccormacks bland tasteless seasonings flavorful cooking bag mix ever find',\n",
       " 'great tasting coffiee one best ever problem high shipping costs',\n",
       " 'husband took vacation costa rica wonderful time whole time drank britt dark roast loved taste no bitter taste plus normally drink decaf noticed britt regular dark roast not bother not order decaf anymore enjoy regular order line find best tasting coffee ever thanks growing best coffee beans world',\n",
       " 'coffee delicious full bodied leaves great almost chocolaty taste dad told trip costa rica',\n",
       " 'first tried britt dark roast costa rica lot rich flavor not bitter boughtit case ever since really no expensive gourmet brands find local store issimply best coffee ever tried many supposedly special ones years',\n",
       " 'first tasted coffee hotel coffee shop costa rica vacation bought bags brought back home us costa rica grows arabica coffee beans fantastic enjoy good coffee best morning strong flavorful full bodied not bitter cup drip coffee maker use two rounded scoops tbs finished last coffee looked amazon found exact brand purchased costa rica bought four bags getting',\n",
       " 'coffee smoothest dark roast coffee ever tasted pleasure sip full bodied coffee breakfast dinner',\n",
       " 'forget starbucks peets anything else real deal like good vintage wine britt coffee truly gourmet no taste really fussy coffee generally avoid trip costa rica fell love beverage use french press get full favor throw away coffee making contraptions beans deserve best taste buds deserve best no not work britt not get paid say guys britt read send sample two',\n",
       " 'husband fell love cafe britt coffee costa rica upon return delighted see could order amazon com coffee easy drink not bitter harsh great way start day highly recommended',\n",
       " 'love coffee like reviewers took trip costa rica immediately addicted bold flavorful coffee cover lover tried many different brands find britt hands best ever brought back one bag costa rica started ordering supply not go back bland store bought coffees definitely worth try not disappointed',\n",
       " 'used use coffee visited costa rica gave aunt thinks best coffee gave christmas excellent',\n",
       " 'product exactly advertised fresh unfortunately keep candy dish office going fast need reorder keep demand',\n",
       " 'delicious chocolate excellent espresso bean perfect roast purpose crunchy not bitter',\n",
       " 'chocolate covered espresso beans wonderful chocolate dark rich bean inside delightful blend flavors enough caffine really give zing',\n",
       " 'ordered coffee themed wedding arrived fight friends smelled tasted good literally hide box wedding big hit wedding day none left put tables great tasting product lowest price seen',\n",
       " 'need cut sugar way go love stevia iced tea great cereal also great stuff',\n",
       " 'started using nustevia several years ago back purchase health food store thanks amazon order within days never run product best tried several stevia products taste not nustevia please try not',\n",
       " 'looking healthier alternative splenda equal nustevia taste great container lasts long time',\n",
       " 'stevia pretty much natural zero calorie sweetener time powdered stevia bitter not nustevia nustevia absolutely no bitterness tastes exactly like real sugar amazing add plain yogurt amazing guilt free dessert breakfast side dish snack add tea coffee recipes anything truly magical product cheaper oz container amazon anywhere else also sell gnc oz also drinks highly recommend extremely potent liquid stevia sometimes powdered version takes dissolve iced beverages eventually dissolve though',\n",
       " 'years using synthetic sweeteners like equal sweet n low realized long term effects wanted find good alternative nustevia lucky discovery virtually no bitter aftertase natural using exclusively year works hot cold beverages comes bulk packets portability not used baking probably not chemistry recipes depends sugar something similar get good effect however daily use beverages product good',\n",
       " 'quite skeptical stevia first tried another brand thought not much difference taste felt better using natural product artificial sweeteners started looking getting bulk container happened upon product purchased product times quite pleased product bit concentrated using less product drinks cooking competitors deliveries always quick not issues product packaging',\n",
       " 'love use sugar substitute everything beverages desserts cooking not bitter even hot drinks like coffee baking good substitution charts online tell much stevia use per cup sugar need replace bulk sugar recipe also add homemade apple fiber make work kids not notice switch feel good using natural',\n",
       " 'happy discovered product tried several brands extract powder form nunaturals far best virtually no aftertaste quick dissolving convenient also economical cents serving use teaspoon measuring spoon sweetens coffee tea perfectly flavor get stevia powder happy',\n",
       " 'discovered product couple years ago really liked taste coffee tea fruit oatmeal lot less expensive packets switched large oz container price good not use sugar helps sweet not increased blood sugar yeah',\n",
       " 'love stevia tried many different kinds years one fave goes great coffee tea one auto ship get one month makes pretty cheap',\n",
       " 'stevia best tasting ever tried also mixes beverages thoroughly others service buyer prompt product arrived time excellent condition would order recommend others linda blyth',\n",
       " 'ordered much success liquid products not bitter fresh clean taste baked used stove oatmeal hot cocoa run ordering',\n",
       " 'nunaturals stevia sweetener use beverages cooking tried brands one best not odd taste tastes better sugar buy large ounce container lasts months wish would put products sold grocery stores soda stevia purchase health food store called virgil zero comes different flavors great not concerned sugar content traditional sodas product great think best stevia products market',\n",
       " 'tried every brand stevia market hands best use nu naturals nustevia sweetening purposes hard find even health food stores ones carry usually charge premium delighted find amazon com reasonable price even less obtained standing order',\n",
       " 'best tasting stevia tried also think better value others really like not open packets make gallon tea',\n",
       " 'recently low carb diet find no longer tolerate even natural sugars like agave honey dates raise blood sugar spikes insulin hormone whose message store fat insulin also causes kidneys retain water therefore would bloat high carb diet dilemma love sweets not problem thanks products like stevia natural plant safely used parts world sweetener hundreds years no calories no impact blood sugar although people might bit brain tricked thinking getting sugar stevia used legal usa cosmetic product politics companies made low calorie sweeteners aspartame not want competition yet aspartame gave headaches even sometimes symptoms multiple sclerosis would use stevia times aftertaste bad honest not crazy taste either tried nunaturals product awesome like no stevia tried not delicious also no aftertaste unless put way much common mistake people new comes tablets powdered form bottle handy packets individual servings also comes alcohol free liquid form even vanilla flavor unlike aspartame becomes even toxic heated stevia used baking nunaturals stevia baking blend since raw fooder not tell tastes sure good judging products thanks great products low carb raw diet not deprived sweets',\n",
       " 'trying get sugar product great sweet taste without spiking insulin no bitter aftertaste great diabetics anyone trying eat healthy love product',\n",
       " 'looking sweetener delicious tea stevia used sweeten hot cold tea almost say goodbye regular sugars drinks get taste stevia powder unlike artificial sweeteners stevia never bitter not leave nasty aftertaste mouth packets easy carry may even notice less cravings sugary foods using low calorie calories sweetener gram carbs ahead game every single time use one packet stevia using less sugar not even miss rebecca review',\n",
       " 'not like using artificial sweeteners chemicals not taste good caregiver diabetic dad discovered product hooked except hard find live found amazon put auto ship not run price gone lot since first found amazon however still costs stores find make limeade keep hand times gallon container water add cup lime juice stevia powder refreshing almost no calories no chemical aftertaste dad uses stevia coffee oatmeal not tried cooking although know make one designed baking possibly try winter',\n",
       " 'bought nunaturals white stevia maltodextrin several months ago trying cut back sugar artificial sweeteners first morning tried coffee hated tastes bitter equal sweet n low decided give another try day lemonade absolutely delicious also tried hot tea bitter wonderful iced tea think hot drinks bring bitterness stevia glad bought also box packets convenient go tried many different brands stevia far one not thrown also tried truvia not fan makes coffee tea taste like licorice',\n",
       " 'hated stevia licorice taste tried nustevia since day almost completely eliminated sugar drinks like plant based product not bio engineered no taste need little make anything taste sweet',\n",
       " 'great product stevia powder not raise blood glucose level natural use sparingly since much sweeter sugar tastes natural artifical sweeteners healthy use since organic natural sweetener',\n",
       " 'hooked stevia not natural tastes great truly guilt free sweetner brands tried nunaturals best dissolves easily ice tea not bitter taste keep packets car backpack eat use stevia baking blend replace sugar muffins cookies large oz jar best size use home keep tsp measuring spoon jar spoon given artificial sweetners no longer drink diet coke wont make stevia instead splenda not used stevia urge try used brands not like try nustevia impressed',\n",
       " 'first time tried product years ago venetian spa restaurant las vegas cup tea friends remarked delicious tasty made tea using ever since little goes long way use anytime would ordinarily use sweetener since artificial sweeteners unsafe unhealthy sweet tooth felt safe alternative not safer no aftertaste not raise blood sugar level particular stevia absolutely no bitter taste tried others since no comparison',\n",
       " 'cutting sugar diet went splenda finding also unhealthy baking made foods flat dry went stevia no calorie powder much research proved stevia used hundreds years no bad health effects trick using stevia use tiny amounts taste add bit time suit taste also found using stevia ratio best tasting best found using small amounts jar lasts months also best price anywhere swanson trusted vendor amazon',\n",
       " 'best tasting stevia powder tried powders weird taste one not recently bought bag online making way',\n",
       " 'used buy product size health food store florida dollars moved ny could not find stores looked online shipping costs still cost dollars use product tea coffee like better real sugar not find bitter even accidently put little much ice tea sometimes forget not real sugar ice tea especially like no additives texture taste used baking simple pound cakes cookies good',\n",
       " 'find jar product works better people without much dexterity hands vs using opening sweetener packets product works well cold hot things like homemade lemonade coffee easy open lid product dissolves easily cold liquids many types stevia',\n",
       " 'favorite stevia product subscribe save queried customer service nunaturals gmo use yes nunaturals uses gmo products canceled subscribe save order using',\n",
       " 'used use agave nectar honey even though picked organic still sugar desired put recipes actually got tinea versicolor due sugars products product great use protein shakes smoothies baking recipes muffins breads awesome make chocolate milkshake stuff really rounds edges cottage cheese chocolate protein powder cacao powder almond milk nustevia powderjust need maybe cup ingredient cup almond milk takes like sugary chocolate milk shake',\n",
       " 'nustevia white stevia powder amazing low carb diet last year lost lbs nustevia products big help success diet love sweet things without not think would able stay low carb diet unable eat sugar long long previously switched natural sweeteners like honey agave discovered not low carb diet would switched find something else use substitute nustevia products chose tried several types stevia nustevia products seem best far bitter aftertaste associated stevia products almost completely absent nustevia products nustevia white stevia powder super sweet use sparingly one bottle lasts long time happy product buying',\n",
       " 'tried various brands stevia always come back nunaturals buy ounce container use sweeten everything sweet tooth not need added pounds ticket drink lot tea sweetener lot stevia brands leave bitter taste best found resolve problem highly recommended',\n",
       " 'nice productfull quality items not cheap candies like baskets',\n",
       " 'dog loved think probably helped gas dare say breath',\n",
       " 'year old scottish terrier food allergies no wheat girl treat great settleing upset stomach dog looks forward charcoal bone treats',\n",
       " 'cardigan welsh corgi loves things stopped carrying petsmart go seem made good ingredients right size plus loves important',\n",
       " 'went searching charcoal dog biscuits reading help digestive gas bad breath appears one two brands market not tried one think called sportmix not make biscuit small dogs dog eating one day not say sure whether not work used really smell gas not dropped bomber like maybe due biscuits knows like biscuits much surely buy',\n",
       " 'food drug administration fda cautioning consumers chicken jerky products dogs also sold chicken tenders strips treats may associated illness dogs last months fda seen increase number complaints received dog illnesses associated consumption chicken jerky products imported china complaints reported fda dog owners veterinarians',\n",
       " 'not eat oats funny taste kids also think taste funny husband thinks ok pounds oats eat',\n",
       " 'good quality oats package came time oats worked well recipes admit single person bought oats boyfriend breakfast food lasted us year otherwise excellent buy',\n",
       " 'product fresh good not getting complaints anymore worth large quantity shipping charges hey oatmeal favorite',\n",
       " 'happy quality product price like reviewer would prefer plastic liner preserve freshness however continue buy product regardless quality oatmeal good price edit bag quality continues high',\n",
       " 'product high quality rich full flavor delivery unexpectedly fast negative would like see addressed product packed heavy paper sack may commonplace significant improvement would inner liner heavy weight food grade plastic bag sealed time open bag could either zip lock bag twist tie closure not make difference need practical way preserve freshness product keep bugs health spoilage issue oatmeal lot product needs either repackaged consumer small food grade bags containers expensive hard find single senior likes buy staple goods bulk save money provide food security long term storage big issue people like thom missouri',\n",
       " 'bag oatmeal seemed like way much time went found uses many recipes make weekly running high quality oatmeal much cheaper better anything found grocery store',\n",
       " 'honeyville rolled oats delicious product using make product designed increase enrich milk production lactating mothers oats shipped timely fashion amazing thing paid shipping oats encourage anyone likes oats order honeyville rolled oats flavor rest',\n",
       " 'better organic oats advertised elsewhere takes lots water not minute oats oatmeal cookies come right not crumbly soggy instant oats place not cookies',\n",
       " 'hi first grandson born wanted everything sun celebrate wonderful idea around long time however everything fine wonderful except fact not fresh little bubble gum cigars hard rock moral story fun item shipping much cigars least could fresh not hard',\n",
       " 'purchased item celebrate birth grandson opted real cigars might tasted better cigars hard hurt teeth chew not mention gum cigars much sweet',\n",
       " 'nothing good service ever since started ordering amazon com keep good work',\n",
       " 'third child first son born sent oldest school kindergarten friends celebrate really made feel important school helped celebrate birth little boy loved friends enjoyed btw teachers clear teachers school first no hate mail please',\n",
       " 'product arrived timely manner good condition hit family son arrived',\n",
       " 'ordered amazon fulfilled associate normal amazon shipping etc cigars cracked stale chewing gum shatter break no way fit consumption easy return process',\n",
       " 'purchased son give baby boy born make nice announcement new arrival however hard actually want chew bubble gum',\n",
       " 'formula great works wonders baby spits wtf expensive cans buy store less almost double price not get',\n",
       " 'used bbq sauce good especially considering free many negatives like corn syrup us gluten price not right order directly daddy sam website pay oz bottle price would case price although description says',\n",
       " 'not great plain wonderful mixed herbs little bland not put anything rosehips infuser hibiscus goes great though great tea children mild fruity adults add something else also eat rosehips brewed sounds weird great taste little bit like apple lots vitamin c watch pith best word think little hairlike thorns surround seeds though decide eat hips every find one not de pithed properly hence need avoid pith eat brewed hips',\n",
       " 'managed find crackers countries travels run love individually wrapped small packets stay fresh container makes great carry purse take work airplanes snacks etc also love not overly salted like many american brand crackers company shipped great job fast',\n",
       " 'best tasting cracker ever tasted may cost less filipino asian store well good unless not live close one not note box says pound ounces description page says whatever z meant oz incorrect box case able find even cheaper online price shown page amazon grin whenever buy stuff like sure consider bottom line price product plus shipping check alternative amazon pages cheaper page box free shipping total order page',\n",
       " 'product quick snack light tasteful spread like takes hardly ay space couple packets placed bag individually wrapped crackers makes stay fresh longer periods',\n",
       " 'cookies big hit progressive new year eve dinner everyone enjoyed reading fortune time arrived another house really kept party moving',\n",
       " 'cookie crispy good flavorful fortunes thoughtful not shallow ones seeing lately patient even time egg walk received quantity quality ordered',\n",
       " 'primary reason ordering picture shown cookies green acknowledge important information heading listed warning actual product may different compared shown aside color problem shipped quickly properly one two broken cookies arrival no big deal eat come anyway not sure flavor delicious per description not picky color good value',\n",
       " 'expecting cookies going normal size wrong planning dipping chocolates r not average size disappointed go n find normal size cookies waste money also needed broken not put fragile box outside',\n",
       " 'bought gift sister excited see arrived great condition sister loved',\n",
       " 'ordered fortune cookies rewards students time passed multiplication test go along theme fortunately know math facts majority cookies arrived still tact understand shipping bound broken cookies please product customer service definitely ordering future make sure refer family friends business',\n",
       " 'reading earlier reviews genuine chinese fortunes served chinese christmas dinner greatly disappointed guests three sample fortunes life not struggle wiggle management things right leadership right things feeling try throwing work not fortunes self help mini bites fortune love travel soon satisfied not matter predictive not matters state fortune beware dog corner house would fun get life wiggle boring cookies arrived schedule promised good condition individual wrappers would hoped content counts fortune cookies especially',\n",
       " 'cookies kind stail fast shipping good packing cookies not broken',\n",
       " 'second time ordered product happy enough first time place order cookies fine delivery quick thank',\n",
       " 'well packed broken understandable cookies tasty notes interesting friends really enjoyed thx',\n",
       " 'great product fast shipment food product tasted great none fortune cookies opened would buy seller',\n",
       " 'brought cookies dish pass family christmas get together hit cookies fresh unbroken packaging well done delivery prompt sisters fun fortunes adding phrase bed reading fortune use amazon vendor house rice',\n",
       " 'daughter kindergarten class celebrated chinese new year charge providing fortune cookies company prompt delivery cookies great success teacher commented funny fortunes kindergartens',\n",
       " 'fortune cookies shipped immediately packed well e none arrived broken cookie delicious fortunes classic chinese not modern version',\n",
       " 'pleased product almost not buy looked green computer received normal tan color',\n",
       " 'not sure exactly really helps sinus condition family member spent time china said tasted like healing herbs taste earthy takes getting used worth',\n",
       " 'bought tea major sinus infection crisis included headache earache toothache drink multiple cups days sad report absolutely no effect taste not really matters every sinus sufferer knows eating dirt would make pain go away would eat dirt',\n",
       " 'high hopes purchased produce shipping amazingly fast tried times not enjoy taste since not sweeten tea not great nothing sinuses not purchase recommend seller',\n",
       " 'tea not anything steal issues itching throat ear everything else enjoy smell ill say last hours',\n",
       " 'suffering post nasal drip congestion many years tea made big difference couple days drink times per day feel much better breathe easier little no post nasal drip throughout day',\n",
       " 'love sinus buster tea husband thinks great clears sinus regularly',\n",
       " 'husband taking sinus buster tea day bedtime months already usually real bad sinus problem almost completely gone tea wonderful really helps skipped days ran sinus came back not want skip long anymore highly recommended',\n",
       " 'sinus buster tea interesting aroma seeping taste acquired not offense least say like burnt bark really overheated coffee no drainage sinuses drinking one cup tea next morning could feel relief pressure pain would prefer product inhaled sinus relief agent plus ingredients tea package english nothing unknown',\n",
       " 'found tea accident worked well later ordered not able find really helps open nasal passages since starting use whenever bad nasal congestion nothad sinus infection everyone different sure worked',\n",
       " 'allergy season usually means large amounts sudafed not particularly like side affects sudafed tried tons different decongestants first thing sudafed actually work not tried sinus migraine yet moderate congestion works wonders smells bit taste fine make sure seep mins not work give mins kick seems last hrs no side affects tell glad rid racing heart side affect dry mouth sore throat comes sudafed works great paired sinus rinse netty pot',\n",
       " 'reading great reviews optimistically ordered tea problems sinus congestion often winter tried kinds remedies little success unfortunately really not anything taste ok bearable nothing relieve sinus congestion far things found helped somewhat vicks personal warm mist humidifier neti xlear',\n",
       " 'change original post tea husband suffer sinus problems made big tea pot tea bags let steep minutes cups husband one neither us noticed difference sinuses days later decided try tea brewed one cup tea one tea bag let sit several minutes guess first time tried not make strong enough time noticed difference sinuses little clearer',\n",
       " 'used sinus infection lost voice completely sore throat found product yelp went herbal asian store chinatown phila paid difference not get tea bags dissoluble cubes place hot water worked great took hours work worked next day voice back completely no sore throat one night woke terrible post nasal drip cough took cup tea eliminated cough put right sleep must buy cheap natural cant go wrong give try',\n",
       " 'bought tea based upon research done ingredients reading reviews posted tea wonderful flavor smell enjoyed much helps bedtime sinus issues great stuff',\n",
       " 'happy drains ears sinuses quite effectively works better guaifenisen',\n",
       " 'naturapath told take vitamin vitamin c something mixed got better sinus issue',\n",
       " 'ordered numerous teas potions lotions remedies never lack product order sealed tea bag wrapping question sealed without tea bag inside would said something sooner however tried sinus infection last times tried use one sealed pouch empty beware',\n",
       " 'absolutely recommend product anyone suffers sinus headaches brother given couple bags try months ago past serious sinus headaches drinking tea headaches gone clicking nostril ceased relieved recently drank tea dry cough big mistake gave sore throat well issues never drink common cold symptoms love product though',\n",
       " 'please able get tea amazon pleased service sinus buster herbal tea helpful gives great relief allergy suffered hay fever allergy past years first time find medication natural no side affects compare medication allergy discovered tea farm market pa bus ride church first hesitated purchase tea somoeone told buy tea used year ago got great relief allergy thanks mc',\n",
       " 'love tea seriously mom suffer bad sinus problems heard tea called sinus busters see talk know good tea takes blues away make sleep great aloha',\n",
       " 'used take sudafed stuffy nose tried tea felt relief immediately usually drink tea twice week not yet felt stuffy nose would highly recommend',\n",
       " 'small night club hand popular snack item first giving away started going way much justify anymore addition not available anywhere town found go sam club miles away stock apparently close perfect blend wide variety tastes one could expect find company also makes club mix opposed pub mix made mistake buying huge supply met strong continued ire clientele look apparently club mix lacks vital ingredient',\n",
       " 'received whole package delicious tasty perfectly seasoned mix contains correct variety snacks pretzels crackers nuts etc course iraq look forward receiving care packages awesome snacks contain however snack cat meow honestly best snack mix ever tasted fellow marines agree also eaten everyone inquiring received could say caring patriot included one care box goodies loved much ended page decided go online search see get multiple packages shipped unit iraq not mind paying extra bucks fellow marines enjoy good worth great product try not think chex mix light even dim candle next utz pub mix believe try want keep stocked cabinet everyone family friends enjoy',\n",
       " 'definitely best snack mix ever got buddies many movie nights deployed iraq',\n",
       " 'agree said great snack wanted say piad pack oz containers actual utz site',\n",
       " 'tasted snack local pub found tasty much better chips mixes told sold sam club wegman per container bought utz pack piece different taste texture could not ask delicious snack better price thank utz',\n",
       " 'taste great gave terrible migraine msg sensitive beware also msg addition usually way fake true flavor',\n",
       " 'hands best snack ever voraciously consume potentially unhealthy pace contain msg warned not dissuade would never give shot godsend road trips movie knights parties general get togethers kinds',\n",
       " 'enjoyed product also provided fast shipping need order',\n",
       " 'mix great anytime love would recommend anyone likes chex mix',\n",
       " 'addicting fantastic snack mix wonderful variety crackers blend flavors',\n",
       " 'found tubs costco dismayed discover no longer carrying buy amazon satisfied snacks tasty not salty offers variety chips mix blend nicely',\n",
       " 'absolutely love mix keep home bar everyone loves',\n",
       " 'found mix ft myer commissary looked product last time visited commissary could not find online looking found could eat day tried several different snack mixes many pretzels nice balance flavors textures not lot pretzels stocking',\n",
       " 'love eat pasta totally clueless make one saw grocery earlier decided try followed instructions viola one awesome dinner note add parmesan romano cheese add flavor',\n",
       " 'thanks amazon carrying wonderful product local grocery store no longer carries product generally promotes thier private label house brands folks enjoy fettuccine alfredo product cant beat fast easy prepare excellent italian pasta dinner ready minutes less add extra parm cheese mix yet personal preference really enjoy tossing boneless skinless chicken grilled add sauce create chicken alfredo thanks amazon mc cormicks making product availalbe chuck runzo pittsburgh pa',\n",
       " 'chocolate coconut lose love ross chocolates really tell made top quality chocolate creamy flavorful enjoy buy several flavors great quality taste especially try keep sugar intake minimum keep supply refrigerator airtight containers times keep nicely',\n",
       " 'nice product not mounds bar helps satisfy urge',\n",
       " 'high hopes ordered tea years ago san francisco used buy lovely rose black chinatown favorite tea ever unfortunately blend lacks body high caffeine prefer opposite full bodied tea brew strong without sending blood pressure roof someone wants light tasting tea powerful caffeine punch might good choice',\n",
       " 'one boys needed lose weight not put food floor chubby guy protein rich no product food higher skinny boy jump higher food sits going stale really go food chubby boy losing ounce week',\n",
       " 'cats happily eating felidae platinum two years got new bag shape food different tried new food first put bowls bowls sit full kitties not touch food noticed similar reviews related formula changes past unfortunately need find new food cats eat',\n",
       " 'three cats youngest eleven years old another fifteen oldest well ancient vet told us ten years ago youngest blob lays looks like footstool two arthritic skinny since success canidae platinum senior dogs figured would give try cats would low ash purina one urinary tract formula entire lives thankfully no ut problems buster youngest still blob six months plus felidae senior overweight cats however two much active tell really feeling better since changed food felidae even prissy ancient one started play tease dogs getting chase purina one wanted sleep think get cat fairly early weight problems effective however glucosamine certainly help older fur balls happier life',\n",
       " 'much good thing worked kibble time slowly shifting percentage felidae national junk food brand bowl natural time cats could not keep mess moved',\n",
       " 'canidae felidae also changed formula cats not like change comes food change without putting label noticed color food changed smell notice also reviewd canidae happened time dogs issues prior change food almost lost two cats moved new home cats get upset change enviorment loud noise stop eating depends cat two stopped eating lost lot weight took vet took months get back normal year since better formula food changed started noitce not eating much started bug us asked shop owner feed store no knowledge change food not customers yelling dogs food making dogs sick right away changed cats food started chowing not suffered one bit like dogs cats sensitve animals changes thier food could cause stop eating anyone thinking purchasing food not rescued fixed cats none picky eaters change formula could death not found change formula urge anyone problems go consumer affairs website also fda website write letter let know affected animal canidae not care change affected animals tell not buy horrible',\n",
       " 'started cat felidae platinum weeks ago loves older cat somewhat overweight grouchy temperament first mixed previous food figured ate felidae left old food felidae ten days old food entirely much sweeter happier cat think must agree better easily digested something case happy purchaser felidae not agree previous reviewer cats not like clearly mine',\n",
       " 'fed cats lot stuff boy cats not picky eaters loved purina loved nutro loved iams love whatever feed review based affectionate owners love certain age instructed vet consider senior foods lower carb foods catties fatties tried types food evinced no change made litter super stink small kibble cats barfed not chew swallow felidae done trick no problems speak consistent litter bearable nose cats love kibble sized appropriate chewing kicker feeding cats felidae demeanor improved coats super soft lush new improvements directly attribute food loyal felidae consumers additionally absence corn product feed seems lessen remove reactions friends cat allergies',\n",
       " 'really choice comes soy dairy free baking unless want use lard spectrum shortening uses palm kernel oil consistancy regular crisco perhaps little stiffer seems bake fine need soy dairy free highly recommend',\n",
       " 'used types baking including cakes biscuits cookies works great every bit good crisco buy organic',\n",
       " 'makes best tortillas use lasts awhile mine cost price listed sale bought',\n",
       " 'decided try formula baby since started gassy however formula made gassy formula thick produces lot bubbles gets fed baby tried make formula anticipation let bubbles disolve not work',\n",
       " 'shame use much corn syrup babies disappointed noticed kind sold china even better',\n",
       " 'newborn cries inconsolably try lactose free formula right away even though expensive however ingredients may not look good important shop around going use lactose free formula lactose free formulas always expensive one loaded processed corn syrup solids wikipedia baby colic also known infant colic three month colic infantile colic colic condition otherwise healthy baby cries screams frequently extended periods without discernible reason know happens baby awful not able anything immediately relieve baby contains dha ara iron baby formulas required law lactose free formula expensive goes specialized difficult manufacturing process told company public relations representative much food u prepared corn syrup solids not worry told ok notice obesity rate high',\n",
       " 'really want feeding baby bottle corn syrup used realized switched gerber much better baby',\n",
       " 'great formula son not getting stomach pains like regular similac actually likes taste thing way cheaper costco per tax amazon not willing price match',\n",
       " 'good price product started baby similac soy formula much son tummy formula welcomed change unfortunately came funky time similac big recall larger containers buying wholesale store smaller containers sold local stores not fun situation finding reasonable price much needed appreciated rescue',\n",
       " 'formula life saver old little viral bug made spit lot fussy formula barely spits much happier ask doctor sample took baby tummy troubles doc gave us full sized formula take home try considering costs retail great pros reduced spit gasreduced fussinesseasy mix upcons baby not go long feedings probably easier digestyou also get free cans similac one advance one sensitive mail register website great product great customer service',\n",
       " 'bought christmas present smells like milk shake might try might make coffee drinker',\n",
       " 'great temporary fence horses kinda unwieldy may need little help setting smallish person works great setup',\n",
       " 'not owned portable fence horses impressed liking product much upon opening package happy portability carrying bag shocked lightweight compact system great accessory throw trailer taking horses around event need temporary corral couple horses set not hold two horses comfortably not think would ever try manage get inside like product advertises instructions surprisingly simple set easily husband working see would great animals well alpacas need horses success containing step posts fantastically designed overall design makes fence versatile setting easily pretty much anywhere horse go happy design portability get lot good use system think',\n",
       " 'kit pulls together several standard components rather nicely using supplemental grazing horses particularly get small areas not permanently enclosed pasture get overgrown delicious like setup time figure components minutes pieces make reasonable temporary electric corral tape posts charger ground gate hook step posts fairly standard nice pointy metal stakes bottom make relatively easy insert moist ground probably not get rock hard dry ground not surprise clips give flexibility fence height probably seen feed store kind post pretty short feel quite short compared normal horse fence kit supposed come electric tape mine vine kit enough one well behaved horse square tape not much visual barrier especially one strand not fence would trust problem horse long unattended periods would enough either two strands square would much better value time spent grazing time x still quite small fence still not substantial would straightforward add tape adding distance also increases load charger product description says horses would not feel safe two quiet horses know well already familiar electric fence maybe three brief periods x nearby secure outer fence grazing three horses would area mowed couple hours charger uses batteries plenty zap new pleased easy work spike allowing set away fence connections long enough put nose range grounding nail easy set pull like comes simple corner bracing system set without corner braces depending upon tight like fence stiff ground need braces glad option tape comes handy small spinning jenny designed hang fence installed simple thing thoughtfully done makes easy unroll fence setting easy reroll putting away no problem whole setup takedown hook gate not quite match brackets posts little bigger hook sort metal bracket would nice give sense secure latch still counting fence never touched not big problem bag kit amazing everything fits inside beautifully thoughtful pockets even special pocket instructions easy carry extremely organized impressed see thought effort put bag makes kit much easier use deal pile fence parts bag big enough room extra items long post compartment smaller bag section nice handy kit around quiet horses respect electric fence',\n",
       " 'love portable electric corrals fantastic option containing horses camping etc easy use give horse walking around room not require level set area flexible size shape small enough keep handy trailer tack room much prefer using portable panels high lining tying trailer etc many portable corral kits market similar kinds components except zareba ezee different animal give component component rundown items kit charger kit comes charger takes batteries leery less stellar performance charger past one works pretty good producing reasonable strength zap feet electric tape good grounding damp solid soil horse already accustomed respectful electric fencing sufficient charger easy use fence ground terminals clearly marked switch accessible light audible sound tell electric tape kit advertised coming feet tape kit feet feet enough one horse not know coming statement perfect containing horses short periods time no way not even close even received full feet course easy enough pick electric tape farm store beware tape add less zap get charger not sure charger would strong enough feet tape tape kit comes handle pre installed nice handle good feel not connect nicely posts rigged extra little tape loop hook handle step posts favorite kind step posts post numerous clips slide tape set right height quick easy insert remove tape clips making set take easier corner guy lines kit comes nice corner guy lines metal bracing stakes honestly probably never use style fence usually not much tension posts needed corner guy lines add set take time prefer use corner guy lines think like ones kit nice quality adjustable lines metal stakes wires ground rod etc course kit contains necessary wires connect charger fence charger ground ground rod pointed spike nothing special carrying bag oh gosh carrying bag bag one long skinny section posts separate snap zipper tote components within smaller bag separate compartments elastic holders piece no jumble stuff love one quibble one step posts pierced bag packing shipping bag made pretty heavy duty fabric not quite heavy duty enough stand pointed spike ends bag not reinforced avoid problem portable fence kit good seen would reasonable choice anyone wanting camping corral not expect contain horses unless rotating horses one time',\n",
       " 'got take along backpacking trips horses works fine purpose size perfect worked like charm two horses not attempt getaway least easy put easy take along portability makes camping winner',\n",
       " 'not horses not using traditional way backyard redone fences pool though covered concerned wanderers etc came handy easy set',\n",
       " 'product effective convenient able assemble working within minutes worked great maternity ward alpaca millay new cria able give private time not feeling though separated herd highly recommend product many uses future please view pictures provided customer photo section',\n",
       " 'always impressed someone tries solve old problem new way never happy hobbling horse would rather could escape dangerous situation something unpredictable far likely happen trail home sooo device compact weighs pounds thus easy pack trail rides since operates easily obtainable cells no problem grid fi shock portable paddock showed nice durable red cordura nylon case long part contains eight molded reinforced plastic stakes foot push tabs make easy get metal spikes bottom ground working height seems feet multiple slots allow variety configurations set smaller bag attaches pole bag snaps contains conductive tape reel no not know product description says transformer nicely molded durable looking green plastic transformer stand tamped ground shoulder strap two cell batteries promptly put safer place could not accidentally contact conductive material discharge proved easy enough set area clear tall brush could cause trouble contacting live tape properly set paddock batteries not drain course carried extras also chose guy corners used tents course bring extra rope tent stakes purpose no problem worked one not huge horse trained electric fences not challenge sure beast size could easily break would want danger no not see stated horses could contained enclosure viable solution trail mare',\n",
       " 'bought sister christmas loved afraid would eat took box work within hour finished interns',\n",
       " 'time received product packages melted thrown away everything bag melted together',\n",
       " 'found local pet store could not locate great price dogs love rec would shipment quickly no problems',\n",
       " 'bought product dogs accidents laundry room overnight not sure works stopped peeing dogs love em',\n",
       " 'pug absolutely adores treats anything one get anything away get go anywhere big help wonderful treat',\n",
       " 'product great arrived mostly melted together instead individual drop pieces sure heated shipping live central california temperatures get able use anyway cutting partly fault try remember order winter months cooler weather excellent product',\n",
       " 'smell good tempted try keep real chocolate locked house two chocoholic dogs raid cupboards chew open drawers get happy instead glad found safe alternative',\n",
       " 'dogs dogs like spoil love special treats',\n",
       " 'ordered product dog loves no one cares degrees outside recieved one big melted ball thought would ship dry ice summer hot area dont order',\n",
       " 'buying product year max would eat fast could give however one two drops time reward limit yogurt favorite',\n",
       " 'must say vitakraft put life back dog old vitakraft offers vitamins minerals getting food energy begs choco drops',\n",
       " 'dog loves vitakraft dog drops carob much trick possible one sadly getting harder harder find thrilled find price great',\n",
       " 'dog loves treats get anything using much cheaper using amazon even shipping charges',\n",
       " 'superior dog treat chocolate flavor drops not toxic dogs vitamin enriched dogs love grandchildren ate thinking hershey kisses children mother pharmacist stated drops not toxic children dogs product excellent service amazon supplier excellent wish supplier would not use ups shipper ups slower snail mail',\n",
       " 'puppy megabyte picky puppy spending hundreds dollars finding treats eat one two',\n",
       " 'not believe actually sale needs recalled sugar absolutely unhealthy pets not digest assimilate sugar like every vet tell thing never see quality treats food sugar corn syrup ingredient list see list not buy',\n",
       " 'wonderful warm flavored tea especially colder weather tea sweet soothing chamomile fragrance subtle sweet one better chamomile teas find hard sleep times cup sweet chamomile tea may help really like sweet taste try bigelow chamomile mango herbal tea highly recommend',\n",
       " 'great selection hot sauces good variety flavor different bottles unique taste heat around tabasco sauce oh except dave insanity pleading sweet release death sauces tasty usable everyday cooking recommended',\n",
       " 'guy love saucethings perfect gift love wooden crate packaging great idea perfect gift',\n",
       " 'fabulous variety hot sauces range flavors heat bought gift brother ended sampling using truly flavorful hot use omelets burritos nachos beans',\n",
       " 'bought gift pack really enjoyed hottest hot sauce pack darn hot burning minutes washing mouth water one others really good wooden case not hold bottles well sauces good would buy',\n",
       " 'searching hot sauces peppers compliment cuisine finally found not like everything hot insanity sauce others less intense grouping anyone wanting use sauces read instructions bottles good job dave',\n",
       " 'since insanity sauce decided buy dad six pack birthday tried sauces unfortunately say none sauces even come close heat insanity sauce main reason buy hot sauce first place feel heat heat lovers looking buy six pack recommend buy six insanity sauce bottles instead much happier',\n",
       " 'excellent customer service quick ship well packed merchandise new supplier things hot',\n",
       " 'son loved sauces sauce way hot insanity sauce use teensy tiny bit using',\n",
       " 'gave gift brother fans hot sauces thought would give try wooden packaging looked nice sturdy enough could used storage transport sauces brother says liked sauces would not share chirstmas day never got chance try',\n",
       " 'cool kit gifts great price kit dave sauce use home good variety issue bottles not hold wood gift box well slide fall open spaces front back wooden gift box would buy',\n",
       " 'somehow feel healtier eating things instead peanuts not know either also unlike peanuts limit intake handful not whole bag',\n",
       " 'soy crisps filling satisfying looking something great salty crunch high fiber protein great trying watch calorie intake think great recommend highly',\n",
       " 'consistent soy crisps light flavorful always fresh usually arrive good condition not crumbs bit salty point might bad depends expecting',\n",
       " 'bad habit snacking not get rid purchased make snacking little less bad first time tried like ugh gross soon started grow crispy without deep fried potato chip lightly salted not different fattening unhealthy seasonings flavorings one entire bag like calories actually quite good really like find myeslf reaching bag gensoy type chip',\n",
       " 'really love snacks low calories fat high protein important vegetarian',\n",
       " 'purchasing product months taste product inconsistent lot number lot number gotten cases chips no flavor contacted manufacturer times not received response latest inquiry not recommend purchasing',\n",
       " 'bought decided wanted eat even snack healthier many good reviews decided try admit big mistake order whole stupid case without trying first opened looked totally unappetizing tasted tasted like rice cake styrofoam salt also unusual texture combination taste texture disappointing teenage daughter tried felt way not even dog would eat tried variety dips could not come tolerable way choke luckily niece newly vegetarian hungry time took hands still buying case begin waste',\n",
       " 'product received not product pictured described item page worst part attempted return case soy crisps unable amazon said non refundable item wasted stuck case soy crisps not eat',\n",
       " 'soy crisps excellent choice snacking grams protein serving much better potato chips snack foods great flavor enough salt leave feeling satisfied nutritionally snackwise grandchildren know crisps offered house snacking highly recommend',\n",
       " 'love soy crisps perfect salty crunch hard time finding snack foods not wheat corn sort sugar sweetener fit bill salty tho like way not used kindof surprising',\n",
       " 'stores not carrying product thank goodness still get',\n",
       " 'love flavor soy crisps deep sea salted however not available smaller individual size like flavors husband prefers lightly salted ones crispier sea salted ones right like softer crunch sort reminds popcorn fact not mind big bag occasions example replacement big bag popcorn watching movie nice healthy treat',\n",
       " 'thing use buy stores less great taste great package eveything exact thing love stuff thanks',\n",
       " 'recently found allergic wheat milk imagine severely limits snacking options local grocery clearancing organic section tried good love salted plain rice cakes diet change add extra punch flavor crunch yum',\n",
       " 'one favorite ways eat grains plus good source protein chips per serving right wish little less salt calorie fat fiber content pretty healthy great soup salads plain would definitely recommend',\n",
       " 'love light crispy salty snacks soy crisps best one found calories per calories bag could literally eat entire bag regular basis not feel bad several flavors deep sea salt favorite subtle enhances natural flavor rice soy delish shipped fast crisps tact great purchase ordering',\n",
       " 'people watching weight nutrition chips excellent substitute regular chips plenty protein well amazon price much cheaper buying packs local grocery store',\n",
       " 'found co worker delicious low calorie pack protein eating rather usual pretzels chips helped slim get case amazon since better buy supermarket not always carry',\n",
       " 'wanted give soy crisps justice stars ordering time bought bag sea salt flavor crisps bag bbq crisps month ago bid eat healthy food always loved bbq chips especially ruffles lays k c masterpiece chips got killing slowly right busted open bbq soy crisps gagged could bbq tasted like cardboard gave friends eat anything begrudgingly opened sea salt bag though palatable still disappointed know thought said stars gets better anyway sworn chips midday snacking two weeks saw nothing counter genisoy soy crisps would eat two three ran bought bags sea salt flavor happened must akin rebooting computer defragging hard drive body forgot strong bbq flavored chips like started craving soy crisps began taste delicious roasted soybean flavor like roasted salted soy beans sell jars completely missed apparently not sweet red crusted overbearing bbq powder polished next bags three days ordering amazon cheaper per bag local grocery store seems want punish wallet trying eat healthy food advice give soy crisps chance not mix regular doritos bbq ruffles think awful stop eating month oily bbq chips deadened taste buds years reboot taste buds markedly healthier chips feel better snacking',\n",
       " 'big fan carbs fat protein balance crisps salt not overpowering taste ok better soy chips genisoy tortilla chips alright not like crunch chip',\n",
       " 'huge fan genisoy soy crisps deep sea salted flavor love crunch texture non greasy snack flavor subtle light no heavy salty taste greasy lips fingers eating also like really indulge not feel regret eating many calories soy crisps fav crunchy treat',\n",
       " 'christmas eve tea not actually contain tea not christmas eve although frazzled releave stress christmas eve good time not know anyone not like often given gifts especially nice winter mint teas little brisk not produce level cozy comfort christmas eve soothing combination spices mint almost comforting cup warm milk without calories',\n",
       " 'favorite tea drink year round never get tired like others good time day not strong still nicely flavorful good balance minty spicy herbal',\n",
       " 'ordered white christmas christmas eve christmas morning blends last year holidays fell love christmas eve smoothest bunch wonderful flavor use iced teas year round honestly say never got tea much tried stash teas sent licorice lemon flavors father called ask would gotten neighbor wanted get wife tried addicted visit stashtea website lots tea related bits baubles make perfect hostess gifts holidays along plate cookies',\n",
       " 'wait cereal go sale buy sale price usually per ounce box regular price small boxes less one ounce cents per box nearly per ounce sale price cents per ounce regular price cents per ounce hand make two rice krispie treats one box starbucks sells rice krispie treats one lowest priced snacks',\n",
       " 'searching everywhere locally putting elated find amazon pudding mother made chocolate pies tradition continues thank much amazon',\n",
       " 'come sent instant choc fudge pudding order told send cook serve choc fudge pudding show picture could not send makes wonder order anything else pissed',\n",
       " 'far best pudding mix not see store shelves everyone seems buy milk chocolate pudding guess not like cook pudding stove best pudding cooked cooked instant pudding not equal carl',\n",
       " 'deal amazon prime free shipping even cheaper subscription tempting make lot desserts like one favorites layered graham crackers pudding mixed frozen whipped topping topped melted chocolate frosting lots stores discontinuing name brands great item buy',\n",
       " 'always enjoy jello pudding however one package recieved opened powder spilled really alters price recieve packages instead promised',\n",
       " 'substitute nut milk coconut milk goat milk even soy milk amilk instant pudding add coconut cream toasted coconut coconut cream pie pudding add raw cocoa powder chocolate pudding add softened cream cheese cheese cake base puddin limited imagination also excellent addition cake mix packet extra tablespoon liquid',\n",
       " 'like always label best desserts ounce vanilla pudding not exeption easy make vey fast size best little families vanilla flavor fantastic',\n",
       " 'husband loves pudding kind dessert end dinner great way appease cravings not full butter fat love add whatever want fancy little love put cocoa powder make elegant tasting chocolate pudding mix berries kids',\n",
       " 'children eat healthy products love graham crackers glad available amazon',\n",
       " 'rarely want eat much first arise morning coffee found cinnamon graham crackers work great little something eat along coffee graham crackers not anything super duper amazing nice cinnamony graham crackers organic',\n",
       " 'husband limit amount sugar takes contain no sugar taste great',\n",
       " 'buying new morning graham crackers since february never problem damage crackers shipping amazon remove graham crackers subscribe save amazon remove graham crackers prime crackers much higher price third party seller purchase crackers whole foods not fair amazon take away connivence ordering case',\n",
       " 'candy bars might seem like overkill always tell going give company course truth way good give away anybody go get good news shipped fresh soft last notill finish stash awesome',\n",
       " 'product shipped fresh even takes family months eat way box last bit honey still fresher anything buy shelf local grocer large candy bar sized wrapped wax paper fresh soft like taffy breeze extract wax paper plus fullest flavor ever enjoy',\n",
       " 'second order bit honey first one arived celophane cut one item missing hope mr sticky fingers found candy enjoyable',\n",
       " 'hate honey love bit honey candy really not taste honey like bars better individually wrapped candies shape easier eat like hard brittle chewy not soft actually cheaper per bar buy locally',\n",
       " 'almost gone already pounds heavier candy bars much fresher anything stores find outlet carries yum',\n",
       " 'not bit honey since kid seeing amazon made purchase no brainer good remember',\n",
       " 'excellent quality fresh',\n",
       " 'glad ordered candy still taste like years ago',\n",
       " 'going reorder bit honey last long time enjoy eating slowly mouth like kid',\n",
       " 'love taffyshe laffyher name bit honeyshe gives kissoh bliss',\n",
       " 'neighbor love candy difficult find oz packets stores decided purchase whole case fresh great tasting',\n",
       " 'bit honey candy ordered took back childhood used buy product arrived timely manner good shape course tasted delicous',\n",
       " 'best bit honey ever eaten always bought product local grocery store always hard figured suppose way eating box bought know better candy soft delicious plan continue buying bit honey',\n",
       " 'excellent candy us limit chocolate intake bar sectioned six pieces helps portion control makes perfect sharing quibble sometimes hard get waxed paper candy quite sticky',\n",
       " 'used sons bday party one sweet treats great kids loved price fabulous way better purchasing elsewhere item came described fresh thank amazon com',\n",
       " 'purchased bulk candies old terrible flavors simply smashed dust great buy none drawbacks',\n",
       " 'ordered couple times arrive super fresh sealed every time used buy roll day gas station stash home available anytime yumm',\n",
       " 'sweetarts evokes nostalgic memories going candy store pining sweet sour chalky taste classic candy hard candy easily chewable pleasant texture taste really not go wrong candy drawback hard stop one know eaten entire roll',\n",
       " 'like sweetarts want bulk amount product sweetarts came perfectly sealed excellent condition no downsides',\n",
       " 'excellent shipment product well looking forward purchase thanksexcellent shipment product well looking forward purchase thanksexcellent shipment product well looking forward purchase thanks',\n",
       " 'good sweetsamazon always excellentamazon always excellentamazon always excellentamazon always excellent',\n",
       " 'right mostly sprouting cats eat grass love rotate around wheatgrass rye',\n",
       " 'sooooo deliscious bad ate em fast gained pds fault',\n",
       " 'ordered pack ate quickly husband like taking work lunch recipe get protein slip fresh unbroken egg box leave home morning add egg water cook lunchtime',\n",
       " 'quick easy portable think tastes great favorite flavor',\n",
       " 'tasty gluten free option kids loved not spicy',\n",
       " 'thai coconut ginger noodles quick easy prepare rewarded delicious noodles enjoy share side dish another noodle enjoyer',\n",
       " 'taste thai coconut ginger noodles really yummy coconut ginger flavors mild recloseable chinese takeout shaped box conveniently serves microwaveable container one box makes enough filling lunches whole family share side dish kids always lunge opportunity negative thing say wish not many separate little seasoning packets mix plus noodles single combined spice packet would easier course one benefit multiple packets ability leave certain spice not fond like',\n",
       " 'liked much ordered keepre ordering',\n",
       " 'simply not like easy prepare eat feel eatting lot artificial ingredients cannot even finish one fourth',\n",
       " 'tasty easy make need quick filling meal needs gluten free works great try thai peanut one',\n",
       " 'thanks egg tip works well really helps product nevertheless ended giving away three six containers not thrilled nutritional information',\n",
       " 'tried love thai food ginger coconut problem mess not even vaguely resemble thai food no discernible ginger coconut taste plus noodles stick together even prepared suggested come big clump try eat also nutrition label misleading dieting read labels carefully says serving one cup also says one package weighs half cup figured not say otherwise type meal usually one serving adding water would one serving per package not one package actually two servings calories far pre packaged noodle meal seen excessive calorie content might ok product tasted good not would definitely recommend stay away mess',\n",
       " 'bought son take work lunch apparently co workers found smell offensive asked not eat work maybe bad batch',\n",
       " 'provided use clean preferably purified water cook great tasting hold main meal far superior instant noodle packages part gluten meat free except shrimp flavor people remarked sized packaging actually allows good thorough mixing flavor packets noodles little chance spillage coconut ginger variety tastes good may bit subtle looking actual taste thai would recommend thai peanut noodles seeking something bit pronounced thai flavor highly recommend taste thai peanut salad dressing added salads meats peanut noodles spicy thai experience overall taste quantity subscribe save offer provides best deal comparatively speaking terms price wal mart offers noodles cents cheaper compared subscription price not seem carry coconut ginger variety least not store near not tried brand instant noodles yet think treat',\n",
       " 'enjoy taste tai peanut noodles rock peanutty flavor mmm decided try um ginger not much nothing really distinguishes noodle flavor ginger bit overpowering take review stride though ginger lover not talking gilligan island may right alley bit outside though may mix metaphors',\n",
       " 'really like soup mild not like anything hot right good flavor something take work pop microwave would buy',\n",
       " 'recently tried similar product trader joe not tj around presently decided try readily available variation not really like thing much starters much packaging liking many things throw away agree previous reviewer kind big cartons much hold inside container packages one noodles three various seasonings add water give fill line kind awkward microwave minutes stir microwave one minute one trader joe two packets one noodles one sauce no water involved microwave minutes done lot tastier not like texture thing everything clumped together much really not much taste especially considering three different packets seasoning put time try couple brands things',\n",
       " 'used use another brand changed jar much better pleasing hot spicy taste hint lemon lime good amount heat little salty though like use fair amount spice wish lower sodium content made scratch fresh ingredients always better next best thing really good chicken beef pork tofu veggie dishes quick easy make good meals not like packaging wish jar sodium content like buy',\n",
       " 'great delicious way eat thia food home melt entire packet like spicy two cans coconut milk pan add favorite meat veggies usually use chicken strips bag frozen asian veggies',\n",
       " 'restaurants always best curry pastes pretty tasty easy use fast add meat veggies choice scared something spicy might use little less right like spicier add little crushed red pepper since coconut milk added separately also control fat content go light go much yummier creamy stuff find green curry little sweeter red panang curries maybe little less spicy',\n",
       " 'much hotter normal green curry one pack makes many servings',\n",
       " 'second order good hot like best sample per preferences',\n",
       " 'really impressed many flavors quite bit heat favorite brand cocunut milk make great thai curries home',\n",
       " 'also routine baking ingredient put bread along sunflower seeds organic wheat flour also put smoothie stir fry dishes anything think good price really must healthy diet',\n",
       " 'not thrilled pick tiny bits gravel flax seeds fine top quality not gravel bits get sieve w seeds guess would get stars',\n",
       " 'good product remember need way grinding apparently not digest whole flaxseeds',\n",
       " 'funny bought flax seed make neck warmer made said use flax seed warm microwave minutes bought bags needed decided make use rest grind put food benifits great put mine yogert cereal diffently keep useing last bag ording',\n",
       " 'enjoy flaxseed everything tried far product pleasant flavor yet not power foods put helps keep digestive track regular ground coffee grinder sprinkle everything husband love pancakes enjoy cereals even ice cream especially like mixed yogurt highly recommend product',\n",
       " 'ordered flaxseed reading good ground flaxseed ordered grinder reasonably priced grinding easily accomplished using flaxseed daily since time claims made internet proven true product arrived time great shape purchased vendor several times not disappointed',\n",
       " 'recently started drinking green smoothies get healthier read flax seeds terrific health benefits lowering blood pressure cholesterol add tablespoon chia seed flax seed smoothies every day since drinking fruits vegetables feel better lost weight stopped heart flutters looking forward next blood work done see well helped highly recommend anyone wanting get healthy natural way',\n",
       " 'bought way take omega nutrient pack lasted almost year grind seeds freeze rest no complaints reasonable pricing',\n",
       " 'happy organic golden flaxseeds grind put many things plus make great topping yogurt cereal whole seed form staple house',\n",
       " 'little say product except great product delivery subscription works well',\n",
       " 'great grind add tablespoons ca not tell cereal ect',\n",
       " 'flaxseeds good quality eat daily bought whole seed rather ground seed better nutritional value grinding buy read whole seeds pass undigested ground seeds loose nutritional value time grind week worth time best used oatmeal flavors blend well cold cereal added cup coffee twist seem blend better hot foods',\n",
       " 'bob red mill organic golden flaxseeds excellent way ingest omega ounces delivered packs not use immediately suggest storing seeds freezer keep fresh grind right use mild taste milder brown flaxseed ordered product several times quality consistently high',\n",
       " 'brand always makes good products since buy bulk turn quite cheaper supermarket clean flaxseeds add smoothies bath joints natural raw omegas supposedly better eaten sprouted though not tried',\n",
       " 'flaxseed great way get fiber diet brand delivers mild taste put tablespoons morning smoothie gives daily fiber required intake flaxseed also contain omega also place powerhouse nutrients diet little seed excellent source protein fiber minerals magnesium copper go wrong',\n",
       " 'best buy flaxseeds opposed flaxseed oil meal get since grinding seeds released omega oils freshest recommend storing flaxseeds freezer keep open well grind tablespoons coffee grinder add yogurt protein shake good stuff',\n",
       " 'hope really nutritious claims chew like romans greeks gets stuck molars seeds easier going sprinkled top crab egg fried rice go figure incorporated cup regular white loaf recipe breadbaker apprentice found addition meant warm water needed hydrate dough not get much rise baked loaf tin foil loaf pan bread rose usual height since white bread not healthy include flax seed ground food processor ameliorate ill effects',\n",
       " 'bought realized much getting knew grocery store fault really waited seeds great way many freezer',\n",
       " 'flax seed packaged separate smaller packages stay fresher longer recommended flax cookbook purchased seed cheaper brands checked putting away emergency may arise',\n",
       " 'europe find bowl dark flaxseeds side muesli set breakfast buffet great source oil improve health eating tasty nutty seeds good gut good heart golden seeds attractive alternative nut brown seeds look nice baked goods like lighter breads taste dark seeds ground not show white bread bust blender throw standard bread recipe add needed nutrients fiber like sprinkled oatmeal muesli yogurt',\n",
       " 'excellent quality flaxseeds toasted little pan even made great snack also powdered coffee grinder toasting little powder delicious delicious nutritious awesome planning cereal tomorrow maybe sprinkle veggies think also try bob quinoa museli',\n",
       " 'looks fresh clean roasted toaster oven also use food whole ground coffee grinder',\n",
       " 'taking flaxseeds several years due health benefits excited see great price reputable company best tasting flaxseeds ever get maximum health benefits finely grind standard coffee grinder usually grind tablespoons per person twice day add lemonade crystal light tea drink quick expands flaxseeds loaded minerals vitamins amino acids fiber excellent weight loss work well chronic constipation several web sites tout health benefits flaxseeds unfortunately review guidelines post links suggest wanting information search google',\n",
       " 'order placed bob red mill organic flaxseed good quality whole flaxseed grind little time sprinkle cereal yogurt keeps long time freezer using flaxseed year eating tablespoon every day noticed skin softer plus keeps regular ya know mean flaxseed also good way get omega body needs',\n",
       " 'favorite nut snacks sunflower absolute favorite almond cashew buttery rich seasame really great given gifts everyone follows ask buy great kiddos',\n",
       " 'known nuts nuts tried nuts around world friends bring back gifts near top list best nut snacks mrs may almond crunch first time tasted every time eat amazed crunchiness quality almonds lightly sweetened glaze unbrittle like attention healthiness ingredients etc side note much impressed product went tasting spree buying different kinds mrs may products peanut cashew crunches various sesame crunches etc perhaps biased original none others magic would rate rest stars almond crunch get stars',\n",
       " 'given recent issues products made china decided not buy food products not buying anymore snack ever switch made u buy like',\n",
       " 'product made china would not believe claims make regarding allergy safety vegan kosher considering mrs may markets healthy product shocked glanced back noticed product made china china proven not trust manufacturing practices unsafe toys dog food supposed trust making health food not mention carbon footprint created shipping something halfway around world not buy product anymore',\n",
       " 'wonderfully crunchy delicious calorie count misleading however one piece calories claim worth',\n",
       " 'like nuts looking healthy great tasting snack not go wrong almond crunch husband recently eliminated high fructose corn syrup partially hydrogenated soybean oil diet feel much better trying find tasty snacks not contain products not easy thrilled find mrs mays naturals love cashew crunch well',\n",
       " 'little shocked called health food product made chinese grown ingredients would curious see carbon footprint bite also keep mind chinese ingredients products found kinds contaminants lead toys melamine milk exported food products ingredients snack widely available united states not support products companies source locally consider economy sell slightly cheaper price purchasing choice make difference let stop expecting corporations governments take care safety economy never change way companies business benefit long term health economical well make purchase decisions wisely',\n",
       " 'nuts used tasted fresh bite sized chunks right lightly sweetened not sweet satisfying',\n",
       " 'ok not speak last review written looks like looking back bag almond crunch clearly says product made california not china main deterent back no longer issue discovered snack person not eat either gluten soy dairy thrilled find snack eat first snack eat actually tasty even better eating days no adverse reactions extremely sensitive stomach plan trying flavors figure ones like best yeah would highly recommend product restricted diets even not',\n",
       " 'negative reviews mrs mays products made china not really valid cannot base companies poor quality control apply every company country many bad quality foods made usa bad health labeled made usa not mean good quality long company takes pride quality control not greed profit deserves good ratings fair sales',\n",
       " 'used buy healthy snacks office cafeteria consider better bag potato chips taste crunchy tasty given kind unethical food stories read china need see kind assurance facts processes manufacturer following make cannot import food stuff sell us gourmet snack food needs data backing example chinese food yuk melamine kind platic baby food milk wide spread milk china contained plastic honey contaminated ciprofloxacin antibiotic banned soy sauce made human hair not joking google spurious drugs exported african countries need good facts quality controls manufacturers chinese producers complying good quality controls',\n",
       " 'great product tried beach first time loved cashew crunch not good bought case almond week great',\n",
       " 'fresh crunchy natural healthy snacks reseal keep car crumble non fat yogurt salads pack kids lunch convenient delicious',\n",
       " 'delicious healthy plus amazon cheaper buy mrs mays actual website',\n",
       " 'ought recovery program good side mrs mays addiction healthy already stack boxes garage not run stockpiling case nuclear holocaust almonds always staff life raw roasted dry roasted blanched flavored course mrs mays rarely day without even feed parrot bird guy told healthiest bird goes nuts mrs mays dare say miracle nuts one taste hooked pack goodness tasty snack healthy ingredients miracle tired tastless bland gotta eat healthy snacks nutrition store try pleasant awakening mike',\n",
       " 'husband diabetes watch eats great healthy treat could not find local stores happy see available amazon',\n",
       " 'mrs may inform customers exactly products made take stand not buying products notice no matter yummy no harm quality control concept not understood china totally frightening getting away',\n",
       " 'family love almond crunch sweet enough crunchy perfect snack',\n",
       " 'tryed almond crunch delicious healthy snack better chips try agree',\n",
       " 'product excellent also nut snack wife celiac disease allergic wheat glueton enjoy however eat anything tastiest unique nut snack ever tried al virginia weatherly luzerne dr macomb mi',\n",
       " 'reading frothing reviews criticizing mrs mays manufacturing product china not way address quality product tried confirm website packaging say nothing wrote email asking product manufactured response full thank purchase inquiry understand concerns becausefood item personal spear moments read detailsabout quality assurance would appreciated factory china haccp hazard analysis critical control point us agency brc certified uk agency haccp brc kosher inspect ourfactory twice year organization also performs random unannouncedinspection factory please refer following sites like learn thehaccp brc certificate addition finished products tested times tests salmonella testingaflotoxin testing andmicrobiological testingour current customers like costco bj wholesale whole foods markethave high standards carry sell members youcan rest assure products safe consume also nothave melamine product products dairy free productsare also tested randomly fda always passed inspection following additional information origins ingredients use almonds californiawalnuts californiacashews vietnam brazil not grown us cranberries oregon canadablueberries oregon canadapomegranate oregon canadanatural flavors californiasesame seeds china not grown us rice malt chinacane juice ussea salt chinaplease feel free contact us questions comments andconcerns hope assisted correctly thank kind regards juliemrs mays read reviews criticizing sweatshops communism carbon footprint briefly address no evidence mrs mays keeps workers sweatshops despite communism sure individual citizens find jobs valuable ships produce carbon per pound mile trucks meaning miles ship bad miles truck really like snack would give five stars subtracting one star think deceptive hard find snack made china not problem snack origin mrs mays forthright customers let make decision granted us americans primed flip latest scare week choice make oh snack quite tasty filling healthy continue purchase',\n",
       " 'love snacks little bit sweet loads crunchy almonds looking forward trying varieties',\n",
       " 'typical americans know eat better often not health food usually expensive frankly not taste good thankful found mrs may products healthy quite tasty ordering amazon keeps cost son golfer always looking portable healthy snacks tuck golf bag mrs may products fit bill nicely',\n",
       " 'based amazon reviews tried product first shipment great delicious thought would found new healthful snack shipment concern disappointment even thought calling company not several different packages incredibly hard pieces not sure almonds became concerned would chip tooth not ordered',\n",
       " 'used like product learned made china many horror stories need hear atrocities lead baby toys made china contaminated baby formula made china contaminated tooth paste made china poisoned pet food learn comes china not go mouth baby mouth pet mouth',\n",
       " 'far delicious snack could ever almonds super fresh crunchy light coating syrup not sweet whole family loves',\n",
       " 'husband love almonds even shared snack co workers everyone raving good taste snack taking bags next backpacking trip',\n",
       " 'quest find snacks not empty calorie types one new favorites great taste although hefty calorie count decent amount protein makes good choice eating run real meal not option satisfying also tried white sesame crunch ok one wins taste',\n",
       " 'good tast crunchy bought black sesame good highly recommanded',\n",
       " 'mrs may pumpkin crunch great snack watching calories intake aware portions two servings mrs may products great fat per serving find not complete guilt free snack however pumpkin seed crunch protein per serving vs usual snacks monitoring intake want indulge pumpkin seed crunch healthiest option bunch said tasty certainly not bad little high fat watching weight',\n",
       " 'love put bag pumpkin crunch table work watch people faces light taste try',\n",
       " 'mrs may pumpkin crunch best bunch like pumpkin seeds slightly sweet cubes make think eating cake great snacking even dessert truly wonderful product gluten free bargain',\n",
       " '',\n",
       " 'eat gluten free family not pasta far kids not see real difference like lot one fix not time energy fix separate things tastes yummy us',\n",
       " 'ordered pasta thought children would love animal shapes since glutenfree home try find fun things entire family instead making separate meals served dinner night husband expression said followed surprised look pasta could not believe good pasta hooked not wait try orgran products',\n",
       " 'celiac daughter loves gluten free animal pasta far favorite make macaroni cheese asks several times week takes leftovers school lunch next day loves pasta animal shapes different colors horse favorite must',\n",
       " 'allergic wheat options pasta corn pasta grainy texture not care quinoa pasta rice pasta tendency stick together orgran pasta perfect think even overcooked bit still held shape farm animals delicious husband also agreed really good calorie count seems little lower pastas well continue order product long amazon carries grrrrrrrreat',\n",
       " 'paste actually first got thai curry time loved made time discovered better brand curry paste hand brand curry paste premium stuff amazon not sell hint amazon stock get based seattle import everything thailand flavor hands brand much better mae ploy huge difference went back mae ploy hand brand didnt even finish meal bland boring comparison also side note small containers used buy large ones local asian store like size ones not good deal find locally',\n",
       " 'really delicious not something find local grocery store would expensive much smaller quantity good deal super easy use',\n",
       " 'love get masaman curry local thai restaurant not able find paste actually tastes like paste easy prepare add coconut milk heat add protein veggies choice done bought mae ploy products found good quality authentic flavors',\n",
       " 'recently moved could not find thai restaurant nearby favorite meal old thai place massaman curry used recipe back package got like get restaurant excellent flavor',\n",
       " 'herbal treatments important understand earlier ilness one start using better love use herbal teas find effective used properly',\n",
       " 'not know herb tasty great combination not like licorice flavors tea great reap great benefits licorice root without tasting really help symptoms drinking prevention worked great well cannot beat shipping price free super saver shipping amazon',\n",
       " 'always start son tea starts cold actually asks prepare put thermo drink day school works wonders starts drinking right away symptoms obvious throat heal tea starts illness taken full course still helps sooth lot son loves recommended friends buy time great effective results',\n",
       " 'high hopes product first opened package noodles great texture sauce looked appealing food easy prepare workplace however taste oily flavorless big peanut satay fan expected spice flavor',\n",
       " 'adore brand peanut satay noodles unlike ethnic foods box ka noodles sauces flavorful delicious however certainly downside dish greasy fattening high calories read nutritional information find tiny box contains two servings high fat not filling advice split dish friend serve small serving rice sauce flavorful potent enough bleeds rice instant tasty multi dish meal',\n",
       " 'pretty good stuff not expect whole lot instant box noodles best brands tried noodles good constancy peanut sauce really tasty well going buy',\n",
       " 'not traditional satay good oil ok cause without would dry year half old made fine buy',\n",
       " 'love peanut satay product truly terrible no way resemble dish oily salty tastes lousy not waste money brand',\n",
       " 'tastes better looks first thing said skeptical co worker looking peanut satay came microwave unfortunately fattening looks likely not purchasing often could see mixing chicken beef tasting even better though',\n",
       " 'using entire sauce packet kill leaving salty greasy puddle bottom carton otherwise noodles well made sauce reasonably well flavored quick easy no brainer',\n",
       " 'holy cow never seen much grease boxed product like also enough salt kill entire family slugs use garden not eat',\n",
       " 'always disliked soggy soft crackers peanut butter since also discovered allergic wheat wanted needed alternative originally found kame rice crunch crackers kroger supermarkets first bite loved wished discovered years ago plain variety right amount salt taste perfectly crunchy light occasionally hard time finding thrilled amazon carrying give try delicious',\n",
       " 'things addicting low calories fat love wasabi flavor',\n",
       " 'would recomend product fine qualities taste really good nice crisp snack meals want help lowering carbohydrate intake',\n",
       " 'ordered ka rice crunch crackers plain received ka gluten free rice crackers original natural unfortunately soy products cracker therefore not eat looks different picture came crackers ordered apparently not return box crackers',\n",
       " 'bottom line crackers great snack ordering case saves money compared charged locally whether plain onion sesame never tried wasabi low fat reasonable calorie snack eaten either plain something sad thing first ordered per case',\n",
       " 'rice crackers truly delicious w cheese peanut butter also eat crackers w gluten allergic wheat eggs gluten bannas favorite snack sunday nights come promptly save money thank j wolf',\n",
       " 'love crackers perfect snack need something salty crunchy instead potato chips greasy snack eat lot hold meals price amazon great compared local markets highly recommended',\n",
       " 'got pack local grocery store tasted first time taste like corn nuts quite hard would not recommend anyone not like hard foods crispy delicious snacks tho buy',\n",
       " 'excellent product non gluten diet good alone snack make light meal using rice crackers base spreads little crispy sandwiches excellent substitute crackers containing gluten criticism wish price would come',\n",
       " 'not good sesmark savory rice minis available least good healthy potato chips bigger crunch mmmmmmmm',\n",
       " 'first time buyer ka rice crackers impressed light crisp flavorful good plain cold cuts fruit etc unfortunately ones purchased may last get source right purchased dozen packs price per dozen increased present fortunately enough last assuming price stays last ka',\n",
       " 'crackers great glad find good selection flavors favorite salted choices',\n",
       " 'local availability plain variety crackers unpredictable stores trimming inventory dropping highest volume skus buying subscription makes affordable far reliable',\n",
       " 'dissapointed unavailable right love crackers cream cheese favorite snack hope become available soon not find anywhere',\n",
       " 'crackers great snack no cholestoral use sea salt crunchy like eating potato chips better comes different flavors prefer plain found salt content different purchases sometimes salty sometimes hardly salt must problem production line crackers become addicting ok cause rice good us',\n",
       " 'never tasted better need keep refrigerated lose color flavor worth price',\n",
       " 'received gift along homemade graham crackers husband become addicted love things like lemon meringue pie adore luscious lemony spread grahams pound cake etc thin layer delicious confection enlivens taste buds explosion flavor highly recommend product looking special treat',\n",
       " 'mixed whipped cream blueberries lemon curd delicious easy quick summertime dessert delight guests',\n",
       " 'love graham sticks dissolve well super yummy yes eaten quite think taste better graham cracker tried organic boot far sugary snacks go pretty healthy ingredients like pretty much everything tried earth best interested sweetened contain organic invert syrup organic evaporated juice organic honey not anything scary like maltodextrin sweeteners vitamins natural organic products',\n",
       " 'bought grandbabies earths best organic like not well cinnamon ones tried thought tasted kind like dirt',\n",
       " 'bought grandbabies love love organic best little guys big guys even snack',\n",
       " 'bought graham sticks based excellent reviews purchased earth best organic vanilla cookies high hopes healthy snack serve kids needless say purchased one box grocery store first committing boxes amazon unable return even unopened boxes since food item crackers smelled strange even tasting year old turned nose refused eat anymore trying wish could describe taste would really hard may sound strange organic food almost like faint chemical smell best say not anything like regular graham cracker flavor even organic option better taste year old eat without complaint hoping tolerate boxes feel like not waste money good price definitely test one box first see like',\n",
       " 'month old loves eat go seem great healthy quick easy snack',\n",
       " 'daughter loves snacks everyone else try feed daughter organic stuff glad earth best makes variety snacks',\n",
       " 'good snack feel great offering month old easily pick small pieces definitely enjoys apple cinnamon taste year old loves well would definitely recommend anyone small larger kids',\n",
       " 'organic grahams find reasonable price love amazon makes perfect affordable snack toddlers',\n",
       " 'good whole wheat flower no high fructose corn syrup like lot crackers',\n",
       " 'really not notice elmo package kids adults nothing wrong flavor priced kids scream alot',\n",
       " 'started giving daughter months loved much first word cracker signing dissolve mouth not worry choking healthy highly recommend',\n",
       " 'hide boxes pull one year old daughter not eat anything else always eat brother sister always sneaking eating',\n",
       " 'little girl ask crackers day night bought pkg used real quick back soon',\n",
       " 'love snacks whole grain organic also love fact not spill everywhere snack cup like cheerios also noticed not leave lot crumbs makes mommy happy',\n",
       " 'year old loves great snack tried find stores not seem get often love organic one year old loves elmo box',\n",
       " 'great crackers little guy likes lot best not contain soy dairy',\n",
       " 'wow shocked find clear plastic pieces jars posters say notified earth best august still selling without checking recalling no earth best little guy taking business elsewhere sad organic company selling baby food plastic bpa jars gotta better get business',\n",
       " 'daughter favorite first foremost love get lentils not many stage vegetarian choices',\n",
       " 'little girl not get enough like organic contains fruit veggies protein grains one tasty meal wish came larger portions since month old always wants jars',\n",
       " 'baby loved one progressed cut one runny move spoon quickly way grabby hands think could use little less water maybe little potato make consistency turkey dinner one',\n",
       " 'twin old babies treat one dessert first earth best jar loved straight sweet potatoes water sweet potatoes first ingredient one followed apricot puree dessert right comes chicken brown rice flour not good brown rice though meal babies around age mine probably almost going love instantly almost babies love sweet potatoes starters add apricot puree really not much one could discourage babies recommend flavor brand ingredients per label water organic sweet potatoes organic apricot puree mechanically separated organic chicken organic brown rice flour rice flour absorbed water gave real nice consistency sweet potatoes gave nice color nutrition per label calories protein vitamin vitamin c calcium iron one vitamin earth best jars tried informed percentage daily needs met based adult',\n",
       " 'six month old baby loves earth best sweet potato chicken dinner favorite seems love earth best foods fruits vegetables dinners consistency food makes easy eat not thick not thin',\n",
       " 'would continue buy moving home made finger foods away glass jars shattered many like flavors though great textures',\n",
       " 'earths best eats one little thicker original chicken sweet potato favorite runny',\n",
       " 'not eat baby liked said savory sweet reminded fine dining tuscany also like jarred foods know recycle never become waste learned telling everyone glass recycles forever not recycle nothing common stop reading not even hard thing anymore nobody else building recycles drives crazy rinse put different bin still put trash day stop lazy',\n",
       " 'wanted post found small bits plastic food feeding month old plastic food baby food please careful buy considering daughter loves food actually favorite first time noticed plastic months',\n",
       " 'like earth best baby food line organic ingredients amazon great prices especially subscribe free delivery doorstop convenient busy mom daughter not like lot baby foods eat one reviewers stated bit runnier eb stage foods add oatmeal also bit bland add dash cinnamon heating added bonus works wonders digestive tract problems constipation months sometimes going days give suppository discovered food makes poop every time also started giving sippy cup water meals day help fiber rated instead stars main ingredients sweet potatoes apricots rather sweet potatoes chicken wish chicken protein',\n",
       " 'fair one twins got gas horrible night screaming gas pains garbanzo beans not ideal food young babies',\n",
       " 'daughter favorite baby food far ones eat rarely eat kinds however taste bland adult least put unfinished portion fridge may become sort watery point throw unique others combination vegetables especially zucchini update review today saw little pieces thin stretchy plastic two jars baby food plastic baby food notified earth best sending pieces plastic testing not giving baby food even though likes us',\n",
       " 'son favorite dinner best seems best combo protein vitamin c runnier dinners great start solids protein love love love brand flavor think purchased jars far',\n",
       " 'usually make baby food easy steam fruits veggies puree sometimes not enough time cook buy earth best baby foods baby likes fruits veggies far not like one refused eat tried understood would not eat either tastes nasty poor baby immediately made homemade potato zucchini asparagus puree loved would not recommend flavor',\n",
       " 'would love say time make son food everyday not case honestly make time days not time energy get done enter product bought baby food read reviews people saying fruit like dessert yadda yadda yadda truth yes bit fruit not sweet fruit merely brings flavors naturally not add anything else great product enter proteins baby diet consistency smooth enough wanted add cereal also baby not choke highly recommend',\n",
       " 'whatever reason son really likes flavor not fan not one eating time get variety vegetables baby one sitting happy mom',\n",
       " 'one son favorite baby foods bit sweetness not sweet runny flavors use deeper spoon one add little rice cereal thicken',\n",
       " 'always try food feed daughter one actually pretty good daughter loves gets excited make',\n",
       " 'month month son barely ate solid food picky tried many different flavor various brands baby food would actually finish whole jar not expect like since green vegetable scent guessed wrong month old pretty healthy eater current favorite seems tofu still loves corn zucchini brown rice carrot ingredients highly recommend try baby food also earth best makes not best baby foods toddler foods fabulous well son not really like snacks gerber brand likes products earth best foods taste great even us adult good',\n",
       " 'tastes good apparently cat thinks constantly poking furry face around every time pop open one absolutely nothing bad say know people complained poor packaging believe must fixed b c not problems fact securely bubble wrap place air cushioned box arrives perfectly every time',\n",
       " 'month olds no time write great review like flavors textures great jars open easily great go snack',\n",
       " 'three jars came form edible babies rest filled clump spongy mush would not mix water also brown color not yellowish brown like jars good mixture pretty disappointing waste money',\n",
       " 'baby loves rice lentil one favorite things eat going somewhere not able warm food eat one cold',\n",
       " 'love fact turkey offered son favorite dish no issues good balance nutrients',\n",
       " 'son really enjoys earth best lentil eats entire jar dinner always wants product shipped quickly',\n",
       " 'son started eating around months old months old one favorites unfortunately not carry local grocery store carry varieties earth best not one favorites spinach potatoes spaghetti cheese carry whole foods buy glad find amazon get tired ringing gazillion little jars store use base mix things bits cooked broccoli small pieces meat also started adding spices introduce new flavors',\n",
       " 'not know everyone else got broken received came wrapped plastic bubble wrap not single jar broken son loves price great no issues',\n",
       " 'daughter loved stuff natural made well good mix things get older beats gerber',\n",
       " 'daughter outgrowing baby food still eat tried foods not like texture really good likes keep buying',\n",
       " 'son loves best earth baby food favorite seems vegetable turkey smiles every mouthful would recommend product anyone looking healthy feeding organic way food feed son earth best',\n",
       " 'normally love earth best products son however tonight would given half jar thought would try since new flavor realized little pieces soft shredded plastic appalled first child not experience kind thing called poison control said would ok knew fine got really angry looked online found earth best actually known plastic time still selling not buy earth best really disappointing',\n",
       " 'twin girls loved vegetable turkey dinner one favorite baby foods great price',\n",
       " 'son loves rice lentil jars not liquid consistency peas brown rice jars order subscribe save amazon mom always arrives nicely packaged',\n",
       " 'food daughter eat consistly really enjoys packaging great never broken ordered times',\n",
       " 'daughter not big fan baby food especially proteins love one flavor right not sweet savory not strong chicken flavor almost like plain sweet potatoes not sharp thus good first protein offer good picky eaters nephews niece also liked flavor pretty safe bet keep hand not know particular baby preferences something wish known quite bit runnier stage earth best especially chicken added quite bit rice cereal thicken daughter gotten tired runny texture liked fine extra step however runnier texture makes workable younger babies gagging texture problems',\n",
       " 'triplets not eat eventhe one eat anything consistency way runny well not stay spoon',\n",
       " 'soft smooth texture little one devours one one best meat veg dinners found',\n",
       " 'love earth best organic baby food not tastiest one tried think pretty gross daughter still eats not much enthusiasm flavors got decent amount protein important us vegetarian family',\n",
       " 'rice lentil dinner son absolute favorite not know gobbles every time enjoys earth best foods found couple not eat anything much apple personal taste issue brand particular combination varieties tend runny one great consistency right jar',\n",
       " 'month old absolutely loves one far favorite jarred baby food like lentils add bit protein average baby food not ready introduce meats yet subscribe save brings price fair price not amazing deal roughly equivalent sale prices grocery store bigger issue particular blend hard find go whole foods regular grocery store target carry earth best not blend daughter likes much though would still buy even price bit higher store prices good one',\n",
       " 'girlfriend bought stater bros bucks worth every penny use sandwiches instead mayo best stuff not healthy fact really bad keep mind',\n",
       " 'mustard lover eat mustard everything without doubt greatest unfortunately buy stores beaver honey mayonnaise mustard maggie',\n",
       " 'love beaver brand honey n mustard mayonnaise sauce best combination ever used makes great dipping sause cheeses',\n",
       " 'love product flavorable anything works great lunch meat ham potato salad something similar sold honey baked ham locations product much better',\n",
       " 'great able get sugar way not good eat going use sugar least not processed unhealthy state top sugar body helping fair trade farmers good thing around happy get amazon',\n",
       " 'enptied noticed black area top appeared corroded course afraid eat fruit threw away waiting response native forest ascertain type metal harmful one would expect went effort certified organic would use safe canning post addendum w response',\n",
       " 'reading previous review carefully inspected cans arrived cans immaculate clean felt relieved cooling fridge ate first fruit mushy not attractive look frankly disapointment not taste rotten per say minutes later though mouth felt like acid eating painful hours even washing mouth eat much canned fresh fruit first days later teeth gums infected go dentist pain bad found infection undergo treatment antibiotics painkillers finally ok weeks sheesh needless say threw remaining cans fruit problem must source cans packaging rate shining clean quality control must really suck natural great care must taken contamination avoided foreign product health standards may lacking would stay far away stuff value health',\n",
       " 'product complete disappointment tastes like mushy pineapple no papaya taste',\n",
       " 'never buy item addicted last order fruits foul smell tasted rotten expiration dates forged',\n",
       " 'amazed good canned fruit normally not touch particular adore papayas mangos fruit juice instead syrup also nice easy pull top makes great item stash desk drawer work fruit snack easily even busy forgot bring lunch far not gotten problems watermelon not crunchy course not good certainly not slimy',\n",
       " 'great chilled topped fresh whipped cream husband new favorite dessert not find texture putting course not crunchy fresh fruit taste great get husband eat fruit instead ice cream gets book',\n",
       " 'yr old granddaughter cannot get enough good',\n",
       " 'reviewed werther original chewy caramels caramel chocolates creamy filledhard caramels bzzagent found chewy caramels came close second theoriginal hard candies still great unique caramel flavor werther butnow chewable form prefer original hard candy little gems lasta little longer nice second choice',\n",
       " 'great candy always werther original candy hard chewy caramels two candy make outstanding seems not keep stock always bag two left sale',\n",
       " 'bzzagent recently received package try say absolutely love flavor candies usually not big candy eater say really impressed werther chewy caramels richly flavored chewy could not stop one usually stop one candies great buttery flavor makes mouth water thinking like fact great ingredients like cream butter deduct one star fact artificial flavors avid label reader try stay away artificial ingredients far taste goes kids husband constantly pantry looking grab another candy confidently say huge hit family also great incentive kids eat vegetables dinner certainly cleaned plate couple caramels dessert party would great set candy dish none left end',\n",
       " 'never addicted candy fact not usually like candy occasional exception halloween moment need something sweet little guys watch might seem like pack lot hold seat put first one onto vestal tongue pack seem like shortage caramels world lol tried come way explain awesome flavor world not like eating anything everything world ate made feel like ahhh hope gubment not put tax like cigs would put institution',\n",
       " 'tried milk chocolate hazelnuts first time recently reading review brand best chocolate world try worth every penny dark chocolate fan normally favorite say would order give gift melted like butter mouth beyond delightful',\n",
       " 'purchased locally many flavors da vinci syrups ordered blueberry online try isnt available locally love blueberry well disappointment sugary sweet little blueberry flavor not mention paid would pay locally disappointed',\n",
       " 'product good goes long way quite good one dd good product not less',\n",
       " 'zen brews golden amber liquor aroma sweet spearmint blending tea excellent spearmint could overpowering use right amount slightly sweet spearmint primary flavor taste hint lemon green tea provides herbal base two flavors makes intial impression zesty spearmint lemon modulate substantial potion nice satisfying clean spearmint aftertaste remember tea caffeine however not say much box good estimate might mg compared average cup coffee make sure time long brew tea brew long becomes bitter four minutes ample',\n",
       " 'chips ahoy cookies not tasty children husband would not eat tried give away everyone refused',\n",
       " 'favorite indulgence calories sweet fix energy best sad see amazon no longer available quick shipping arrived safely',\n",
       " 'not usually like really crispy cookies taste changed mind like get quite calories often go quantity quality would rather thin crisp cookies one regular cookie',\n",
       " 'good cookies really delicious satisfying really really healthy definitely great alternative real cookies',\n",
       " 'craving sweet not not much bar perfect yummy',\n",
       " 'hate admit miss lard one class unscrewed oreo ate white middle licked wafers clean ate hardened chocolate wafers image cookie even barbra streisand coyly named singing trio beginning star born oreos two back singers black idea oreo thin crisp rather lost single nickel sized baked chocolate wafer resembles bleached wheat thin original oreo dusting white fructose sprinkle perhaps nostalgic tribute not get wrong oreo thin crisps perfectly fine low calorie chocolate wafer alternatives go simply lack lip smacking satisfaction disassembled oreo digested pieces whole point bag wafers tout calorie packs fine idea weight watchers advocates rest us watching weight not feel satisfied finishing one pack',\n",
       " 'melt mouth think found perfect snack love oreos hate fat provide diet diet mean ability eat everything moderation monitor much fat ingest many reasons health important one package cookies great taste oreos fat also like fact come individual packages not go stale take trips movies park etc great tea coffee cookies course good old milk',\n",
       " 'pack snack products tried many absolute favorites funny thing not even like oreos not crazy chocolate however thin crisps exactly thin crisp also right fend sweet cravings premature hunger',\n",
       " 'absolutely love oreo thin crisps cookies',\n",
       " 'easy way buy calorie controlled snacks arrived quickly easy take work need easy snack',\n",
       " 'first thoughts brings back old memorieswhen recently tried little wafers recalled worked office nearly years ago whenever director skipped lunch ran department pleading ladies pull something handbags desks might get till clock usually ended couple packaged saltines long since turned stale mostly crumbled crushed bottom handbag desk drawer came realize girls kept stale crackers guess really admired nabisco oreo thin crisps baked chocolate wafer snacks would served purposes much better saltines would rather old favorites nutshell nice dieter coffee break time no cream sugar pleasebasically minimalist snack people eat something meals not want calorie confection biggest print label says calorie packs inches across stuff enriched flour sugar artificial flavors artificial colors little canola grams fat grams sugar gram package caloriesbottom line no pretenses simple lean sugar wafer usual additivesas diet snacks go okay stuff carry one avoid calorie dense alternatives wafers hand making sort antidote vaccine dropping energy blood sugar levels late afternoon may lead large unplanned snack purpose great product know director years ago would given anything modest wafers available instead usual stale saltines subsisted many long afternoon director not find saltines around office would head straight mcdonalds rest history',\n",
       " 'super yummy really hits spot want chocolatey snack not break calorie bank',\n",
       " 'calorie cakesters delicious vanillaand chocolate great satisfy little sweet cravings calories three little cakes',\n",
       " 'let begin saying not like oreo cookies think cookie part bitter hate white cream filling friend suggested try reluctant kept telling not interested insisted tried surprisingly not find bad diabetic not snack eating often not hurt expecting taste like oreo cookies one glad not disappointed want chocolate snack low calories fat please give try',\n",
       " 'growing oreos milk common taken aback brand extension oreo cakesters low expectations must say better normal oreos although not say beat combo oreos milk fantastic treats relatively guilt free like cake like oreos not go wrong oreo cakesters filling bring back childhood cake provide whole new oreo experience certainly worth try guaranteed enjoyment',\n",
       " 'recently joined jenny craig need lose weight calorie pack cookies greatest thing snacks appreciate opportunity get reasonably agreed take shipment month',\n",
       " 'loved original oreo cakesters first debuted shied away eating regular basis high calorie fat content serving saw commercial calorie version could hardly wait try must say impressed calorie snack cakes dry mealy consistency cakes moist decadent taste like originals smaller would recommend anyone liked original version watching calories good job nabisco',\n",
       " 'family last box oldest daughter ate cookies likes peanut butter anything pouches right amount taste great',\n",
       " 'like cracker good little fill meals',\n",
       " 'cookies enough crave sweet little snack yr old granddaughter likes say letterbefore pops mouth',\n",
       " 'love oreos hate filling prevent scape filling good calorie wise',\n",
       " 'sorely disappointed cookies pretty tasteless damn hard would not buy certainly tasted much better low cal cookies definitely recommend saving money folks',\n",
       " 'arrived middle may expiration date first week july means eat lot next weeks beware planning stocking future future get soon also interesting box inside amazon box says internal use not sure',\n",
       " 'things low cal oreo minus creme minus cookie title oreo basically total misnomer nothing black crackers sugar want click purchase',\n",
       " 'honest got store think wow chocolate chips oreos think think good would recommend hershey reese crisp wafer bars honest view thin crisps cookies little flavor communion wafer milk bones',\n",
       " 'things nothing like oreos think wow oreos think would say spend money something better hershey reese crisp wafer bars come mind honest view thin crisps cookies little flavor communion wafer milk bones',\n",
       " 'one fifty families chosen receive nabisco oreo mini cakesters free product review received nabisco oreo mini cakesters mail two grandsons decided taste test immediately box nabisco oreo mini cakesters comes five individual packages package calories fact nabisco oreo mini cakesters advertised calorie packs people know exactly many calories no guesswork involved calorie package comes three oreo mini cakesters translates mini cakester approximately thirty three one third calories appearance nabisco oreo mini cakesters one tiny chocolatey goodness dark chocolate color thin slice cream filling soft slightly crumbly put nabisco oreo mini cakesters mouth crumble delicious chocolate cake flavor fact remind little small bite chocolate cake nabisco oreo mini cakesters mostly chocolate flavor cream filling not easily tasted rather not possible isolate flavor cream chocolate not problem neither either grandsons oldest grandson ate almost two calories packs nabisco oreo mini cakesters minus one approximately calories enjoyed eating even gave nabisco oreo mini cakesters lick approval wrapper came youngest grandson not able communicate effectively verbally special needs considered dedication eating nabisco oreo mini cakesters sign approval seen chocolate face intensity ate calorie pack plus one loose one older brother approximately calories definitely give nabisco oreo mini cakesters thumbs believe really got true sense good tasted two calorie packs calories worth nabisco oreo mini cakesters ate honestly not mean eat calorie packs last one sitting calling name adult daughter not home yet ate luckily know calories grand scheme things not bad like fact nabisco oreo mini cakesters presented calorie pack found thought comforting especially since ate two packages even found fun know many calories grandsons consuming diabetic overweight besides knowing calorie count good thing think nabisco oreo mini cakesters good small chocolatey treat want something sweet chocolate not want overindulge complaint nabisco oreo mini cakesters would small since actually part appeal not consider small size problem recommend nabisco oreo mini cakesters anyone wants small controlled portion chocolate treat perfect size keep control diet instead letting chocolate treat control',\n",
       " 'not love oreo cookies many us well remember school snacks oreo cookies milk however also many us school days could eat wished not gain ounce past special treat brings back kinds good memories find oreo thin crisps no not one pulled cookie apart lap frosting loved chocolatey taste cookies less unwanted cals crispy crunchy chocolate wafers wonderful comfort snack high five oreo thin crisps gail cooke',\n",
       " 'great snacks traveling airplane car cookie comes shape small cracker cracker less messy cookie break apart crumble reason preferred treat texture comparable medium crunchy chip light eat first response people eating cracker first time humm good pleasant response crackers probably big success time',\n",
       " 'dude things pretty good long not bent like oreos mean not definitely like better chocolate cracker snacks like teddy grahams lightness crackers makes perfect slathering goodies like peanut butter cream cheese icing pudding melted chocolate',\n",
       " '',\n",
       " 'nabisco knew didnt put little things give much pleasure little baglets would keep dipping hand bag couple years would weigh lbs die early death no longer able give nabisco money kidding aside loveable texture perfection feel like chewing quickly take slowly let light wafer melt mouth',\n",
       " 'hate admit miss lard one class unscrewed oreo ate white middle licked wafers clean ate hardened chocolate wafers image cookie even barbra streisand coyly named singing trio beginning',\n",
       " 'enjoy peanut butter cookie crisp definitely departure originals still son loves reason still give four stars',\n",
       " 'one reviewer writes oreo crackers without creme right thin oreo crisp wafer type cookies nabisco easy pack run need quick sugar infusion also make snacking anytime day night give great oreo taste without actually using creme ingredient crackers cholesterol free trans fat free hooray calories serving serving contains two grams fat baked crackers helps make healthier snacking choices including greasy french fries crackers somehow manage give full oreo taste experience omitting creme fair amount calories excellent oreo thin crisps come six smaller packets inside box buy makes even portable children adults another advantage cookies coming smaller packages inside box know packet pre measured contain calories way not accidentally eat many take calories wanted notice crackers made cocoa please consult doctor concerns caffeine chocolate cocoa could contain much caffeine sensitive recommend crackers persons go want quick snack provide sugar boost quick energy make healthier alternative snack foods loaded fat cholesterol buy enjoy today smiles',\n",
       " 'really like light airy almost like chips instead cookies flavor yummy oreo chocolate know love',\n",
       " 'good flavor not resemble oreo purchased along chips ahoy resemble flavor chips ahoy opinion tasted like animal crackers stick chips ahoy calorie packs',\n",
       " 'love snack really tasty filling wife not though take please',\n",
       " 'eating calorie chip ahoy sometime really find filling guilt free snack unique taste not diet food type taste either taste like real snack',\n",
       " 'get older fatter seek opportunities eat snacks least make nominal attempt healthy oreo cookies fail reach high list healthy foods however oreo cookies delicious beyond belief not oreo cookies delicious sometimes think hear oreo cookies calling name walk honest unable buy oreo cookies know eat generally days not good idea nabisco realizing many us making nominal attempt eating healthy foods created brand identified snack eliminates bad fats fat creating yummy crunchy chocolate wafer snack like chocolate cracker point no one ever created truly healthy snack like cookie however wafer snack nabisco decided not call cookie perhaps cookie sounds fattening reasonably yummy eaten things several times still eat actually eat regular oreos count quite nod health may tempted add icing baked cookie going add fat calories icing perhaps skip pretense reducing calories fat go straight regular oreo cookies fact revel calories go double stuff oreos oreos around since remain best selling cookie brand history according friends kraft owns nabisco owned altria group renamed philip morris presumably marketing reasons billion oreo cookies sold first years existence though oreo thin crisps fall quite bit short real thing high quality sufficient flavor allows baked chocolate wafers oreo name course could stick rabbit food truly healthy fun us find constant diet veggies healthy fun yet thought pigging pound oreos smacks chunks fat floating circulatory system oreo thin crisps lovely alternative course probably avoid eating pounds even reduced fat food food much low fat food still not good even tastes good least oreo thin crisps not talk walk enjoy',\n",
       " 'still six years away centennial oreo cookie first manufactured nabisco something exciting people dip tea biscuits english tend use copyrighted oreo biscuit sandwich cookie quite similar hydrox cookie produced sunshine oreo dominated market extent stopped making hydrox back would considered modern oreo cookie developed originally mound shaped think name comes greek word hill two circular chocolate wafers sweet white filling commonly called cream course today consumers not restrict tradition oreo cookie oreos chocolate flavored cream instead traditional white well orange colored cream halloween red christmas get oreos double portion filling not mention mixing matching two flavors filling carmel chocolate coffee cream peanut butter chocolate etc want original cookie coating chocolate fudge white chocolate fudge winter uh oh oreo flavors cookie reversed interested watching weight open bag ever type oreos personal preference sitting beginning eating open could go stale putting cookie jar makes accessible even allays fears freshness nabisco taken three prong approach weight watching oreo lovers go reduced fat oreo identical size original less fat per serving mini oreos bite sized versions packaged snack packs rather really think wrapped trays add short list oreo thin crisps baked chocolate six sided wafer snacks almost pack lightly sprinkled white specks take place aforementioned cream someone likes cream wafer wary thought scarffing bunch would like eating chocolate wafers without white cream lighter taste even without glass milk handy considered essentially eating traditional oreo cookies since oreo taste round come calorie packs help draw line nice round number comes caloric intake six oz packs oz box pack contains grams trans fat grams fat milligrams cholesterol also find one healthy living tips front pack e g make meal appetizers side dishes instead larger main entrees course thinking putting bowl vanilla ice cream would really mess whole healthy living bit',\n",
       " 'enjoy lot son say kind one favorites full peanut butter flavor forget cals amount get bag expecting happy',\n",
       " 'good great price fast free shipping purchase enough food thing box smaller guessed would',\n",
       " 'quite surprised find sociables available thru amazon cannot find local supermarkets thought would give arrived quickly great condition regular shipments',\n",
       " 'try first seafood soups stews amazing flavor enhances seafood makes wonderful plus great snack bag kids love use chilis soups recipes well highly recommend',\n",
       " 'good stuff eating right sweet basil tomato sauce pasta neat shape cooks nicely colorful tasty great al dente',\n",
       " 'castellana pastas absolutely wonderful great taste hold unique shapes grab lots sauce dishes nice bite great price item',\n",
       " 'oh love pasta thick chewy absolutely extraordinary made authentic flavorings boot red flavored tomato red beet powder green flavored spinach powder basil powder black pastas flavored squid ink white au naturale yellow pasta flavored turmeric orange carrot powder rainbow beauty natural delectable flavor pasta shaped like little cresent moons rough exterior absorb whatever sauce oil might use pasta flavorful enjoy best good quality olive oil celtic sea salt sometimes add tarragon fresh rosemary usually not savor pasta alone also excellent olive oil fresh grated parmesan chees top fat sodium also heart healthy meal protein carbos no added sugars preservatives perfect easy dish impress company date able buy best packaged pasta whole wide world half price bulk amazon wonderful privilege not disappointed',\n",
       " 'highly recommend product ca not beat calorie count favorite use putting natural crunchy peanut butter blackberry jam two pieces also great cheese healthy product',\n",
       " 'buying delicious crispbread many years reason no longer available stores rye product natural ingredients calories per cracker thin not overwhelm flavour cheese tapenade favourite thing crackers thought maybe would overdone buying two cases already second box week',\n",
       " 'hard find store shelves not power flavors put',\n",
       " 'tried crackers pleased thin strong enough hold spread calories per large cracker inch size really enjoy nice treat calories wonderful find us try eat healthy control',\n",
       " 'discovered kavli thin crackers paris marks spencer kavli since bread happy moved us find also say kavli important part helping keep weight',\n",
       " 'discovered moved canada years back experienced thicker wasa crispbread bit put first feelings dissolved first time ate one light laughing cow cheese little powdery would like compliment cheeses well without overwhelming',\n",
       " 'title says want cracker not interfere flavor topping also adds delicate crunch cracker recently friends house various crackers little butter asked first cracker presented box kavli crispy thin crackers way tried far plain buttered homemade cranberry jam hard put little surprised see reviews bringing healthful aspects crackers two main reasons love much nothing anything want cracker light crispy texture delicious flavor',\n",
       " 'product described shipped promptly consuming part medically supervised diet bread allowed',\n",
       " 'looking forward order amazon calorie restricted diet months taste grains bread chips crackers miss find thin crispbreads kavli perfect solution ultra thin mean thinner might think possible soon saw first one amazed made shipping process one piece far not come across single broken cracker next thought well soon bite thing going explode thousand tiny shards amazed held together showed perfect half moon hole teeth crackers really hold together nicely flavor plain no seasoning little salt taste like grains made ordered case garlic flavor look forward trying eat generous spoonful low calorie pepper eggplant spread makes low calorie snack highly recommend',\n",
       " 'enjoy kavli crispy thins much often order case besides naturally low fat naturally nutritious kavli crisp thins great replacement salty fattening nachoes pizza crispy thins make nachos layering crisps w chopped tomatoes cheese even ground meat pop crisp thins w toppings microwave got delicious nachos pizza crispy thins w melted cheese every morning great way start day no not work kavli not ad truthful review also nice easy able order kavli everything via amazon',\n",
       " 'wife low carb diet well low carb diet means small breakfast not time make eggs bacon hard get coffee without peanut butter says using crackers like kavli crispbreads get peanut butter since remember think dan mary eads published protien power plan late many years ago found best could find wegmans grocery store ne pennsylvania army moved us fort knox ky find kroger recently cannot seem find either order come fast not broken fresh also not costly purchase online pay delivery waste time looking one note wife hates opnening things found best way cut end cellophane scissors prevents cracks thin bread',\n",
       " 'kavli crispy thin crispbread right consistency multiple uses taste fantastic fresh pleasant eat kavli products best',\n",
       " 'based reviews tried kavli products great low fat snacks great natural peanut butter jelly',\n",
       " 'someone suffers occasionally digestive difficulties kavli crispy thins among things eat times always keep crackers around add soups however also times thing properly digest great item around digestive difficulties associated flu stress work better bananas rice applesauce toast brat diet used relieving ibs thin easy chew crackers really great product',\n",
       " 'great alternative not eat wheat little bland crunchy crispy',\n",
       " 'highly recommend tasty kavli thin crispbreads wanted something different white bread sandwiches hate whole wheat love rye saw noticed ingredients could not get much simpler gave try topped cheese sandwich spread whatever would like tasty feel full topped course white bread nice thin not like biting anything hard nice crunch flavor not strong mild nothing like rye bread might purchased past noticed calories per slice not love taste good whole grain super low calories no crunchier potato chip feel satisfied chewing eating oh keep forever cupboard definitely buying long time',\n",
       " 'not seen shelf decided buy although boxes lot great butter honey not tried anything else thin fragile whatever put stand still healthy taste',\n",
       " 'crispbread nice thin great sensitive teeth eat morning breakfast smuckers sugar free jelly guilt free delicious little careful spreading heavy stuff like peanut butter press hard break one thing not tell box actually air tight packs box currently eating ryvita sesame rye crispbread highly recommend note lost pounds changing diet give credit things rye crispbread replacing almostall flour diet drinking oolong tea helps burn belly fat need exercise little bit',\n",
       " 'love rye used eat thick rye crisps old teeth not handle anymore still love crunch also like eat healthier crisp thins whole grain fiber many bread options getting harder find locally started getting amazon never w favorite cracker another bonus around house years kids never showed interest weird thing mom ate ordered whole box last month last daughter still home thought maybe try since bought many hooked taking college',\n",
       " 'time want crackers want get dip whatever topping mouth snacks without worry calorie content crackers calories slice slice size x notecard delicate nice easy crunch ones particular lower sodium content well versus pesto garlic ones bit higher sodium content mg per slices excellent addition no matter diet not even diet bring parties everyone always asks get',\n",
       " 'know sugar sand time since ingredients kavli crispy thin listed amazon time received order sugar added product going get trouble mister',\n",
       " 'wife like better swedish version wasa finds taste better likes thinness product buy',\n",
       " 'wheat free natural ingredients easy chew dry good coconut oil fruit spread',\n",
       " 'baked first batch muffins pleased easy make tasted good stored refrigerator since gluten free home baked goods notorious molding ate one straight frig great guess flavors melded together stored hours finished batch one time frig without heating good way could not bring try way family navigating area gluten free eating years choices keep getting better companies becoming aware celiac disease created astore amazon gluten free items pleasure trying',\n",
       " 'people would read ingredients would less critical end product tried pancakes lent excellently used erythritol instead sugar tated great cooked well not even use blender mix',\n",
       " 'product comes good company makes number excellent gluten free well non gluten free baking products not let poor quality one product keep trying products make mix classic example poorly designed likely untested gluten free product lacks enough sugar moisture ingredients make finished product taste good mix well many gluten free products new market find constantly adding something try make right add nearly full cup sugar begin dissipate bitter taste added applesauce plain yogurt different baking sessions get consistency would feel move like muffin mix mix takes much doctoring recommended hodgson mill goes back drawing board fixes hodgson mill good products try blueberry muffin mix hope one day amazon carry wider array gluten free offerings many good',\n",
       " 'came smaller expected taste not good thought second time added couple items helped little hard find great tasting boxed muffin mix thought would save time like muffins better husband thought okay not great',\n",
       " 'could not get work muffins decided try pancakes not disappointed come perfectly raised every time like make without sugar batter flax makes bitter like like lots butter however add syrup top extinguishes bitter taste contact give try',\n",
       " 'never prepared anything disgusting taste mix sour milk cardboard smell bad take trash whole room beginning smell bake often know not kitchen error not picky could not stop gagging would recommend pamela brownies add extra dark chocolate delicious brownie bite cookies side recipe bag even make super healthy use applesause instead oil',\n",
       " 'bought local grocery store wish would read review first positive hold together well look like muffin negative bitter could barely finish half recently found celiac disease cant gluten never tried gluten free muffin mix not compare others tried betty crocker gluten free brownie mix wonderful believe would good muffin mix',\n",
       " 'muffins not win prizes flavor agree reviewers aftertaste somewhat bitter compared least remember real muffins sugar gluten eggs butter good stuff quite fine not eat gluten derivatives sugar cane eggs soy dairy corn could go get idea order use mix make substitutions delighted tastes like treat aside fact not measure three kinds flour make something scratch best thing muffins texture texture challenge absent gluten sugar eggs found much like remember muffins bits dried apple make chewy kind weirdly overall pleased purchase',\n",
       " 'children food allergies use egg milk butter substitutions muffins works well add little sugar mix top muffins brown sugar pecan mixture bake kids love top brown sugar cannot not like pecans love muffins well',\n",
       " 'folks comparing hodgson blueberry muffin mix obviously not require gluten free products since blueberry whole wheat muffins like require gluten free great product first flavorful gf baked good stumbled upon simple quick make like gf products pretty dense end apples make nice addition fill personally added bit sugar xylitol recipe calls next batch also add fresh apples extra cinnamon complaint get little box makes small muffins',\n",
       " 'really excited surprised found mix local wal mart given good price figured id give shot whipped batch figured id little investigating see input suggestions mix wow everyone using mix reviews great horrible like total split soooooo wasted bunch money products whip batch see figured id simply open packae take taste mix ummmmm yeah totally pretty strong bitter taste like another reviewer figured mix would adequately sweet enough not need extra sweetener dont like things sweet def not read ingredients realized isnt sugar sweetener mix youd def need add sweetening overall dont even plan taking mix far im pretty certain adding sugar wont take aftertaste away thats issue flour mix no amount sugar going make go away id strongly suggest avoiding mix hope company works mix good elements like fact determine sweet youd want apple pieces pretty tasty think could really tasty',\n",
       " 'could would give zero stars not picky eater mix not rise say hockey puck extremely bitter not sweet even recommended amount sweetener added save money',\n",
       " 'muffins good made according recipe box changed recipe little substituting almond milk milk extra virgin olive oil butter great next time going try adding grated carrots not adding sugar thank hodgson mill wonderful gluten free product',\n",
       " 'bought celiac disease really craving muffins not health nut not eat gluten said nasty calls little sugar figure health nuts simply added sugar since said sweeten taste even extra sugar leaves extremely bitter taste mouth would rather pass muffins ever taste something like positive note muffins stay together look like muffins try product dislike mail bottom box purchase price refund',\n",
       " 'concur previous reviewers muffins bitter taste also bake often certain not gluten eating husband not like either also dense looking apple cinnamon flavor need mix might better using pamela baking mix awesome adding apples cinnamon muffin recipe back pamela bag conclusion not recommend really disappointing',\n",
       " 'family really liked muffins also made vacation sister house family loved got back bible study full pretty picky eaters said good usually pretty honest gluten free food take tastes even telling store bought cookies took tasted like cardboard notice slight bitter aftertaste not bad think next time make may take advice one reviewer add grated apple extra touch oh added tbs sugar think really good everyone else ate sure add even sugar slight aftertaste could disappear altogether went hodgson mills website saw recently change formulation mix maybe improved aftertaste mix not garbanzo flour use sorghum instead not make muffins found one box perfect mini loaves prefer muffins good continue make need something fast not time make scratch oh poster asked gluten free pasta tinkyada makes great brown rice pasta',\n",
       " 'recently discovered sensitivities dairy wheat trying gluten free products knew hodgson mill oat bran hot cereal really good soothes tummy consequently ordered hodgson mill gluten free pancake waffle mix well apple cinnamon muffin mix proven delicious even husband not gluten sensitive loves pancakes made waffles apple cinnamon mix morning really good filling not sure formulation changed since previous negative reviews no complaints picky wish hodgson mill products readily available local stores anyone tried gluten free pasta please post lundberg rice pasta left lot desired thanks',\n",
       " 'say really wanted like muffins could not really bitter taste whether attributable gluten free nature product not know hodgson mill blueberry muffin mix far better choice positive note raise nicely unfortunate find barely edible five boxes mix left',\n",
       " 'really wanted taste good something bitter add much sugar make even slightly palatable no one would eat looked delicious baking healthy manage choke one tried gingerbread corn muffin mix jalapeno cornbread mix great',\n",
       " 'add walnuts healthful brownie perhaps light iceing not overback dry lots good stuff brownie flax taste little strong really feel no guilt brownie snack kids',\n",
       " 'kids love brownies could no longer regular brands grocery store good conscious still wanted convenience mix though fit bill first time made thought tasted funny used processed crap eat gotten used flax taste think yummy no way low calorie low fat though instructions call lot oil eggs butter use earth balance egg replacer vegan flax seeds also good amount fat although healthy kind made olive oil good also added extra organic cocoa powder make extra chocolatey really not need love chewy texture flax seeds ingredients could probably make brownies homemade would pain grind flax seeds etc easy yummy even though not necessarily healthy calorie fat standpoint feel good giving kids treats not loaded processed crap',\n",
       " 'good add cup whole wheat flour tsp baking powder along couple tbsp cocoa powder like brownies little higher cake like come yummy added flour not sweet',\n",
       " 'sweet tooth three year old son great dinner dessert feel good giving healthy taste flax seed really grown love healthy taste texture even come crave satisfying filling whole family loves buy bulk love hodgson mill products well eat nothing white flour products not get used absolutly hate whole grains taste texture not product family tries make healthy choices healthier alternitives wonderful product still love junk food pillsbury hershey come try special occasions rest time choose nurish body satisfy taste buds reach brownie mix complaint not taste great couple days make batch eat em quick within days smiling',\n",
       " 'first love whole wheat products flax seed hope got bad batch no not expired checked date mom not fans oddly fishy grassy taste kind like might get rancid flax oil tablets',\n",
       " 'used eating flaxseed brownie hodgson mill brownies super easy make taste great since like dark chocolate usually add little cocoa',\n",
       " 'quite amazon starting retailing food items nearly impossible locate healthy underground favorite brownie mix blogs food sites bemoaning hard locate saw amazon ordered case baked batches friends family concensus tastes healthier never less quite good far better prepared least cup mini chocolate chips not regular chips sink bottom buy good quality belgian chocolate minichips mix great alternative want less guilt guilty pleasures',\n",
       " 'taste flaxseed whole wheat muffins great taste good chocolate flavor texture add chopped walnuts',\n",
       " 'brownies good flax seed texture real turn minimize added little whole wheat flour splenda cocoa big improvement guests never complained like first time made brownies',\n",
       " 'like brownie mix usually use low fat recipe also add chocolate chips something else otherwise ends little bit dry still buy case',\n",
       " 'big fan hodgson mill products love bread mixes use pancake mixes not afraid whole grains mill grains wheat kamut rye barley even put milled flax seed home made yogurt baker years love try new recipes high expectations product disappointed results box calls much fat baked brownies distinctly oily feel mouth enjoy grittiness chocolate flavor fine would caution buyers results following instructions boxone problems coarse texture mix not allow fat absorbed well go back making whole wheat brownies scratch little bit time required little less convenient brownies treat comfort food texture right',\n",
       " 'not healthy flax seed not buy healthy taste like love good husband loved matter taste looking dunkan hines brownie not',\n",
       " 'course not taste quite good regular brownies hello healthy said fantastic eat crap good alternatives',\n",
       " 'made according package directions added cup mini chocolate chips awesome took longer cook box says maybe chocolate chips either way great definitely make',\n",
       " 'really like brownie mix unfortunately local grocer stopped carrying hence buying amazon easy prepare bake nicely moist think right amount chocolate flavor yes healthy dense traditional brownies fill chocolate craving better really feel like eaten dessert not fluff box',\n",
       " 'since started making hodgson wholesome potato bread husband not eat store bought bread anymore make two loaves week different varieties hodgson mill brand honey whole wheat white bread mixes also great like using old bread machine make dough shape loaf bake oven makes perfect loaf every time also makes delicious rolls glad discovered brand bread mixes amazon wholesome know putting bread bake great product',\n",
       " 'must admit first ordered bread new panasonic bread maker not expecting anything potato bread buy nearby store however ever surprised absolutely best stuff organic butter piled high properly melted par ambrosia could not believe good since first loaf made breads generally excellent none quite level potato bread really good perhaps credit goes new bread machine highly recommended general info package makes pound loaf machine recommended setting basic loaf bakes hours also flour non gmo verified labelled',\n",
       " 'love fresh bread hodgson brand awesome usually use dough cycle bread machine form dough buns stickss easily take go even brand not organic ingredients natural processed without chemicals taste great requires water shortening butter oil even able use applesauce instead oil didnt get rich taste ordered varieties amazon whole wheat honey specially tasty no supermarket bread',\n",
       " 'tried many bread machine mixes okay one rates excellent not good basic loaf also works well additives either prepared entirely bread machine second rise removed machine shaped baked stone oven stretched flattened filling either savory sweet ingredients rolled set rise bake loaf pan produced excellent herb onion bread cinnamon raisin bread brown butter seed bread buy via subscribe save plan use often',\n",
       " 'used extra yeast little water came light heard crust like order not much potato taste good bread',\n",
       " 'white bread not thing probably not like one like herby white breads really full bodied white breads otherwise always choose whole grains one not full bodied no particular flavor not interesting',\n",
       " 'tried brand bread mix bread machine good must say family best made potato bread scratch bread machine right nice flavor great texture well worth price bought times amazon continue',\n",
       " 'recently purchased bread machine tried potato bread mix made three times come amazing every time great thing particular mix experimented altering amount butter last batch actually doubled butter amount added less water came buttery yuuuummmmmmyyyy encourage everyone bread machine try particular mix',\n",
       " 'family agree hodgson mill potato bread one best mixes market loaf bread lasts two hours gone become favorite making lots not run one',\n",
       " 'like bread several flavors brand one seven grain favorites bake consistently well wolfgang puck machine recommended',\n",
       " 'totally satisfied hodgson mill products probably purchased loaves point used present brother good results never seen old smelling mix nor ever yeast failure taste texture wonderful never slicing failure not get slice hold together long enough lay different types lend well adding ingredients chopped nuts sesame seeds millet seed use imagination coming nice units loaves makes pantry storage easy opened carton yields boxes best dates easily accessible rotating shelf stock almost goof proofed next time walk grocery store note prices think really not beat quality really fair price hodgson provides seems expended great effort best product produce best shipping available customers buy great confidence based experiences last years hope helps decision making',\n",
       " 'got bread machine christmas novice thought would try keep simple hodgson mill products wonderful everything included even yeast bread came delicious easy slice like eating country white bread not soft n mushy like traditional white bread family enjoyed makes great toast well try think happy',\n",
       " 'product good ever used convenient amazon become hard find stores',\n",
       " 'love bread mixes nothing like making bread admit use bread maker not clever enough use hands still enjoy experience tried different hodgson mixes excellent',\n",
       " 'potato bread easy mix rises well breadmaker cooks best tasty bread near white bread texture good purchased hodgson mixes one favorites',\n",
       " 'recently tried line breads vacation loved one tried could not find european cheese herb flavor locally went order amazon com happens time time seller flavor picked potato bread instead also good still need get cheese herb one awesome',\n",
       " 'extremely satisfied hodgson mill bread mixes purchased online potato bread mix actually rose stuck top bread making machine became entangled mixing blade difficult remove otherwise bread tasted great rye bread also delicious nt rise much no trouble removing bread machine rye loaf much denser potato bread loaf drawback purchasing products online shipping costs since found purchase brand products heb kroger grocery stores not order online',\n",
       " 'use breadmaker make warm milk additional egg greatly improves texture made water small amount butter crust comes chewy breadmachine also made bread used carrot juice place water makes beautiful color naturally sweet',\n",
       " 'made potato bread great results hodgson bread mix way dry needs moisture not buy unless want really dry bread',\n",
       " 'fantastic bread mix not use bread machine make bowl hand made no problems not know people problems terrific amazon please keep stock please',\n",
       " 'great soft tasty better expected perfect loaf every time',\n",
       " 'love bread not even like smell commercial bread smell chemicals miles added rosemary garlic olive oil mix serve machine hit dinner guests',\n",
       " 'updated finally found perfect amatch taste irish grandmother potato bread loaf pictured w dill added tasty',\n",
       " 'delicious bread quickly make loaves bread eat give away special gift',\n",
       " 'crackers great beauty not flavor fact perfect crispy low calorie gluten free delivery mechanism manner spreads slices not come powering artificial flavorings compete topping choice favorites peanut butter banana laughing cow cheese turkey pepperoni',\n",
       " 'without question best diet crackers ever without salt since usually put peanut butter not need salt great travel kids need low calorie cracker',\n",
       " 'happy amazon got back could order second case not eat wheat packs pounds around middle breads wheat gluten free cost way much eaten kinds rice cakes found break apart spreading nut butter not also generally rice cakes pkg round regular rice cakes package rice cakes pieces bag also much like consuming slice bread without crusts nice thin not eat much good thing try dissatisfied regular rice cakes must gluten free bread not believe sorry amazon price good free shipping though box sort big pretty light stores easily away live alone next last pkg first case not stale stored cool dark garage original cardboard box also made belgium helps anyone packaging air tight come pkgs box perfect sized box mine arrived without sign damage yet find even single cracked rice cake rather neutral taste make special butter spread like real well take equal parts room temperature butter olive oil water blend ingredients smooth refrigerate sets not get hard always spreadable tastes really good use organic butter olive oil filtered water not spread good believe better straight butter also use one cake make single sided sandwich rice cake using two would two pieces bread not seem work well single sided sandwhich rice cakes enjoyable hope helps decide try everyone given good comments',\n",
       " 'live salt result hypertension products work surprisingly fast lower high blood pressure put nice possible keep alive longer scientific fact salt habit no real useful pupose except cause many unhealthy habits conditions keep caring us not stop producing foods healthy',\n",
       " 'waited long bated breath amazon restock bulk packaging product european style rice cakes pretty specific niche bit difficult find local stores not mention expensive different beast american style rice cakes people associate name reviews suggest not quite air filled crumbly density thickness cracker crisp flatbread unlike gluten free oil free unsalted contain one ingredient puffed brown rice got nice light crunch makes good snacking lot healthier chips crackers brown rice definitely preferable processed white rice cake mindful blood sugar impact also great occasional mild tummy upset since light bland not require preparation bland foods try hummus personal favorite peanut butter jam sprinkling chia seeds yum',\n",
       " 'consumer reports rated crackers highest inorganic arsenic rice crackers market like crackers no longer eat arsenic issue brown rice resolved',\n",
       " 'susie thin cakes great snack trying lose weight eat healthy bought one sodium cholesterol fat sugar free three cakes calories add toppin like taboule favorite topping without guilt tasty problem availability product waiting list amazon product',\n",
       " 'able much crackers easy spread stack put toppings definitely enjoyed friends',\n",
       " 'purchased based others recommendations rice cakes delicious thinner usual rice cakes supermarkets dense not full air covered watching weight eat peanut butter calories serving vs regular pb tastes exactly highly recommend rice cakes',\n",
       " 'brown rice cakes far best tried many not many foods snack food good dont feel like missing anything',\n",
       " 'love product much better regular thick rice cakes thin compact use great sandwich bread alternative not break apart quick easily regular rice cakes searched grocery health food stores area not find product anywhere love available subscription amazon com',\n",
       " 'stay together better round ones crumble terribly good alone favorite artisana raw sesame butter well packaged keeps getting broken also package opened fresh thanks great product amazon',\n",
       " 'not good value health food stores really jack prices rice cakes also nicely thin easy use spread stuff',\n",
       " 'not sure speciality stores area stopped carrying usually sold cakes calories crunchy good not like cardboard taste thicker rice cakes excellent base pb j make open face sandwich use pieces like chip dips etc good price pack month expiration use date',\n",
       " 'surprisingly tasty thin crip cracker like good snacking got husband low sodium diet great travel not easy finding prepackaged low sodium foods taste good work quite well',\n",
       " 'crisp crunchy thin low sodium usually prefer mine plain shared package friend enjoyed tuna salad topping great alternative expensive styrofoam varieties sold stores excellent product rice cakes brand also wonderful no salt diet sodium',\n",
       " 'not sure no one seems like much pretty good us not problem falling apart easy slice toasting son one gfcf diet extremely picky suspicious anything new ate muffins without hesitating sometimes poke hole middle serve bagel regular staple house',\n",
       " 'go wrong buying bulk less per unit run high per unit retail',\n",
       " '',\n",
       " 'ok like sweet potato ones better good fiber content',\n",
       " 'great told stay away wheat barley rye good answer us not pre cut cut recommend',\n",
       " 'product good feeling rather highly priced not know gluten free products general expensive made easily available ingredients people gluten problem not eating healthy sick not exploited like muffins particularly toasted',\n",
       " 'tried item liked item cheaper get buying local store easier get longer shelf life getting around driving miles one way local p make great mini pizzas',\n",
       " 'ener g english muffins received amazon not quality buy directly distributor seattle crumbled dense places not really edible also pack instead cancel recurring order',\n",
       " 'ener g foods english muffins look good packaging something makes mushy bottom presents gooy feel mouth husband got stomach aches wo not buying',\n",
       " 'need gluten free non dairy no egg pickings pretty slim use really sharp serrated knife work carefully split successfully great mini pizzas',\n",
       " 'come amazon give break powdered tofu get real food buy went looking table sugar got weird kinds sugar expect buy bulk no plain sugar not eatin rice tofu bread either sorry rant',\n",
       " 'english muffins okay best hard cut break apart easily making hard toast definitely something like jelly peanut butter spread otherwise not taste best',\n",
       " 'looking english muffins go grocery store buy not even resemble english muffins tasteless however restricted diet wheat flour soy dairy gluten etc might check list ingredients not care',\n",
       " 'tried substitute sandwich roll could not cut without falling apart ended toasting pieces like chunks enough cream cheese ok tapioca hamburger rolls products would recommend',\n",
       " 'not greatest thought would great hand guest come not not expected',\n",
       " 'coffee company delivers great coffee taste like coffee deep robust taste jeremiah always makes glad purchase thanks',\n",
       " 'coffee beans not seem fresh no oil ever tasted much better fresher not order',\n",
       " 'received product old dried dingo makes good product buy time dog loves supplier pay attention ship',\n",
       " 'corgi loves sizes shapes flavors dingo bone treats reviewer commented vendor never got bad dingo yet highly recommended',\n",
       " 'oil wonderful almond oil strong overwhelmed using salad cooking loved flavor oil buying',\n",
       " 'love product order quite often big boys take hunting wish seller would take time money change label say mild instead spicy isnt spicy least put sticker package not changed discription line thought actually purchasing spicy time still wonderful product',\n",
       " 'could find local shell gas station source buy want fast secure delivery price great order etc',\n",
       " 'good light taste not strong flavoring little aftertaste go easy mmmmm definitely happy purchase',\n",
       " 'could not resist price many beef sticks cheap however think expecting something different jerky good taste first not oily got older exposed air notice oil spots forming casings sticks overall consume say within week opening great need something stick around longer stick get maybe not right product also sent free sample products order shipping quick like company beef sticks not looking guess',\n",
       " 'really enjoyed beef sticks even though preferred little bit harder tasty put frig worked fine nice flavor not sweet spicy sure not last house',\n",
       " 'beef sticks great flavor price seems fair no label stating product needs refrigerated',\n",
       " 'good snap bite nice honey beef taste choo choo r snacks always excellent customer service throw samples well',\n",
       " 'like product much honey flavor makes taste good bigger thicker others seen saddlebag package ingenious open expose air open half time leave one half completely sealed one package thick beef sticks sustain someone long time use emergency shelters mountain climbing backpacking camping hiking survival training survival situation theres plenty could sustain long time lost light storable beefsticks jar peanut butter unopened large jug water vehicle could sustain life long time minimum space weight appear kind home made unlike beef sticks seen stores dogs like also break whenever need treat see nothing ingredients suggest dogs not eat however want person evaluate not say dogs pieces love havent shown signs sick less energy recommend',\n",
       " 'really great snack hiking baseball game son enjoy taking go road trip hold us till find good restaurant',\n",
       " 'purchased honey stung smokies reviews stated mushy would not go far softer beef sticks still isnap taste great even picky kids liked smokies think try flavors plus order',\n",
       " 'bought buffalo bills teriyaki ole smokies beef sticks absolutely love beef sticks especially teriyaki thought would good buy good quantity price teriyaki beef sticks tasty flavorful also loved texture soft tender bad thing would say product leaves greasy fatty residue rood mouth kind takes away flavor ability fully enjoy product aside may still order',\n",
       " 'snacks different say slim jims moist seems less processed many convenience store meat snacks nice hint spice laced honey would say tasted texture might expected expensive product buy recommend friends family',\n",
       " 'little skeptical ordering teriyaki sticks version based couple reviews happy soft stick someone said nice crunch bit teriyaki milder others ordered smokey called ole smokeys not get greasy mouth feel someone said pleasant tasting taste worth rating could based individual tastes',\n",
       " 'though fresh moist however personally alittle sweet think stick john wayne brand jw brand expensive seems soot taste buds better',\n",
       " 'beef sticks honey great combination ole smokies beef sticks full flavor adding honey gives little twist sweetness puts top honey stung ole smokies always favorite friends saddlebag pack perfect take along football parties',\n",
       " 'learned co worker made bulk purhcase several kinds beef sticks year ago spread around got sample variety ordered honey stung four times since two co workers also ordered several occassions past year believers additionally ordered several buffalo bills brands superb long not eat whole bag would also call atkins friendly well also motivator ordering many times great well seasoned snacks buy em love em',\n",
       " 'buffalo bills premium snacksi realize taste individual thing thought would share thoughts products first customer service excellent always gotten exactly ordered timely manner far ordered following buffalo bills mild short buffalo bills hot short shotsthe first two short shots similar slim jim not individually wrapped put zip lock bag find convenient munch quarter pound per buffalo bills extra smokeysthese smokey little dry buffalo bills premium hickory beef jerky pieces random size taste great jerky buffalo bills pepperoni short shotsprobably closest slim jim short big buffalo ole smokiesfatter crisp not crunchy short shots individually buffalo bills honey strungo k taste wife hates smell brother not care much either highly recommend products order listed company gunner january',\n",
       " 'natural beef soft taste not isnap drier outer surface like matter personal taste product good not everyone suggest trying company old fashioned cold smoked beef sticks strong hickory flavor good bite spice drier texture company superb customer service',\n",
       " 'taste great awhile come across pocket fat worth risk anything supplier good quality value',\n",
       " 'enjoyed product good value amount get not sense much honey product bit flavor would nice would buy',\n",
       " 'like strong coffee flavor exceptional not found better expensive difficult find local store great luck amazon good price subscription order get case couple times year still get reduced rate amazon also wonderful return policy try yuban love strong coffee not found coffee may drinking years original organic dark roast dont preference excellent',\n",
       " 'not able find dark roast yuban stores recently ordered gave date receipt actually came two days earlier husband excited saw ordered thanks quick service great product',\n",
       " 'husband always searching better coffee seemingly seems something wrong lol finally decided yuban without fail favorite coffee no aftertaste not bitter way remains constant note husband go grabbing different grinding silly wishes complaining one settled yuban forevaaaaaaa',\n",
       " 'excellent enjoyed yuban coffee many years recently tried dark roast coffee would recommend want rich tasting coffee smooth no bitterness beats high price many gourmet coffees without sacrificing delicious flavor coffee lovers look',\n",
       " 'yuban makes best cup coffee either roast never bitter makes great cup coffee like coffee extra strong using yuban years coffee consistent distinctive best canned ground coffee period found none match true dark smooth cup coffee no bitterness burnt taste silky rich coffee add dab half n half bliss cup not spend money expensive designer coffees best persnickety coffee buy yuban',\n",
       " 'living baton rouge wife drank popular regional coffee community coffee guess loyalty became full time rv ers february packed lbs coffee ran missouri tried dark roast including maxwell house gourmet dark roast yuban dark roast omg difference never buy anything except yuban dark road smooth silky without burnt bitter taste difficult find south louisiana easier nationwide always amazon delivery within gotta try',\n",
       " 'yuban dark roast outstanding smooth chocolaty taste find good far expensive coffees would also recommend purchasing cannisters coffee freshest pop open new use without refrigerating freezing not like many dark roasted coffees not like burnt taste yuban dark roast no burnt bitter taste definitely shun regular roast one also keep mind review written someone thinks starbucks far far overrated bitter burnt',\n",
       " 'yikes thinking ordered cans stuff food pantry may getting tastes like well not use words would like let say no character no distinct taste yu blinded drank coffee not know would even know coffee use amount suggessted not help',\n",
       " 'recently thought coffee coffee apparently not simple drinking coffee either good habit environment bad one good news going green easy look certification environmental watch dogs like rainforest alliance keep demand arabica uh ra bih kuh rainforest blend coffee ask local grocery store favorite coffee house gogreenmart voted yuban product week great taste helps wake morning protects environment well',\n",
       " 'say great coffee never tried recently like better folgers',\n",
       " 'woeber hot spicy mustard oh good buy another case gone makes great gift well',\n",
       " 'great like alot great price think delicious top quality product opinion',\n",
       " 'nice mustard sandwiches potato salad corned beef roast beef hot dogs yet find single woeber product not like tasty glad see distribution range grown past ten years',\n",
       " 'not find anywhere live glad found not salty vinegary right amount thanks',\n",
       " 'instead pork rinds oil salt vinegar lactose maltodextrin contributing sugar per serving many people included buy kind snack low carbohydrate diets not happy sugar labeling package strange surprised gets nice government men worry sort thing says total carbohydrates less get put zero grams ok fair enough seen label admits grams sugar carbohydrate get away saying zero grams carbs grams sugar beyond assume nobody caught yet protein nutritional analysis says protein per serving not bad snack food right next says not significant source protein huh slice cheese grams protein ounce meet believe significant sources protein went website check nutritional facts notice high sodium missed claim number servings oz package three sodium package actually three times higher doubt many people expect oz package three servings looked fritos corn chips oz package considered single serving package analysis back shows one serving fritos tells sodium level mg entire package pork rinds oz package mg sodium half daily requirement little steep snack although went site look nutritional info not shows label actual ingredients site amazon would not purchased use partially hydrogenated oil kind fat may destructive health long term since government broke required partially hydrogenated oil listed label lot food industry switched away people correctly suspicious add insult injury unhappy taste chemical nasty taste suppose subjective bites left little queasy feel bad bought perhaps error use others looking low carb snack please pass company products let find someone else actually provide us food want information need rational ethical legal way',\n",
       " 'love salt vinegar potato chips not eat low carb diet pork skins wonderful replacement high carb snacks salt vinegar flavoring pork skins bit muted used finding potato chip brands definitely adequate soothe cravings crunchy salt vinegar snack pork skins light fluffy almost none hard rinds found brands pork skins flavoring bit pronounced would give snack five stars',\n",
       " 'like salt vinegar chips want avoid carbs pork rinds especially brand eat instead chips day',\n",
       " 'would rated stars vinegar taste overall not bad good snack',\n",
       " 'customer service beyond compare would gladly business company',\n",
       " 'nice case chips quite tasty definitely enjoy kettle sea salt black pepper wish bigger bags',\n",
       " 'best tasting tortilla chips ever become allergic tomatoes love tortilla chips much flavor chips no longer miss pico de gallo prefer eat plain also right amount heat make flovorful not overpoweringly spicy',\n",
       " 'good job shipping order quickly nothing like ace hardware took week ship',\n",
       " 'ordered black beans rice really really love stock week finally opened package kicked not tried earlier little kick swallow let know hint hot pepper sort took pot luck night came home empty bag used another bag garnish salad took pot luck came home empty salad bowl definitely order',\n",
       " 'tried conventional kettle crinkle chip verson salt peper compare easily spicy chips ever eat oompletely enjoyable finish bag indside coated spices great stuff',\n",
       " 'potato chips delicious not potato chips approximately two years difficult find organic chips amazon lowered price finally chance order definitely ordering family love pure void artificial flavorings true flavor present satisifies need something salty sweet spicy crunchy',\n",
       " 'chips great snack not want junk assiciated chips try like',\n",
       " 'love chips flavor not plain sweet spicy time drawback tad bit much salt still great flavor',\n",
       " 'thesedo not like hot food might bit much great balance sweetness spice course kettle chips good chips use good oil make even plain ones tasty also like ridged chips usually crunchy hard chew not want work hard deliciousness like spicy barbecue definitely like chips',\n",
       " 'right amount spice make hot also sweet hard find new jersey not one bag around',\n",
       " 'not believe wonderful chip slightly spicy taste gives chip extra punch flavor family offically addicted',\n",
       " 'first introduced red rice beans chips hometown bethlehem pa moved north carolina unable find chips local area trips back home would buy bunch bags bring back nc discovered could order line life great chips time favorite everyone serve loves gotta try hooked nancy walsh',\n",
       " 'ok not want get addicted not try plocky red beans rice tortilla chips husband started one seemingly anodyne bag store received second case not last long beware',\n",
       " 'chips salty hint sweet crisp crunchy best chips ever',\n",
       " 'husband mexican picky tortilla chips absolutely love texture light crispy rather thick crunchy actually usually prefers hearty cruncy chip like el ranchero flavor fantastic thilled bean rice corn base makes incredibly flavorful touch onion garlic addition go embarrassing amount never ever like plain chips eat without anything else although particularly amazing fresh salsa highly recommend',\n",
       " 'think plocky brand whole cut quality found lack taste somewhat little greasy',\n",
       " 'long story short tasty purchased number flavors brand favorite noted another reviewer contain msg form yeast extract become popular means hiding msg lately calling different things person finds use caution consume find whole process hiding plain site bothersome also bag not large half air may well help shipping paying premium price organic seems deceptive',\n",
       " '',\n",
       " 'not like potatoe chips hot sweet overwhelming taste garlic also bit salty',\n",
       " 'fantastic chips ever could eat whole bag made lots whole grain beans make complete protein no qualms feeding kids snacks great problem bag small need bigger bag',\n",
       " 'chips truly amazing light crisp great tasting nice texture natural low fat sodium need say recently bought bag regular grocery store could not belive taste buds excited saw amazon decided buy case',\n",
       " 'received chips gift basket absolutely loved searched high low unable find saw immediately ordered case chips light crispy flavorful good love dip chili plain try hooked',\n",
       " 'love chips ordered florida case chips came without packing inside bags box no cushioning needless say chips broken would not order great item not package aid minimal chip breakage one wasting money',\n",
       " 'plocky chips made several whole grains touch sweetness little lower fat sodium regular tortilla chips flavor performs tortilla chip ever eaten hold great salsas dips nothing wimpy wish company made bigger bag love usually found organic foods section grocery seem difficult obtain shelf always empty order case glad disappear fast',\n",
       " 'yeast extract listed ingredient sounds harmless right specifically chips contain autolyzed yeast extract chemical level monosodium glutamate derived different source toxic properties kettle still advertises products containing no msg acknowledge chips not safe people msg sensitivities',\n",
       " 'chips perfect snacking without salsa texture brittle thin like plocky chips downside spice minimal',\n",
       " 'guess no telling tickle palate huge tabasco fan love unconventional snacks not taste even remotely like wonderful sauce made not find much kick practically bland fact even strong aversion wasting food throw give away case favor find bag locally taking chance',\n",
       " 'nice amount heat smoke tasty chip goes great brew',\n",
       " 'love chips not even like black beans tasty yum plus good',\n",
       " 'ordered week organic foods delivery service oh word spicy not burning spicy like tongue warming sweetish salty really strongly flavored delicious chip like barbecue flavor nice sweet mexi fied barecue also like organic ate oz bag less minutes bad dang not sinfully delicious granted not whole lot skimpy price often case comes organic calories pop geesh yes cals per oz serving par course fried chips verdict fattening crispy flavorful delicious best stick small servings side low fat sandwich soup enjoy mir',\n",
       " 'first think chips not spicy spice grow bite really good',\n",
       " 'not say enough good things plocky chips purchased flavor black bean flavor',\n",
       " 'aunt gave bag immediately addicted actual pieces beans chips not overly salty like chips love zip agreed awesome without salsa no trans fat',\n",
       " 'excited thinking favorite discontinued kettle flavor disappointed opened box found substitution keeping would not ordered bags flavor good bbq chip could get flavor grocery store oh favorite food items always get discontinued one star substitution country bbq start chip not chip longed',\n",
       " 'love chips eaten alone since crisp tasty dip every one introduced chips loves expiration date months ordering bags not come near going stale',\n",
       " 'bought chips wanted try tasty sure unique different flavor right thickness remains crunchy spicy flavorful hint tabasco paprika sauce heat rice granules embedded tortilla chips however spices lacking chip liked much would recommend anyone wants try red beans rice tortilla chips go ahead put ingredients nachos except cheese maybe el pastor shredded meat tomatoes etcetera',\n",
       " 'love chips unique taste incredible crispy texture used get henry san diego ca moved ordering amazon since running constantly',\n",
       " 'chips ones found tasty healthy fewer fat calories plus higher fiber want good taste nutrition perfect blend',\n",
       " 'love ca not always get local stores not keep stocked even though always buying strong enough dip condiment great flavor grain texture',\n",
       " 'chips fanfreakintastic doubt best chips ever nice sweet smoky flavor little bit heat oh ya baby',\n",
       " 'spicy chips lot great flavor warned left stanky breath afterwards first time ate night even brushing flossing could taste mouth next morning careful eat especially hanging people later day',\n",
       " 'chips delicious like salt pepper flavored chips solid crunch not go wrong tastiest bag come across sea salt easier palette regular salt fact trouble cutting mid bag even though normally enjoy low sodium diet would feel like less lush bags',\n",
       " 'used buy local supermarket no longer carried finding amazon purchased box found fresh delicious remembered chips also healthy definately buy',\n",
       " 'best chips ever eaten everyone family loves sweet spicy crispy really good delivery perfect no crushed chips fantastic overall',\n",
       " 'plocky red beans rice tortilla chips really tasty shared bags daughter iraq said ummm good good no artificial stuff',\n",
       " 'like plockysthey like us plockys plockys mean no fuss taste good healthy plockys plockys grab bag two thank plockys',\n",
       " 'love potato chip r soooo good sweet spicy not overwhelming enough work palate not salty enough balance sweetness ordering soon love',\n",
       " 'best potato chips ever best price ever paid service respectable shipping free',\n",
       " 'love product different flavors fantastic family likes grain best no corn tortilla chips house',\n",
       " 'first time ate chips aruba could not find area ct imagine joy found amazon love hope continue carry prices terrific pay aruba run bag buy case amazon good job problem everybody wants steal bags case comes ok sharing good',\n",
       " 'like chips salsa quacomole better cips market even great order long available thank making accessable shelly kenyon',\n",
       " 'got free package bottle bloody mary mix bought seller advertising worked lol tried shared buddies loved im buy noticed no reviews yet well hot not burn mouth forever hot nice temp perfect us',\n",
       " 'not stock last time looked go vermont country store weston find along jaw harp cranberry horseradish sauce fartless black bean salsa apple cider jelly newton cradle art motion staple vermont maple syrup back ass kickin peanuts hot activate perspiration glands behind ears arms requires beverage advertised glass cold milk box kleenex since make nose run look like ordinary peanuts already giving ideas work suspect people hitting goodies absence especially colleague greg going take work earliest opportunity empty contents ordinary planters peanuts see whose crying whose nose running return shaken ensure spices evenly distributed important wash hands consumption not touch eyes go nuts ass kickin peanuts p not sharing peanuts not deliberately probably give greg jaw harp christmas insulted',\n",
       " 'like thick no trans fat natural according info flavor subjective bags keep eating much one time set limit bag cons another reviewer said lot oil chips place paper napkin plate pour chips wait mins eating napkin soak oil seems gross much oil chip napkin soak true least way get rid oil',\n",
       " 'absolutely forget confirmed reviewers chips total garbage like chewing styrofoam packaging peanuts positively awful no hyperbole exaggeration never buy anything kettle brand ever reportedly great premium brand literally mass market chip ever tried tastes better stale rancid tasting virtually no salty taste whatsoever completely awful',\n",
       " 'salt vinegar chips definitely favorite type potato chip ones made kettle tasty enjoyed thoroughly wish healthy option great taste',\n",
       " 'kettle best brand market really know turn humble potato something fit gods not think anything could top salt pepper chips new favorite flavors pure real go great everything highly addictive hope come low fat version low fat chips excellent need flavors',\n",
       " 'kettle brand potato chips spicy thai flavor really taste like food eaten thai restaurant ingredients listed include garlic powder onion powder parsley jalapeno spices not sure spices sure tastes like lemongrass yum chips thick cut crunch come seriously heavy duty bag tried open like regular chip bags pulling two sides apart no way bag thick wondered plastic started looking scissors decided company put chips bag nice must provided way open sure enough small slit top simple directions tear easy not think',\n",
       " 'always fan kettle chips open bag kettle chips know going get quality chips no exception live name printed package new york cheddar chips subtle flavor taste cheddar not smack face like supermarket brand chips might taste lingers well definite plus another aspect kettle chips fact every chip nice crisp crunch mouth top no burnt chips bags since purchase negative might flavoring chips uneven chips might pack nice cheddar punch another might taste rather plain not big flaw happens getting seasoned not ruin bag overall quality chips fantastic flavor great wont disappointed especially cheddar lover',\n",
       " 'favorite gluten free dairy free flavored chips many salt vinegar chips contain dairy nice find ones eat vinegar flavor really intense good',\n",
       " 'tried many varieties bbq chips hands best market r not salty greasy great crispy crunch plenty good bbq flavor hint sweetness brands fall short every bag bag mouth wateringly delicious',\n",
       " 'kettle chis best ever used favorite flavor tried salt pepper kind sure personal preference crunchy real potato chips',\n",
       " 'chips right amount crunch enjoy taste chips consistent fairly even distribution seasoning like size bags right amount chips',\n",
       " 'subscribed one case every three months comes month convenience favorite chips handy whenever want seems frito lay managed crowd every chip vendor pretty much local stores best way ensure steady supply items want rather items frito lay wants two ounce bags larger might used buying subway example find works well large enough good snack even share single bag lunch size perfect ensuring fantastically crunchy chips always fresh no chip clip needed problem subscribed four cases year yummy chips always pantry makes really easy increase ones kettle chip consumption definitely hide case kids',\n",
       " 'ordering sea salt chips year love daughter picked local grocery store new favorite ordering',\n",
       " 'strongest tasting salt vinegar chips could still vinegar flavor think close going get without dousing vinegar powder side side cape cod salt vinegar twice flavorful additionally reviewers said quite good bit potassium somewhere neighbor rda per serving',\n",
       " 'love chips buy pack month bags right size snacking prevent eating way much larger bags jalapeno spice subtle enough not overpowering still gives great amount flavor',\n",
       " 'enjoy chips got instead usual jalapeno ones company bit flavor change think better slightly like jalapenos great amount flavor without overpowering small bag size prevents overeating larger bag',\n",
       " 'tangy prevents eating many handful two trick crisp savory',\n",
       " 'chips thick crunchy absolutely love taste perfect like buy smaller bags cant trust large bag taste no good',\n",
       " 'cannot say much love kettle brand potato chips kettle brand large variety unique flavors quality chips blows potato chips water ingredients list printed bag thing really bad oil frying chips love not filled nasty chemicals ordered cheddar sour cream krinkle cut ones great torn',\n",
       " 'wow eaten quite potato chips day kettle chips best non baked chips eaten decided try sweet onion chips since never favorite like onions must buy definitely reorder mentioned best ever eaten flavor great',\n",
       " 'title says great flavor hint spice excellent crunch eat kettle chips truck load house like flavors one far away favorite never enough bags get us next shipment wish amazon could get larger bags subscribe save buy make sure enough everyone otherwise may not get enough',\n",
       " 'one best chips buy tried kettle varieties many others slight taste jalapeno delicious perfect sandwich alone like addicted chip see addicts anonymous',\n",
       " 'glad find one ounce size bag seems bit less full hard find single serving chip bags vend well sometimes wide plump air bag size good bbq flavor',\n",
       " 'best deal ever delivery fast chips delicious fresh love',\n",
       " 'buy mostly vending size bag important kettle oz bag good size although seems bit less full salt vinegar flavor satisfying',\n",
       " 'buying bags one time hefty markup nearby stores decided try bulk ordering snack foods amazon pleased price products jalapeno kettle chips not overly spicy slow building spice starts subtly grows eat whole bag embarrassed say quite times chips arrived well packed fresh nearly year time expired pretty impressive chips importantly price per bag much much better local store could although live near expensive city may play role price difference would not hesitate order another box run',\n",
       " 'never met kettle brand chip not like chips great loaded potato flavor flavorful like sweet onion chips better also top list great tasting potato chips kettle chips great chips f money',\n",
       " 'husband love chips personally think flavor perfect try',\n",
       " 'great cutting back fat resemble regular chips nothing like extremely dry hard',\n",
       " 'barbeque flavor chips really perfect spicy enough hint sweetness little smokey chips extra crunchy thick enough substantial not hard makes wonderful snack great accompaniment burgers hot dogs brats chicken casual entree',\n",
       " 'hesitant buy local grocery store lunds sale bought bag found going beyond simply flavored chips like cheddar vinegar usually results disappointment tried thai asian inspired chips target archer farms awful kettle spicy thai chips awesome much considering buying bulk amazon taste complicated stimulates different parts palate taste sensations prevalent real thai food baked chip sweet salty spicy sour not know well made well balanced chip addicting',\n",
       " 'not done side side comparison chips still taste like real deal snack sized bags well regular brand grocery store work portion control reduced fat yes please subscribe save much cheaper grocery store',\n",
       " 'love kettle brand chips love honey dijon years decided try flavors sea salt vinegar chips tangy sour make lips pucker eat many time got big bags steal amazon personally flavor much mom aunt love hate potato chips',\n",
       " 'chips nasty thought someone spilled drink bag no chips soaked grease nasty',\n",
       " 'hands absolute best salt vinegar chips buy great strong flavor left addicted certainly favorite chips highly recommend trying',\n",
       " 'kettle brand chips used good oily crunchy flavorful suspect company bought recipe changed worse no better big name brand chip try good health kettle style olive oil chips instead good kettle brand r p kettle brand chips',\n",
       " 'knew family already liked chips no brainer take advantage great price good chips price per bag not beat order subscribe save good thing always change delivery interval notice go quicker slower anticipated',\n",
       " 'kettle chips taste good crispy crunchy u enjoy also moreover thinly cut sliced',\n",
       " 'think chips awesome not best along poor brothers salt vinager chips buy spicy thai chips smaller bag might much flavor bottom bag larger bag least experience last time bought amazon like would suggest trying spicy thai bag bigger ounces',\n",
       " 'may sound rediculous actually ordered wrong brand potato chips ordered kettle brand jalapeno chips time placed order could not remember name jalapeno chips recently discovered liked kettle brand chips packaged similarly colored bag worked best really like kettle brand jalapeno chips happily munch away upcoming tv football games run probably sometime next year likey purchase miss vicky brand jalapeno chips plan try flavors kettle brand chips imho kettle brand chips excellent recommend potato chip affection ados sincerely homiedog',\n",
       " 'yo kettle chip addict happy find snack size bags lunch great quality much cheaper stores definitely buying',\n",
       " 'chips come large box individually wrapped bags chips bags strong much thicker say lay potato chip bags inside tasty kettle cooked chips salted right appear cooked actual kettle fashion cooked others gives authentic non manufactured feel people may not like reccomend',\n",
       " 'fantastic tasting potato chips love individual bags great kids adults no trans fat no cholesterol no artifical stuff low sodium high potassium great people like hbp problem amazon stock times price high',\n",
       " 'kettle lightly slated chips favorite market not care fancy flavors salted right thick super crunchy full flavor best',\n",
       " 'love salt vinegar potato chips one choose flavor zippy tart no unpleasant chemical aftertaste like less natural versions snack bags right share lunch chips little greasy given stars instead',\n",
       " 'professional potato chip muncher see thee best market rich taste flavor almost impossible not finish entire bag true meaning decadence',\n",
       " 'got sea salt vinegar chips kettle used salt vinegar chips white bag allowed say anyways first impression wow chips get price got x bags wow many price tell high quality chips packaging also well used cheaper chips not expecting mellow things ones used really sour taste not mind tons flavor chips not sour taste like lot less strong aftertaste want try salt vinegar chips suggest try first price many get chips definately worth thick crunchy like expensive chips get high quality restaurants recommend stars',\n",
       " 'chips good could not stop eating not last long reason gave stars instead think bags little hard open not sure need make potato chip bag sturdy may need scissors hand open much easier',\n",
       " 'problem order case good half time best kettle chip best get case worse potatos mealy old throw order expensive made good fresh potatos best last case prompted write potatos weird like almost sour going bad even wrote company makes want best kettle chip try ones get not best try done ordering creeping using soured potatos either not noticing not caring',\n",
       " 'sent week past fresh date stock chips noticeably not fresh taste wo not order edit add dangers expired stock one bags rat hole black marks inside hole obviously rat unfortunately put chip mouth saw hole bad form amazon',\n",
       " 'spicy thai chips used best tasting chips market however kettle foods changed ingredients used ginger important missing notice removed ginger attitude bag sadly changing ingredients ruined chips not good anymore spice level virtually non existent original new ingredient listings original ingredientsselect potatoes safflower sunflower oil honey powder evaporated cane syrup honey salt garlic powder jalapeno pepper ground ginger onion powder habanero pepper dried parsley citric acid cilantro extract ginger oil cayenne pepper white pepper lime oil new ingredientspotatoes safflower sunflower oil sugar dried cane syrup salt maltodextrin yeast extract spices garlic powder onion powder dried parsley jalapeno powder citric acid natural flavors lime extracti assuming changed ingredients order cut costs new owner blue diamond might want get rid great taste naturally bags not consider maltodextrin natural great job kettle way ruin great thing',\n",
       " 'first thinking cheese flavored chips love herbs used delicious cheese not overpowering yummy crispy',\n",
       " 'best chips nothing beat taste like honey mustard definitely like eat wont stop addicting stuff',\n",
       " 'chips good ended eating whole bag day cause good glad not dextrose like lays',\n",
       " 'new favorite always fan salt vinegar honey dijons replaced new number one strong taste loving honey mustard flavor must hope like price wise not see much deal purchased grocery no shipping would given product stars easily not price taste fabulous not disappointed',\n",
       " 'new york cheddar flavor favorite kettle brand potato chips flavorful crunchy make mouth happy unfortunately may opposite backside not mom eat entire bag empty stomach may spend afternoon bathroom still give stars also online price amazon better anywhere else seen combined amazon prime getting great deal chips',\n",
       " 'agree company motto natural obsession tried small bag local store immediately bought bulk online save percent flavor strong best paired food mild flavor like steamed vegetables plain whole grain bread otherwise compete clash food',\n",
       " 'not salty like regular supermarket chips snack not overwhelm guilt gotta chips kettle chips lightly salted chips searching no cholesterol no trans fats no artificial anything manufacturing process actually seem kind home made quality excellent product',\n",
       " 'chips delectably delicious low sodium diet not give totally something truely love snack chips bursting flavor not really tell missing salt kiss worth chip beleive total makeout',\n",
       " 'really amazing chips not put one cheeses blue cheese subtle even blue cheese haters like enjoy',\n",
       " 'kettle foods inc makes best tasting potato chips ever eaten variety flavors classic barbeque unique spicy thai find right flavor mouth not taste wonderful natural chips cooked safflower sunflower oil zero cholesterol gogreenmart product week kettle foods inc green giant company highlighted environmental practices convert waste oils biodiesel power company cars roof top solar panel system creates annually production offset additional u energy usage buying renewable energy credits not efforts future care present rejuvenate neighboring acre wetland eco system recent building construction earned gold rating leadership energy environmental design leed mouth thank environment',\n",
       " 'try good feel like indulging delicious gourmet potato chips new york chedder potato chips first flavor like go see natural food store chips tangy crunchy satisfy potato chip fix like no brand',\n",
       " 'bought local supermarket enjoyed although salty leave tongue roof mouth burning keeps eating many occasionally get really stale items amazon com one unedible beware quality food items website special close due dates case not expired stale unedible',\n",
       " 'getting worried read reviews specifically one star reviews always go see faults reviewers find merchandise would prevent buying wow sure seemed hate kettle chips backyard barbecue bags pack bought ounce bags liked lot decided subscribe good measure got orders ounce bags yes love potato chips especially kettle chips backyard barbecue flavour others seemed really hate least hate changed realized talking flavours amazon deep wisdom obviously seen fit put comments concerning flavours kettle brands potato chips together course advantages potato chip lovers like enjoy eating several flavour brand varieties comparisons made easily also potato chip lovers person favourite flavour reviewing sort united nations potato chip lovers different united love potato chips rest world really benefit example tightly knit ever er expanding group think not first realizing thesedifferent flavour reviews together cause little confusion dismay least begin amazon mentioned kettle potato chip review forum happy report kettle chips backyard barbeque flavour totally delicious least one ounce bags hopefully product ounce bags taste definitely chips adults however children whose stronger adult taste buds withstand strong flavour chips not strongest flavour ever jalapeno pepper chip far strong even backyard barbeque chips kettle however right amount sweetness honey powder onion sugar take edge stonger flavours paprika chili pepper cayenne pepper natural smoke flavour less come list ingredients sweeteners complete list ingredients kettle backyard barbecue chips bags hopefully ounce bags well follows potatoesvegetable oil safflower sunflower oil honey powder dried cane sugar honey rice powdersugarsaltonion powdertomato powderpaprikatorula yeastgarlic powderchili peppercitric acidcayenne pepperpaprika oleoresin colour natural smoke flavournaturally cooked natural ingredients combination true taste treat course ptato chips moderation key potatoes contain lot potassium gives energy othr good things much damage kindneys vegetable oil great much oil well much starch potatoes hurt eyes natural smoke flavour yummy well sugar large amounts linked cancer productionas far starch potatoes oil go thiscan ameliorated bit drinking tea good eyes far potassium energy good much bad kidneys sugar natural smoke flavour much leading cancer production thing good everything e r n twice three times month allow go call potato chip diet eat one large bag equivalent small ones potato chips day supplement tea coffee lemonade well several servings carnation instant breakfast essentials like dark chocolate flavour adds fewer calories would normally eat normal three meals day plus snacks also teaches eat l w l one big bag many little bags never lasts long would like anyway excercise sensible eating rest month keeping scale nearby weighing least twice day every day taken ten pounds last three months backyard barbeque flavour potato chips kettle totally scrumptious except jalapino chips tasted good far spicy taste buds yet meet potato chip not like eat kettle backyard barbeque flavour potato chips combination potatoes sweetness spices truly become one top five favourites not first favourite flavoured potato perfection',\n",
       " 'opening numerous bags found none chips flavoring completely plain gross even happen',\n",
       " 'great chips great price odds like fish chips soaked malt vinegar love best salt vinegar chips ever love flavor mind spectacular deli sandwiches since found v palatable intelligent species know afternoon snack mine unless course run another heavy brained hearty breathed like mind summary like taste bitter sweet salty vinegar crispy chip boot wont pucker sight handily bagged morsels first time committed whole case chips mmmmm vinegar',\n",
       " 'really looking forward trying chips since love cheese super disappointed big fan kettle chips tasted somewhat stale almost plain supposed cheddar taste cannot taste annoying not recommend flavor salt vinegar buffalo bleu favorite',\n",
       " 'perhaps worst chips ever gone mouth entire life sour cream onion case chive chips favorite recently kettle brand honey dijon mustard took slot found sour cream onion try soon opened bag chips smelled powdered milk indeed chip coated powdered sour cream awful tastes like rancid milk not sour like sour cream rancid powdery texture also extremely unappealing basically hated chips would not recommend chips anyone unless particular affinity powdery chalky texture chip rancid onion flavor hard time believing person exists plan contacting kettle sharing thoughts hopefully reassess seasoning otherwise wonderful kettle style chips',\n",
       " 'kettle chips look feel taste like lays chips used favorite crinkle cut hefty no longer favorite',\n",
       " 'great price excellent chip cents ounce bag bargain well tasty chip everyone let try impressed commented good taste yet find kettle chip disappointed',\n",
       " 'love chips bought stock entire school year chips taste great packages sealed good condition arrived box hand tatters holes complely squished not know result customs voyage receive bit disgruntling given falling apart luckily no victims within chips',\n",
       " 'totally orgasmic chips best spicy chip ever tasted signed subscribe save option case contained full sized bags chips price per unit equals per package not even cost plain chips add free shipping fast delivery deal steal run like stole something computer order spicy thai chips p even paid going price still ahead curve enjoy',\n",
       " 'seriously tasty tasty tasty fresh problem pack lend wanting make multiple trips cupboard helpings grabbing multiple bags begin pace keep saying not go wrong fan salt vinegar classic bags double size kid bags size ones small gas station racks really good size adult somewhat healthier snack typical bag fried chips calories per bag not bad something think bottom line delicious',\n",
       " 'despite coming extremely large box found great value bags preserved reasonable expiration date months away would definitely recommend',\n",
       " 'nasty greasy rich blood plus lacked major flavor no spicy jalapeno flavor dissapointed chips always hearing great things chips telling yuck yuck yuck give pain chips day maybe better kettle chip brand staying clear chips wish could give zero stars could',\n",
       " 'like spicy like spicy enjoyed also crunchy kettle cooked chips',\n",
       " 'salt free product purchased chips quite greasy',\n",
       " 'best potato chips money buy enough salt taste not much masks lingering potatoey awesomeness wolfed bag beauties chip perfect thickness teeth get excited every time put one mouth everything chips perfect like made god delivered gabriel know amazon carries not even leave house buy may never eat anything else',\n",
       " 'first discovered kettle chips sea salt vinegar shopping trader joe daughter mindy could not believe tasty best chip ever eaten love first bite munching ever since things favor thicker chips not crumble devouring delightfully crunchy salt vinegar combination heavenly tried create original line describe palate pleasing taste treat could not beat manufacturer said tongue puckering tang crunch not poetic health values since kettle chips not peeled preparation getting nutrition potassium vitamin c mother would approve fact hand cooked small batches often enjoy kettle chips afternoon snack favorite soda iced tea also delicious tuna sandwich hot dog lunch well actually kettle chips go perfect everything except sweets course problem delicious not stop eating reason chose smaller packets figured could last almost month good girl kept appetite control hid kids sake fewer calories try hard succeeded far not easy told much love reviewed betty dravis babe prophecy',\n",
       " 'not need salt hide taste potato chips chips prove taste potato comes instead masked ok still snack food no salt no trans fats mean healthiest potato chips get low salt diet like available means eat chips kettle best',\n",
       " 'potato chips excellent no trans fats taste absolutely delicious whenever mood potatoe chips kettles brand buy great product anyone enjoy highly recommend enjoy',\n",
       " 'feels strange review chips compelled absolute favorite chips kettle lots flavors always go back regular lightly salted thicker sometimes greasy bottom bag plus often looked burned not actually burned something much sugar potato makes dark love open bag find browned chips lays wise place become chip snob thanks kettle like edy breyer ice cream products worth money best best',\n",
       " 'tried lot v chips best real sea salt real vinegar mouth watering flavor crispiness not faint heart flavor authentic',\n",
       " 'kettle brand chips crunchy would say regular plain old lays potato chips soft end soft crunchy spectrum ruffles brand potato chips used considered crunchiest kettle brand chips far crunchy tender mouth bad teeth dentures might want steer clear kettle brand otherwise love chips sea salt vinegar chips super tangy enjoy taking swigs vinegar bottles time time dissapointed salt vinegar chips either chips soft vinegar taste whimpy chemically rest assured kettle sea salt vinegar gourmet flavor vinegar flavor no chemical flavor could never called whimpy',\n",
       " 'loved chips chips would buy discovered england back quickly became fan year ago picked bag sale local supermarket finding odd sale much took advantage opening bag found chips not even close kettle chips used uniform whitish yellow color flavor way lovely extra crisp brown chips gone completely disappointed e mailed kettle following happened bought bag chips day different taste tastes cheaper not know else put also noticed chips seemed less cooked not see browner colored chips flavor hoping nothing changed ingredients process used produce product get weird batch buying kettle chips years wondering receive reply thanks letting us know experience kettle brand chips sounds like may received bag not slipped inspections apologize potatoes vary seasonally could account variation color chips still taste great thanks providing us best code bag really helps passing comments staff sending coupons replace purchase kettle brand flavors nut butters believing great experience next purchase case buy product suggest avoiding best date still rare instance another bag case slipped inspections time thanks letting us know expect coupons arrive within weeks please let know help well next bag good since time picked bags chips like bad bag pretty sure changed product reduce cost research found kettle bought private equity company cookie cutter management processes probably employed kettle acquire company high quality brand recognition sell product mass merchants lower quality cost product increase margin finally sell company customer base starts realize brand no longer quality brand increased profits make company valuable paper make nice profit investors customer employees lose course unsuspecting buyer exploited brand stay away kettle chips no longer',\n",
       " 'someone brought party last month not put buffet full not think anyone would like saltless potato chips last week friends pantry put oh gosh good wrong think would bland full real potato flavor wonderfully crisp fresh tasting amazon buy case want dips truly delicious',\n",
       " 'backyard bbq kettle chips great deal promo code nice larger size bag kettle chips grocery store ounces polish one family lunch arrived fresh not crumbles chips amazon grocery great flavor natural',\n",
       " 'tried herrs utz wise pringles lays etc kettle tasted best quantity salt used optimum required although say serving size ounce finish whole packet no time total calories ounce bag slightly higher side still ok not compromised taste issue packets burnt chips taste bad kettle take care packing ensure no burnt chips thanks amazon get bags bucks free shipping using coupon',\n",
       " 'chips not tangy hoped expected poore brothers better choice hard core salt n vinegar fans',\n",
       " 'got kettle chips sea salt vinegar bags not impressed tasted kind flat eating bag looked bag noticed hole bag size sesame seed started looking unopened bags many type hole bags multiple holes one bag hole size dime bottom bag like rodent got box shipped no holes packed way much quality control ever let ship fired needless say never eating anymore kettle products expect full refund kettle amazon martin',\n",
       " 'chilling fridge seems boost flavor even using rather corn chips make nachos tastebuds singing like janet jackson without associated wardrobe risks highly recommended',\n",
       " 'originally produced england best chips ever tasted unfortunately since bought us conglomerate taste plain nasty hard rather crispy much thinner used lacking flavour real shame',\n",
       " 'bags difficult open aid tool scissors not even try without scissors crispy taste like chips not advertised salted definitely not healthy feel grease fingers eating see grease bottom bag high quality chips deserve put table',\n",
       " 'best unsalted chips around tried many best potato flavor came said would',\n",
       " 'seriously delicious especially like plain potato chips concern oily understand kettle chips fried small batches open bag another thing strong bag need scissors coating oil inside bag chips suggest blot shake paper towels consuming either way yummy potato taste satisfying crunch delicious',\n",
       " 'always liked salt vinegar chips time stronger flavor bottom bag not vinegar overflowing right first chip doesnt stop finished bag addictive like salt vinegar ultimate chips nothing else compares',\n",
       " 'among best chips ever eaten first came upon visited costplus world market store opelika al tiger town mall not big fan dijon flavored anything decided give chips try hooked probably ended buying dozen bags within months time searched part alabama northwestern part state could not find later tried find world market hoover patton creek shopping center not carry flavor however learned available amazon com also available prime shipping bought soon read kettle chips honey dijon bags pack get pretty big box filled bags delicious morsels last quite order soon suggest buy bulk form enjoy not disappointed go great hamburgers hot dogs perfect spring coming summer outdoor activities cook outs take word chips hidden gem lost world snack foods buy today fall love like',\n",
       " 'kettle chips really careful flavors nauseating said make fantastic plain chips thick cuts potato fried dark golden brown crunchy lightly salted sea salt not recommend chips enough not regret people say burnt not website take quick look see immediate difference kettle brand potato chips beautiful tawny gold cooking natural sugars select potatoes caramelize creating chips light gold deep amber results flavors deep rich colors artisanal display every bag also said chips oily true explain website kettle foods exclusively use expeller pressed high monounsaturated sunflower safflower oil make kettle brand products oils naturally free trans fatty acids not hydrogenated way taken extra step sending products independent third party labs test presence trans fats results indicate trans fat free meaning none detected see zero trans fats listed packaging oiliness natural happens quality oil used not find chips natural potato flavor also fan unsalted potato chips us watching salt intake unsalted chips best get period',\n",
       " 'chips taste awesome unlike flavored chips actually make sure plenty flavory salty goodness gets individual chip not pass gas near pretty ladies consumption totally know',\n",
       " 'glad able find site love flavor crunchy box packed inside another box still bags end crumbs bags survived tact',\n",
       " 'kettle branch potato chips new york cheddar good like kettle fried potato chips waaaay salty burnt side taste rancid either cheese flavoring oil fried already old want like brand chips try new flavors every tried sorts brands kettle cooked chips not hit spot',\n",
       " 'reading reviews got nervous opened bag recent order expecting worst no worries bags great shape expiration dates not june chips least first bag taste like supposed good world way fifteen bags thirty dollars ton less expensive going price around local grocery store yay team',\n",
       " 'terrible cannot believe received item every single bag opened stationed afghanistan gonna snack team going missions embarrassed bags opened spilt box gross box filled grease stains idk airplane ride way box insulated bubble wrap used instead paper unhappy stale crusty chips bag us soldiers cannot enjoy',\n",
       " 'great fan potato chips thai food happy kettle chips decided meld two great loves together concept chips spicy enough without burning hole tongue also nice hint sweetness makes habit forming careful treat definitely worth indulging',\n",
       " 'daughter autism craves hot spice pungent foods absolute favorite chips calls sour chips wants lunch time love crispy kettle way cooked',\n",
       " 'kettle chips best potato chip god ever invented give lord thanks every day delivering unto incredulously delicious blend ginger spice veritable cornucopia flavor actually changed diet strict regiment spicy thai sea salt vinegar flavors alternating days already lost lbs not mention myriad health benefits experiencing get life back kettle chips',\n",
       " 'waiting ridiculous amount time case bags arrive upon opening box noticed every bag chewed open mouse not know still box outside porch son gets home going pictures taken email amazon outside amazon box intact either kettle chips people amazon warehouse not know never buy amazon cannot tell disgusted purchase makes sick think included pictures top page poor little mousie must high cholesterol update forgot mention offered email pictures mouse damage amazon told not want',\n",
       " 'chips great first bags however first bag two noticed remaining bags damaged holes bag black sticky stains outside reviewers bought around time claiming found rodent holes bags chips chips came sealed kettle box hard say screwed someone somewhere screwed chips health hazard holes bag like game roulette',\n",
       " 'never addicted anything life tasted chips tried brands sea salt vinegar flavor not got stick blue bag chips',\n",
       " 'used eat spicy thai flavor time msg makes body unhappy one flavored chips msg free changed whole recipe make instead real food ingredients like used mostly processed chemical garbage bunch salt msg stuffed label yeast extract removed no msg label know well worst part though taste horrible instead crisp oily full character say cooked like kettle something instead color uniformity baked lays spicy thai flavor tastes like sour cream onion ranch gone rancid shame no kettle chips seems slowly moving one flavor time new cheap ingredient list manufacturing method dont fooled paying premium price chips not premium product anymore',\n",
       " 'unless really really really like vinegar avoid chips called vinegar sea salt not sea salt vinegar',\n",
       " 'love sour food one not bear strong sour taste even open bag sour smell strong not like',\n",
       " 'defintely not tasty madhouse munchies family favorite kettle dark burnt broken bits taste greasy oily not light crunch oh well',\n",
       " 'not waste money kettle brand potato chips bought case case cheddar sour cream cases ended garbage',\n",
       " 'chips greasy taste burnt grease bottom bag chips saturated especially bottom bag even trans fat free need lot less greasy',\n",
       " 'not know case chips received everyone allowed sample chips buffet style setting agreed slightly salty side one person jokingly stated would terrific melting ice snow due amount salt ordered expectations would similar lay kettle mesquite potato chips kettle brands outback bbq chips exact opposite sorry folks better expectations chips little salty side still looking forward amazon finally getting lay kettle mesquite potato chips stock got star bbq powder used flavorful enough unique',\n",
       " 'looking strong v flavor definitely not mild comparison many others live tx tell tried v chips get ahold best best heb storebrand world market bob zapp not bad chip standpoint typically great kettle crunch looking v flavor touch',\n",
       " 'purchased low salt indeed low salt however many many chips bag literally dripping oil never encountered problem potato chip brands unappetizing wants oil never buy would not recommend others',\n",
       " 'ordered kettle chips following flavvorssalt fresh ground peppertuscan cheesen cheddar hersthey tasted variety pack suggest u order ordering large size wish could return unopened bags',\n",
       " 'good wish also baked not found baked no salt potato chips anywhere wish someone would post',\n",
       " 'bought brand trial since tired pingos claims natural no argument point bag fried brown color really suffer eating fried chips open bags looks like throw away not know bad luck every bag selling sure never buy brand',\n",
       " 'unless like salt vinegar chips salty eating actual pinches salt drinking actual vinegar doubt like chips saltiest sourest chips ever reason stops throwing away paid full boxes dont like waste food brown chips especially bad besides salty sour also taste overcooked burnt unless rare kind take kind extreme taste not like chips actually high tolerance sour taste bag chips bit difficulty normal people please not try home',\n",
       " 'loved kettle brand sea salt vinegar chips since first time tried fact able find line great price wonderful would definitely make purchase quick simple snack lunch goes great cold sandwich',\n",
       " 'addicted salty tangy flavors opened first bag sea salt vinegar kettle brand chips knew perfect complement vegetable trays cucumber carrot celery cherry tomatoes skip dip balance tangy chips alternating bites raw vegetable oregonian proud share delectable snacks friends especially living outside state not experienced gourmet chips tell kettle brand potato chips microbrews beer kettle brand potato chips unmistakable light gold color rich flavor amazing crunch kettle brand chips also healthier snacking option major chip brands kettle brand chips not trans fats msg artificial flavors colorings company also line organic potato chips products certified kosher also recommend annette solomon reporter salem statesman journal recently noted glass wine goes nicely chips solomon wrote could missing wonderful pairing chips spicy would want select semi sweet white wine also moderate amount acid subdue strong flavors ginger lime garlic cilantro without powering classically german style riesling fits parameters perfectly',\n",
       " 'bought sale amazon nice crispy thick chips definitely great buy catch sale',\n",
       " 'like order kettle spicy thai chips amazon hard find locally probably aggrieved know recipe changed like regular potatoe chips paid husband gets eat not like spicy thai fine yuck',\n",
       " 'kettle chips thicker crunchier though greasier times chips honey dijon flavor great not overwhelming salty taste cheaper chips size great adult size snack',\n",
       " 'addicted salty tangy flavors opened first bag sea salt vinegar kettle brand chips knew perfect complement vegetable trays cucumber carrot celery cherry tomatoes skip dip balance tangy chips alternating bites raw vegetable oregonian proud share delectable snacks friends especially living outside state not experienced gourmet chips tell kettle brand potato chips microbrews beer kettle brand potato chips unmistakable light gold color rich flavor amazing crunch kettle brand chips also healthier snacking option major chip brands kettle brand chips not trans fats msg artificial flavors colorings company also line organic potato chips products certified kosher also recommend annette solomon reporter salem statesman journal recently noted glass wine goes nicely chips solomon wrote could missing wonderful pairing chips spicy would want select semi sweet white wine also moderate amount acid subdue strong flavors ginger lime garlic cilantro without powering classically german style riesling fits parameters perfectly',\n",
       " 'oregonian make point sharing oregon made snacks friends visit state tell kettle brand potato chips microbrew beer kettle brand potato chips unmistakable light gold color rich flavor amazing crunch kettle brand chips also healthier snacking option major chip brands kettle brand chips not trans fats msg artificial flavors colorings company also line organic potato chips products certified kosher annette solomon reporter salem statesman journal noted glass wine goes nicely spicy thai chips solomon wrote could missing wonderful pairing chips spicy would want select semi sweet white wine also moderate amount acid subdue strong flavors ginger lime garlic cilantro without powering classically german style riesling fits parameters perfectly also recommend honey dijon chips bring terrific balance salty tangy sweet crunchy brands tried use much mustard flavor overpowers honey dijon pairing honey dijon chips make great side dish bbq plate baked beans coleslaw potato salad grilled meat naturally also go great beer sea salt vinegar chips perfect complement vegetable trays cucumber carrot celery cherry tomatoes skip dip balance tangy chips alternating bites raw vegetable summary highly recommend kettle brand chips great buy amazon com',\n",
       " 'kettle brand chips probably best potato chips tasted thus far thick bite love creative flavors favorite kettle chip happens honey dijon think great combination sweet salty tangy perfect one snack attacks not know exactly want especially love curled chips extra texture crunch bags perfect anyone problem controlling portions like',\n",
       " 'eaten brands unsalted potato chips always terrible not expect much bought tasted amazed never enjoyed unsalted potato chips natural potato flavor thick crunchy chips bad thing bag pain open use scissors save aggravation',\n",
       " 'best spicy chips ever pleasure eating start sweet eat spice builds fantastic not want commit whole case pick bag local whole foods first stock realize amazing got case right loving every bite side note brand kettle brand many delicious varieties personal favorite also highly recommend backyard bbq honey dijon sweet onion buffalo bleu salt pepper death valley chipotle lays aint got nothin kettle brand',\n",
       " 'enjoy ever step gained lbs within month buying pack full sized bags damn warn tastes awesome though finish crash diet order another box case',\n",
       " 'found years ago health food store bought one bag found stopping store week get chips new york cheddar flavor good hard time not eating whole bag',\n",
       " 'achieve potato chip nirvana simple buy chips get tomorrow eat repeat best old school bbq flavor therekettle qualityincredible price amazondid mention delicious terrific bargain',\n",
       " 'second purchase kettle potato chips love much first time tried bought carton bags kettle chips bag enough single size serving snack meal chips delicious baked not fried lightly salted sea salt fat no preservatives nothing artificial use real food ingredients could ask great tasting chip',\n",
       " 'nothing good bad chips like plain potato chips would like thicker brands fresh box crunchy not salty one bag lot generally cannot finish part reason oily chips almost look transparent know mean taste oil bit overwhelming used spicy chips may not like since not spice except salt name says not think buy best date bags march ordered end october',\n",
       " 'looking pictures someone put showing crushed box write review bought chips numerous times amazon warehouse deals time came packaged perfectly sale end summer received cases boxes chips fresh hard eat one bag hid garage remembered went way not eat far pictures person contacted amazon made ok amazon great handling complaints person given perfect customer service called amazon thanks great tasting product good price quick shipping buy soon',\n",
       " 'son bought package jalapeno potato chips couple weeks ago become addicted first kettle chips appear somewhat better terms fats etc many chips one peruses dietary information second individual chips nice crisp good crunch value munch away third jalapeno kick not overly hot course many products labelled spicy not no kick bland get slow noticeable burn jalapeno preference bit heat understand consumers would prefer somewhat less would still decent spicyness pretty happy product weeks since first bought purchase package week foray local grocery store',\n",
       " 'love jalapeno chips kettle must try nice cruncy kick jalapeno delicious addicting recommended',\n",
       " 'package arrived double boxed wrapped inside box holds goods perfect not single dent rough mark outstanding packaging product best chips planet salt n vinegar flavor beyond among best chips ever might actually sure probably not like first bite never try not mention particular flavor held numerous surveys comparisons manufactures',\n",
       " 'salt vinegar chips favorite flavor think tried every brand far best also like sodium content not high like others not excessively greasy seem right balance salt vinegar taste',\n",
       " 'favorite not everybody way sort taste like oriental flavor ramen kick one go wrong combination jalapeno ginger bit rich not everydayforamonth snacking case purchase recommend trying single bag buying entire case size seems no longer available shame eat entire bag',\n",
       " 'smiles thank lord found another healthy snack food unsalted tastes great almost gave finding potato chip like thing would ask kettle change texture slightly hard crunchy not problem would prefer softer kettle make happen please keep everything else thank',\n",
       " 'saw spicy thai chips knew try love spicy love thai food not first chips not super spicy actually taste sort sweet first many degrees flavor spiciness lingering taste bites afterwards would say definitely good unique chip absolutely hate sweet chips would try different flavor since little sweet',\n",
       " 'found product kettle chips unsalted fabulous found accident amazon hunting local stores crisp tasty without salt',\n",
       " 'sodium per serving chips crisp sometimes dip low salt ketchup adds bit flavor',\n",
       " 'admit oversalted chip addictive really think one gone far skin literally peeled lips inside mouth eating surprised still market',\n",
       " 'looking probably already know like chips great deal not problems going stale bags great size snack help avoid eating',\n",
       " 'not know say others not covered like potato chips like get em sale limit intake',\n",
       " 'love chips whole family hooked chips eat',\n",
       " 'real good product love chips customers not go wrong wit best',\n",
       " 'found new taste treat not big one potato chips sure come late discover think really good processing ingredients list actually pretty good no trans fats etc want indulgence thicker tasty mass produced potato chips come know much flavorful never honey dijon potato chip incredibly good flavorful combination sweet tangy salty also not overly hot spicy excellent want snack something really good got worth calories',\n",
       " 'tasted good spicy not like spicy stay away price paid good buy',\n",
       " 'favorite home like ones sea salt also like barbeque flavored not ruffly chips ridges thickly cut plain slice potatoes thick crunchy great texture mouth also great taste sea salt ones favorite enough salt salt not much feel like drink gallon water chips enjoy',\n",
       " 'long enjoyed brand chip began think seriously limiting salt intake particularly pleased find granted bought somewhat reluctantly confirmed salt aholic generously sprinkling everything eggs green beans pleasantly surprised chips satisfying robust taste crispy boot nice able munch without worrying much salt',\n",
       " 'amazon suggestion star review like said gave star review spicy thai chips chips perfect people enjoy spicy chip whose taste buds not appreciate added sweetness ginger flavor thing really dislike chips along rest flavors serving size half bag really eat half save rest later not',\n",
       " 'admit chips good highly addictive not stop eating crunchy seasoned right amount flavor salt perfect believe chips salty not finish small bag one keep eating',\n",
       " 'not eat many chips love great buy arrived quick packed great expiration date ways away awhile enjoy great natural potato flavor love brown russet hardy flavor fit description tee',\n",
       " 'honey dijon chips bring terrific balance salty tangy sweet crunchy brands tried use much mustard flavor overpowers honey dijon pairing chips make great side dish bbq plate baked beans coleslaw potato salad grilled meat naturally also go great beer oregonian proud share delectable snacks friends especially living outside state not experienced gourmet chips tell kettle brand potato chips microbrews beer kettle brand potato chips unmistakable light gold color rich flavor amazing crunch kettle brand chips also healthier snacking option major chip brands kettle brand chips not trans fats msg artificial flavors colorings company also line organic potato chips products certified kosher also recommend kettle chips flavors annette solomon reporter salem statesman journal recently noted glass wine goes nicely chips solomon wrote could missing wonderful pairing chips spicy would want select semi sweet white wine also moderate amount acid subdue strong flavors ginger lime garlic cilantro without powering classically german style riesling fits parameters perfectly',\n",
       " 'chips remind long obsolete brand chips could get middle school far tastiest chips impossible walk past aisle without picking trademark blue bag putting bag clip bag',\n",
       " 'far favorite chips extremely crunchy similar kettle style chips extreme vinegar flavor differentiates lesser fried potato snacks tried several brands salt vinegar none come close',\n",
       " 'good need cheese wish krinkle cut much prefer salt pepper krinkle cut better texture around brand much better frito lay good price amazon get free shipping similar tim zack chips crispy side note hardest bags open hand use knife scissors everytime',\n",
       " 'took one said good russet potato chip flavoring sudden within seconds spread senses taste buds happy close thai food potato chip get chips spicy enough satisfy craving spice hint sweetness makes habit forming flavoring included garlic ginger jalapeno cilantro spices felt great eat buy treat',\n",
       " 'really love kettle brand chips rather disappointing little sour cream onion flavor',\n",
       " 'got order ok bit light cheddar flavoring herb taste eludes',\n",
       " 'husband likes lot bit different get used less greasy salty taste usual chips buy browner would like see chips pretty sturdy texture not bad though takes getting used eating chips better health calories fat however',\n",
       " 'reason amazon would not ship alaska sent grandchildren got enjoy good chips amazon rethink shipping alaska thing would order groceries online',\n",
       " 'like kettle chips really disappointed order cooked bought bigger sized bag costco chips cooked perfectly not know different never buy chips',\n",
       " 'chips quite tasty price right packaged well would buy',\n",
       " 'bought box chips father day gift dad loves yummy substantial regular chips',\n",
       " 'took get used chips pretty good healthy sure eaten family friends',\n",
       " 'delicious oz bags bit big school lunches definitely serving',\n",
       " ...]"
      ]
     },
     "execution_count": 27,
     "metadata": {},
     "output_type": "execute_result"
    }
   ],
   "source": [
    "preprocessed_summary\n"
   ]
  },
  {
   "cell_type": "markdown",
   "metadata": {
    "colab_type": "text",
    "id": "ytBZVEs2CAaL"
   },
   "source": [
    "# [4] Featurization"
   ]
  },
  {
   "cell_type": "markdown",
   "metadata": {
    "colab_type": "text",
    "id": "9amw6tMZCAaL"
   },
   "source": [
    "## [4.1] BAG OF WORDS"
   ]
  },
  {
   "cell_type": "code",
   "execution_count": 28,
   "metadata": {
    "colab": {},
    "colab_type": "code",
    "id": "3hasoJ-_CAaN",
    "outputId": "12aa3f3f-083c-4de4-a6e7-3dbde6b5a905"
   },
   "outputs": [
    {
     "name": "stdout",
     "output_type": "stream",
     "text": [
      "some feature names  ['aa', 'aahhhs', 'aback', 'abandon', 'abates', 'abbott', 'abby', 'abdominal', 'abiding', 'ability']\n",
      "==================================================\n",
      "the type of count vectorizer  <class 'scipy.sparse.csr.csr_matrix'>\n",
      "the shape of out text BOW vectorizer  (4986, 12997)\n",
      "the number of unique words  12997\n"
     ]
    }
   ],
   "source": [
    "#BoW\n",
    "count_vect = CountVectorizer() #in scikit-learn\n",
    "count_vect.fit(preprocessed_reviews)\n",
    "print(\"some feature names \", count_vect.get_feature_names()[:10])\n",
    "print('='*50)\n",
    "\n",
    "final_counts = count_vect.transform(preprocessed_reviews)\n",
    "print(\"the type of count vectorizer \",type(final_counts))\n",
    "print(\"the shape of out text BOW vectorizer \",final_counts.get_shape())\n",
    "print(\"the number of unique words \", final_counts.get_shape()[1])"
   ]
  },
  {
   "cell_type": "markdown",
   "metadata": {
    "colab_type": "text",
    "id": "1dhfJZ7ZCAaR"
   },
   "source": [
    "## [4.2] Bi-Grams and n-Grams."
   ]
  },
  {
   "cell_type": "code",
   "execution_count": 29,
   "metadata": {
    "colab": {},
    "colab_type": "code",
    "id": "u1Ma2LBfCAaR",
    "outputId": "a5208a4c-c0ad-4360-f021-b2e8715610a4"
   },
   "outputs": [
    {
     "name": "stdout",
     "output_type": "stream",
     "text": [
      "the type of count vectorizer  <class 'scipy.sparse.csr.csr_matrix'>\n",
      "the shape of out text BOW vectorizer  (4986, 3144)\n",
      "the number of unique words including both unigrams and bigrams  3144\n"
     ]
    }
   ],
   "source": [
    "#bi-gram, tri-gram and n-gram\n",
    "\n",
    "#removing stop words like \"not\" should be avoided before building n-grams\n",
    "# count_vect = CountVectorizer(ngram_range=(1,2))\n",
    "# please do read the CountVectorizer documentation http://scikit-learn.org/stable/modules/generated/sklearn.feature_extraction.text.CountVectorizer.html\n",
    "# you can choose these numebrs min_df=10, max_features=5000, of your choice\n",
    "count_vect = CountVectorizer(ngram_range=(1,2), min_df=10, max_features=5000)\n",
    "final_bigram_counts = count_vect.fit_transform(preprocessed_reviews)\n",
    "print(\"the type of count vectorizer \",type(final_bigram_counts))\n",
    "print(\"the shape of out text BOW vectorizer \",final_bigram_counts.get_shape())\n",
    "print(\"the number of unique words including both unigrams and bigrams \", final_bigram_counts.get_shape()[1])"
   ]
  },
  {
   "cell_type": "markdown",
   "metadata": {
    "colab_type": "text",
    "id": "F--Xk5fhCAaV"
   },
   "source": [
    "## [4.3] TF-IDF"
   ]
  },
  {
   "cell_type": "code",
   "execution_count": 30,
   "metadata": {
    "colab": {},
    "colab_type": "code",
    "id": "6heiZFZ-CAaW",
    "outputId": "08103e90-4bd8-410e-b3dc-84a02e01aa33"
   },
   "outputs": [
    {
     "name": "stdout",
     "output_type": "stream",
     "text": [
      "some sample features(unique words in the corpus) ['ability', 'able', 'able find', 'able get', 'absolute', 'absolutely', 'absolutely delicious', 'absolutely love', 'absolutely no', 'according']\n",
      "==================================================\n",
      "the type of count vectorizer  <class 'scipy.sparse.csr.csr_matrix'>\n",
      "the shape of out text TFIDF vectorizer  (4986, 3144)\n",
      "the number of unique words including both unigrams and bigrams  3144\n"
     ]
    }
   ],
   "source": [
    "tf_idf_vect = TfidfVectorizer(ngram_range=(1,2), min_df=10)\n",
    "tf_idf_vect.fit(preprocessed_reviews)\n",
    "print(\"some sample features(unique words in the corpus)\",tf_idf_vect.get_feature_names()[0:10])\n",
    "print('='*50)\n",
    "\n",
    "final_tf_idf = tf_idf_vect.transform(preprocessed_reviews)\n",
    "print(\"the type of count vectorizer \",type(final_tf_idf))\n",
    "print(\"the shape of out text TFIDF vectorizer \",final_tf_idf.get_shape())\n",
    "print(\"the number of unique words including both unigrams and bigrams \", final_tf_idf.get_shape()[1])"
   ]
  },
  {
   "cell_type": "markdown",
   "metadata": {
    "colab_type": "text",
    "id": "XnzP-eZdCAaa"
   },
   "source": [
    "## [4.4] Word2Vec"
   ]
  },
  {
   "cell_type": "code",
   "execution_count": 31,
   "metadata": {
    "colab": {},
    "colab_type": "code",
    "id": "e-IuUZsTCAaa"
   },
   "outputs": [],
   "source": [
    "# Train your own Word2Vec model using your own text corpus\n",
    "i=0\n",
    "list_of_sentance=[]\n",
    "for sentance in preprocessed_reviews:\n",
    "    list_of_sentance.append(sentance.split())"
   ]
  },
  {
   "cell_type": "code",
   "execution_count": 32,
   "metadata": {
    "colab": {},
    "colab_type": "code",
    "id": "GIbKBSkRCAac",
    "outputId": "d72c6206-2c3f-4143-8c21-3f5b674310df",
    "scrolled": true
   },
   "outputs": [
    {
     "name": "stdout",
     "output_type": "stream",
     "text": [
      "[('snack', 0.994990348815918), ('excellent', 0.9948512315750122), ('alternative', 0.9942532777786255), ('healthy', 0.993841290473938), ('wonderful', 0.9938300848007202), ('bad', 0.993402361869812), ('care', 0.9932870864868164), ('think', 0.9929987192153931), ('calorie', 0.9928797483444214), ('tasty', 0.992759108543396)]\n",
      "==================================================\n",
      "[('hands', 0.9993962049484253), ('miss', 0.999294638633728), ('part', 0.9992890954017639), ('beef', 0.9992598295211792), ('normal', 0.9992561340332031), ('become', 0.9992489218711853), ('popper', 0.9992365837097168), ('varieties', 0.9992109537124634), ('awful', 0.99921053647995), ('wow', 0.9992046356201172)]\n"
     ]
    }
   ],
   "source": [
    "# Using Google News Word2Vectors\n",
    "\n",
    "# in this project we are using a pretrained model by google\n",
    "# its 3.3G file, once you load this into your memory \n",
    "# it occupies ~9Gb, so please do this step only if you have >12G of ram\n",
    "# we will provide a pickle file wich contains a dict , \n",
    "# and it contains all our courpus words as keys and  model[word] as values\n",
    "# To use this code-snippet, download \"GoogleNews-vectors-negative300.bin\" \n",
    "# from https://drive.google.com/file/d/0B7XkCwpI5KDYNlNUTTlSS21pQmM/edit\n",
    "# it's 1.9GB in size.\n",
    "\n",
    "\n",
    "# http://kavita-ganesan.com/gensim-word2vec-tutorial-starter-code/#.W17SRFAzZPY\n",
    "# you can comment this whole cell\n",
    "# or change these varible according to your need\n",
    "\n",
    "is_your_ram_gt_16g=False\n",
    "want_to_use_google_w2v = False\n",
    "want_to_train_w2v = True\n",
    "\n",
    "if want_to_train_w2v:\n",
    "    # min_count = 5 considers only words that occured atleast 5 times\n",
    "    w2v_model=Word2Vec(list_of_sentance,min_count=5,size=50, workers=4)\n",
    "    print(w2v_model.wv.most_similar('great'))\n",
    "    print('='*50)\n",
    "    print(w2v_model.wv.most_similar('worst'))\n",
    "    \n",
    "elif want_to_use_google_w2v and is_your_ram_gt_16g:\n",
    "    if os.path.isfile('GoogleNews-vectors-negative300.bin'):\n",
    "        w2v_model=KeyedVectors.load_word2vec_format('GoogleNews-vectors-negative300.bin', binary=True)\n",
    "        print(w2v_model.wv.most_similar('great'))\n",
    "        print(w2v_model.wv.most_similar('worst'))\n",
    "    else:\n",
    "        print(\"you don't have gogole's word2vec file, keep want_to_train_w2v = True, to train your own w2v \")"
   ]
  },
  {
   "cell_type": "code",
   "execution_count": 33,
   "metadata": {
    "colab": {},
    "colab_type": "code",
    "id": "JEJGArtUCAae",
    "outputId": "943e0fc6-83f8-455b-ba53-8dd05428fc92"
   },
   "outputs": [
    {
     "name": "stdout",
     "output_type": "stream",
     "text": [
      "number of words that occured minimum 5 times  3817\n",
      "sample words  ['product', 'available', 'course', 'total', 'pretty', 'stinky', 'right', 'nearby', 'used', 'ca', 'not', 'beat', 'great', 'received', 'shipment', 'could', 'hardly', 'wait', 'try', 'love', 'call', 'instead', 'removed', 'easily', 'daughter', 'designed', 'printed', 'use', 'car', 'windows', 'beautifully', 'shop', 'program', 'going', 'lot', 'fun', 'everywhere', 'like', 'tv', 'computer', 'really', 'good', 'idea', 'final', 'outstanding', 'window', 'everybody', 'asks', 'bought', 'made']\n"
     ]
    }
   ],
   "source": [
    "w2v_words = list(w2v_model.wv.vocab)\n",
    "print(\"number of words that occured minimum 5 times \",len(w2v_words))\n",
    "print(\"sample words \", w2v_words[0:50])"
   ]
  },
  {
   "cell_type": "markdown",
   "metadata": {
    "colab_type": "text",
    "id": "EPjGCg7UCAag"
   },
   "source": [
    "## [4.4.1] Converting text into vectors using wAvg W2V, TFIDF-W2V"
   ]
  },
  {
   "cell_type": "markdown",
   "metadata": {
    "colab_type": "text",
    "id": "oPxfYXhMCAag"
   },
   "source": [
    "#### [4.4.1.1] Avg W2v"
   ]
  },
  {
   "cell_type": "code",
   "execution_count": 34,
   "metadata": {
    "colab": {},
    "colab_type": "code",
    "id": "sB4Y18rQCAag",
    "outputId": "c9f64dac-cc89-43e3-9820-fbc18c39a69e"
   },
   "outputs": [
    {
     "name": "stderr",
     "output_type": "stream",
     "text": [
      "100%|█████████████████████████████████████| 4986/4986 [00:14<00:00, 333.28it/s]\n"
     ]
    },
    {
     "name": "stdout",
     "output_type": "stream",
     "text": [
      "4986\n",
      "50\n"
     ]
    }
   ],
   "source": [
    "# average Word2Vec\n",
    "# compute average word2vec for each review.\n",
    "sent_vectors = []; # the avg-w2v for each sentence/review is stored in this list\n",
    "for sent in tqdm(list_of_sentance): # for each review/sentence\n",
    "    sent_vec = np.zeros(50) # as word vectors are of zero length 50, you might need to change this to 300 if you use google's w2v\n",
    "    cnt_words =0; # num of words with a valid vector in the sentence/review\n",
    "    for word in sent: # for each word in a review/sentence\n",
    "        if word in w2v_words:\n",
    "            vec = w2v_model.wv[word]\n",
    "            sent_vec += vec\n",
    "            cnt_words += 1\n",
    "    if cnt_words != 0:\n",
    "        sent_vec /= cnt_words\n",
    "    sent_vectors.append(sent_vec)\n",
    "print(len(sent_vectors))\n",
    "print(len(sent_vectors[0]))"
   ]
  },
  {
   "cell_type": "markdown",
   "metadata": {
    "colab_type": "text",
    "id": "sKAEsZZLCAam"
   },
   "source": [
    "#### [4.4.1.2] TFIDF weighted W2v"
   ]
  },
  {
   "cell_type": "code",
   "execution_count": 35,
   "metadata": {
    "colab": {},
    "colab_type": "code",
    "id": "pAVTG3brCAao"
   },
   "outputs": [],
   "source": [
    "# S = [\"abc def pqr\", \"def def def abc\", \"pqr pqr def\"]\n",
    "model = TfidfVectorizer()\n",
    "model.fit(preprocessed_reviews)\n",
    "# we are converting a dictionary with word as a key, and the idf as a value\n",
    "dictionary = dict(zip(model.get_feature_names(), list(model.idf_)))"
   ]
  },
  {
   "cell_type": "code",
   "execution_count": 36,
   "metadata": {
    "colab": {},
    "colab_type": "code",
    "id": "Tyxhz3XQCAap",
    "outputId": "e72f3ca0-7d29-4657-a107-c5d678514cf3",
    "scrolled": true
   },
   "outputs": [
    {
     "name": "stderr",
     "output_type": "stream",
     "text": [
      "100%|██████████████████████████████████████| 4986/4986 [01:16<00:00, 65.11it/s]\n"
     ]
    }
   ],
   "source": [
    "# TF-IDF weighted Word2Vec\n",
    "tfidf_feat = model.get_feature_names() # tfidf words/col-names\n",
    "# final_tf_idf is the sparse matrix with row= sentence, col=word and cell_val = tfidf\n",
    "\n",
    "tfidf_sent_vectors = []; # the tfidf-w2v for each sentence/review is stored in this list\n",
    "row=0;\n",
    "for sent in tqdm(list_of_sentance): # for each review/sentence \n",
    "    sent_vec = np.zeros(50) # as word vectors are of zero length\n",
    "    weight_sum =0; # num of words with a valid vector in the sentence/review\n",
    "    for word in sent: # for each word in a review/sentence\n",
    "        if word in w2v_words and word in tfidf_feat:\n",
    "            vec = w2v_model.wv[word]\n",
    "#             tf_idf = tf_idf_matrix[row, tfidf_feat.index(word)]\n",
    "            # to reduce the computation we are \n",
    "            # dictionary[word] = idf value of word in whole courpus\n",
    "            # sent.count(word) = tf valeus of word in this review\n",
    "            tf_idf = dictionary[word]*(sent.count(word)/len(sent))\n",
    "            sent_vec += (vec * tf_idf)\n",
    "            weight_sum += tf_idf\n",
    "    if weight_sum != 0:\n",
    "        sent_vec /= weight_sum\n",
    "    tfidf_sent_vectors.append(sent_vec)\n",
    "    row += 1"
   ]
  },
  {
   "cell_type": "markdown",
   "metadata": {
    "colab_type": "text",
    "id": "IjMcxjHfCAas"
   },
   "source": [
    "# [5] Applying TSNE"
   ]
  },
  {
   "cell_type": "markdown",
   "metadata": {
    "colab_type": "text",
    "id": "SPCsfz2fCAat"
   },
   "source": [
    "<ol> \n",
    "    <li> you need to plot 4 tsne plots with each of these feature set\n",
    "        <ol>\n",
    "            <li>Review text, preprocessed one converted into vectors using (BOW)</li>\n",
    "            <li>Review text, preprocessed one converted into vectors using (TFIDF)</li>\n",
    "            <li>Review text, preprocessed one converted into vectors using (AVG W2v)</li>\n",
    "            <li>Review text, preprocessed one converted into vectors using (TFIDF W2v)</li>\n",
    "        </ol>\n",
    "    </li>\n",
    "    <li> <font color='blue'>Note 1: The TSNE accepts only dense matrices</font></li>\n",
    "    <li> <font color='blue'>Note 2: Consider only 5k to 6k data points </font></li>\n",
    "</ol>"
   ]
  },
  {
   "cell_type": "code",
   "execution_count": 45,
   "metadata": {},
   "outputs": [],
   "source": [
    "from fastTSNE import TSNE\n",
    "\n"
   ]
  },
  {
   "cell_type": "code",
   "execution_count": null,
   "metadata": {
    "colab": {
     "base_uri": "https://localhost:8080/",
     "height": 347
    },
    "colab_type": "code",
    "executionInfo": {
     "elapsed": 2114,
     "status": "ok",
     "timestamp": 1547365772849,
     "user": {
      "displayName": "Applied AI Course",
      "photoUrl": "https://lh3.googleusercontent.com/-EsJzSyawCkQ/AAAAAAAAAAI/AAAAAAAADag/xYU9KO6AZf4/s64/photo.jpg",
      "userId": "06629147635963609455"
     },
     "user_tz": -330
    },
    "id": "Z379u6ElCAat",
    "outputId": "47a20627-9d10-45c8-fe40-ecd0726e33c5"
   },
   "outputs": [],
   "source": [
    "# https://github.com/pavlin-policar/fastTSNE you can try this also, this version is little faster than sklearn \n",
    "import numpy as np\n",
    "from sklearn.manifold import TSNE\n",
    "import sklearn\n",
    "from sklearn import datasets\n",
    "import pandas as pd\n",
    "import matplotlib.pyplot as plt\n",
    "\n",
    "model = TSNE(n_components=2, random_state=0, perplexity= 850, n_iter= 5000)\n",
    "tsne_data = model.fit_transform(final_counts.toarray())\n",
    "print(\"Shape of t-SNE_reduced data = \", tsne_data.shape)\n",
    "# creating a new data frame which help us in ploting the result data\n",
    "tsne_data1 = np.vstack((tsne_data.T, amazon_data_label)).T\n",
    "tsne_df = pd.DataFrame(data=tsne_data1, columns=(\"Dim_1\", \"Dim_2\", \"label\"))"
   ]
  },
  {
   "cell_type": "markdown",
   "metadata": {
    "colab_type": "text",
    "id": "ejF91OEjCAaw"
   },
   "source": [
    "## [5.1] Applying TNSE on Text BOW vectors"
   ]
  },
  {
   "cell_type": "code",
   "execution_count": null,
   "metadata": {
    "colab": {},
    "colab_type": "code",
    "id": "rnetKp45CAaw"
   },
   "outputs": [],
   "source": [
    "# please write all the code with proper documentation, and proper titles for each subsection\n",
    "# when you plot any graph make sure you use \n",
    "    # a. Title, that describes your plot, this will be very helpful to the reader\n",
    "    # b. Legends if needed\n",
    "    # c. X-axis label\n",
    "  # d. Y-axis label\n",
    "# https://github.com/pavlin-policar/fastTSNE you can try this also, this version is little faster than sklearn \n",
    "import numpy as np\n",
    "#from openTSNE import TSNE\n",
    "from sklearn import datasets\n",
    "import pandas as pd\n",
    "import matplotlib.pyplot as plt\n",
    "\n",
    "\n",
    "x = final_counts\n",
    "y = actualScore \n",
    "x=final_counts.toarray()\n",
    "tsne = TSNE(n_components=2, perplexity=30, learning_rate=200)\n",
    "\n",
    "X_embedding = tsne.fit_transform(x,y)\n",
    "# if x is a sparse matrix you need to pass it as X_embedding = tsne.fit_transform(x.toarray()) , .toarray() will convert the sparse matrix into dense matrix\n",
    "\n",
    "for_tsne = np.hstack((X_embedding, y.reshape(-1,1)))\n",
    "for_tsne_df = pd.DataFrame(data=for_tsne, columns=['Dimension_x','Dimension_y','Score'])\n",
    "colors = {0:'red', 1:'blue', 2:'green'}\n",
    "plt.scatter(for_tsne_df['Dimension_x'], for_tsne_df['Dimension_y'], c=for_tsne_df['Score'].apply(lambda x: colors[x]))\n",
    "plt.show()"
   ]
  },
  {
   "cell_type": "markdown",
   "metadata": {
    "colab_type": "text",
    "id": "b_-boR2SCAay"
   },
   "source": [
    "## [5.1] Applying TNSE on Text TFIDF vectors"
   ]
  },
  {
   "cell_type": "code",
   "execution_count": 38,
   "metadata": {
    "colab": {},
    "colab_type": "code",
    "id": "6eBTrer9CAay"
   },
   "outputs": [],
   "source": [
    "# please write all the code with proper documentation, and proper titles for each subsection\n",
    "# when you plot any graph make sure you use \n",
    "    # a. Title, that describes your plot, this will be very helpful to the reader\n",
    "    # b. Legends if needed\n",
    "    # c. X-axis label\n",
    "    # d. Y-axis label"
   ]
  },
  {
   "cell_type": "markdown",
   "metadata": {
    "colab_type": "text",
    "id": "zln2L0SUCAa0"
   },
   "source": [
    "## [5.3] Applying TNSE on Text Avg W2V vectors"
   ]
  },
  {
   "cell_type": "code",
   "execution_count": 39,
   "metadata": {
    "colab": {},
    "colab_type": "code",
    "id": "-YnpPa54CAa0"
   },
   "outputs": [],
   "source": [
    "# please write all the code with proper documentation, and proper titles for each subsection\n",
    "# when you plot any graph make sure you use \n",
    "    # a. Title, that describes your plot, this will be very helpful to the reader\n",
    "    # b. Legends if needed\n",
    "    # c. X-axis label\n",
    "    # d. Y-axis label"
   ]
  },
  {
   "cell_type": "markdown",
   "metadata": {
    "colab_type": "text",
    "id": "RBaVF4aHCAa4"
   },
   "source": [
    "## [5.4] Applying TNSE on Text TFIDF weighted W2V vectors"
   ]
  },
  {
   "cell_type": "code",
   "execution_count": 40,
   "metadata": {
    "colab": {},
    "colab_type": "code",
    "id": "xYysToufCAa4"
   },
   "outputs": [],
   "source": [
    "# please write all the code with proper documentation, and proper titles for each subsection\n",
    "# when you plot any graph make sure you use \n",
    "    # a. Title, that describes your plot, this will be very helpful to the reader\n",
    "    # b. Legends if needed\n",
    "    # c. X-axis label\n",
    "    # d. Y-axis label"
   ]
  },
  {
   "cell_type": "markdown",
   "metadata": {
    "colab_type": "text",
    "id": "jilexiiyCAa6"
   },
   "source": [
    "# [6] Conclusions"
   ]
  },
  {
   "cell_type": "code",
   "execution_count": 41,
   "metadata": {
    "colab": {},
    "colab_type": "code",
    "id": "TroM2UQUCAa7"
   },
   "outputs": [],
   "source": [
    "# Write few sentance about the results that you got and observation that you did from the analysis"
   ]
  }
 ],
 "metadata": {
  "colab": {
   "collapsed_sections": [
    "9amw6tMZCAaL",
    "1dhfJZ7ZCAaR",
    "F--Xk5fhCAaV",
    "XnzP-eZdCAaa",
    "EPjGCg7UCAag",
    "oPxfYXhMCAag",
    "sKAEsZZLCAam",
    "ejF91OEjCAaw",
    "b_-boR2SCAay",
    "zln2L0SUCAa0",
    "RBaVF4aHCAa4"
   ],
   "name": "02 Amazon Fine Food Reviews Analysis_TSNE.ipynb",
   "provenance": [],
   "version": "0.3.2"
  },
  "kernelspec": {
   "display_name": "Python 3",
   "language": "python",
   "name": "python3"
  },
  "language_info": {
   "codemirror_mode": {
    "name": "ipython",
    "version": 3
   },
   "file_extension": ".py",
   "mimetype": "text/x-python",
   "name": "python",
   "nbconvert_exporter": "python",
   "pygments_lexer": "ipython3",
   "version": "3.7.1"
  }
 },
 "nbformat": 4,
 "nbformat_minor": 1
}
